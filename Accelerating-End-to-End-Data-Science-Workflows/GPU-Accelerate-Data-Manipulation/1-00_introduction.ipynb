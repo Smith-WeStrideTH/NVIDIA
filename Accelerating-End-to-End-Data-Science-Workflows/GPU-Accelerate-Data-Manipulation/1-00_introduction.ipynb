{
 "cells": [
  {
   "cell_type": "markdown",
   "id": "19051402",
   "metadata": {
    "tags": []
   },
   "source": [
    "<img src=\"images/nvidia_header.png\" style=\"margin-left: -30px; width: 300px; float: left;\">"
   ]
  },
  {
   "cell_type": "markdown",
   "id": "67ed6062",
   "metadata": {},
   "source": [
    "# Accelerating End-to-End Data Science Workflows #"
   ]
  },
  {
   "cell_type": "markdown",
   "id": "a65f57f0",
   "metadata": {},
   "source": [
    "## 00 - บทนำ ##\n",
    "ยินดีต้อนรับสู่หลักสูตร \"Accelerating End-to-End Data Science Workflows\" ของ NVIDIA ห้องปฏิบัติการเชิงโต้ตอบนี้จะแนะนำวิทยาการข้อมูลโดยเน้นที่ความเร็วและประสิทธิภาพ หลักสูตรนี้ออกแบบมาเพื่อช่วยให้ผู้เข้าร่วมสามารถปรับแต่งโซลูชันของตนเองได้"
   ]
  },
  {
   "cell_type": "markdown",
   "id": "50d32b6c",
   "metadata": {},
   "source": [
    "---\n",
    "\n",
    "## วัตถุประสงค์การเรียนรู้ ##\n",
    "\n",
    "ในเวิร์กช็อปนี้ คุณจะได้เรียนรู้:\n",
    "\n",
    "* ภาพรวมของวิทยาการข้อมูล (Data Science)\n",
    "* ขั้นตอนการทำงานต่าง ๆ ในวิทยาการข้อมูล (Data Science Workflows)\n",
    "* วิธีการเร่งความเร็วในการประมวลผล (How acceleration is achieved)\n",
    "* วิธีออกแบบการดำเนินงานเพื่อเพิ่มประสิทธิภาพการประมวลผล GPU สูงสุด (How to design operations to maximize GPU acceleration)\n",
    "* ผลกระทบของการเร่งความเร็ว (The implications of acceleration)"
   ]
  },
  {
   "cell_type": "markdown",
   "id": "3a02c2b6",
   "metadata": {},
   "source": [
    "\n",
    "### JupyterLab ###\n",
    "\n",
    "สำหรับห้องปฏิบัติการเชิงปฏิบัตินี้ เราใช้ [JupyterLab](https://jupyterlab.readthedocs.io/en/stable/) ในการจัดการสภาพแวดล้อมของเรา **JupyterLab Interface** คือหน้าแดชบอร์ดที่ช่วยให้เข้าถึง iPython notebooks แบบอินเทอร์แอคทีฟได้ รวมถึงโครงสร้างโฟลเดอร์ของสภาพแวดล้อมของเรา และหน้าต่าง Terminal สำหรับระบบปฏิบัติการ Ubuntu มุมมองแรกประกอบด้วย **แถบเมนู** ที่ด้านบน **ตัวสำรวจไฟล์** ใน **แถบด้านข้างซ้าย** และ **พื้นที่ทำงานหลัก** ซึ่งเปิดอยู่กับโน้ตบุ๊ก \"introduction\" นี้ในตอนแรก\n",
    "\n",
    "\n",
    "* ตัวสำรวจไฟล์สามารถใช้งานได้เหมือนกับโปรแกรมสำรวจไฟล์อื่น ๆ การดับเบิลคลิกที่รายการใด ๆ จะเป็นการเปิดแท็บใหม่พร้อมเนื้อหาของรายการนั้น\n",
    "* พื้นที่ทำงานหลักประกอบด้วยมุมมองแบบแท็บของไฟล์ที่เปิดอยู่ ซึ่งสามารถปิด ย้าย และแก้ไขได้ตามต้องการ\n",
    "* โน้ตบุ๊กต่าง ๆ รวมถึงอันนี้ด้วย ประกอบด้วย **เซลล์** เนื้อหาและโค้ดหลายชุด หากต้องการรันโค้ดในเซลล์โค้ด ให้กด `Shift+Enter` หรือปุ่ม `Run` ในแถบเมนูด้านบน ในขณะที่เซลล์นั้นถูกไฮไลต์ไว้ บางครั้ง เซลล์เนื้อหาอาจเปลี่ยนเป็นโหมดแก้ไข การรันเซลล์ด้วย `Shift+Enter` หรือปุ่ม `Run` จะเปลี่ยนกลับเป็นรูปแบบที่อ่านได้\n",
    "* หากต้องการหยุดการรันเซลล์ ให้คลิกปุ่ม `Stop` ในแถบเมนู หรือไปที่เมนู `Kernel` แล้วเลือก `Interrupt Kernel`\n",
    "* เราสามารถใช้คำสั่ง Terminal ในเซลล์โน้ตบุ๊กได้โดยใส่เครื่องหมายอัศเจรีย์ (`!`) นำหน้าคำสั่งนั้น\n",
    "* เราสามารถสร้างเซลล์อินเทอร์แอคทีฟเพิ่มเติมได้โดยคลิกปุ่ม `+` ด้านบน หรือเปลี่ยนเป็นโหมดคำสั่งด้วย `Esc` และใช้ปุ่มลัด `a` (สำหรับเซลล์ใหม่ด้านบน) และ `b` (สำหรับเซลล์ใหม่ด้านล่าง)"
   ]
  },
  {
   "cell_type": "markdown",
   "id": "4492c58d",
   "metadata": {},
   "source": [
    "\n",
    "<a name='e1'></a>\n",
    "### แบบฝึกหัดที่ 1 - ลองปฏิบัติจริง ###\n",
    "\n",
    "**คำแนะนำ**:\n",
    "\n",
    "* ลองรันคำสั่ง `print` ง่าย ๆ ในเซลล์ด้านล่างนี้\n",
    "* จากนั้นลองรันคำสั่ง Terminal ในเซลล์ถัดไป"
   ]
  },
  {
   "cell_type": "code",
   "execution_count": null,
   "id": "e69a6515",
   "metadata": {
    "scrolled": true
   },
   "outputs": [],
   "source": [
    "# DO NOT CHANGE THIS CELL\n",
    "# activate this cell by selecting it with the mouse or arrow keys then use the keyboard shortcut [Shift+Enter] to execute\n",
    "print('This is just a simple print statement.')"
   ]
  },
  {
   "cell_type": "code",
   "execution_count": null,
   "id": "e54fe372",
   "metadata": {
    "scrolled": true
   },
   "outputs": [],
   "source": [
    "# DO NOT CHANGE THIS CELL\n",
    "!echo 'This is another simple print statement.'"
   ]
  },
  {
   "cell_type": "markdown",
   "id": "c2e5151b-4842-465e-a20d-bb64af66d011",
   "metadata": {},
   "source": [
    "\n",
    "<a name='e2'></a>\n",
    "### แบบฝึกหัดที่ 2 - ตัวเร่ง GPU ที่พร้อมใช้งาน ###\n",
    "\n",
    "คำสั่ง `nvidia-smi` (NVIDIA System Management Interface) เป็นยูทิลิตี้ที่มีประสิทธิภาพสำหรับการจัดการและตรวจสอบอุปกรณ์ NVIDIA GPU คำสั่งนี้จะแสดงข้อมูลเกี่ยวกับ GPU ที่พร้อมใช้งาน, การใช้งานหน่วยความจำปัจจุบัน และกระบวนการใด ๆ ที่กำลังใช้งาน GPU เหล่านั้น\n",
    "\n",
    "**คำแนะนำ**:\n",
    "\n",
    "* รันเซลล์ด้านล่างนี้เพื่อเรียนรู้เกี่ยวกับ GPU ที่พร้อมใช้งานในสภาพแวดล้อมนี้"
   ]
  },
  {
   "cell_type": "code",
   "execution_count": null,
   "id": "08d543eb-a951-4eb9-8107-b13c01b3ac46",
   "metadata": {
    "scrolled": true
   },
   "outputs": [],
   "source": [
    "# DO NOT CHANGE THIS CELL\n",
    "!nvidia-smi"
   ]
  },
  {
   "cell_type": "markdown",
   "id": "adee74e3-613a-4986-be34-ff3ae113ccc7",
   "metadata": {},
   "source": [
    "\n",
    "**หมายเหตุ**: ปัจจุบัน การใช้หน่วยความจำ GPU ยังน้อยมาก และไม่มีกระบวนการใดกำลังใช้งาน GPU อยู่ ตลอดเซสชันของเรา เราจะใช้คำสั่งนี้เพื่อตรวจสอบการใช้หน่วยความจำ เมื่อทำการวิเคราะห์ข้อมูลที่ใช้ GPU ควรเหลือหน่วยความจำ GPU ว่างไว้ประมาณ 50% เพื่อให้สามารถดำเนินการที่อาจขยายข้อมูลที่จัดเก็บไว้ในอุปกรณ์ได้"
   ]
  },
  {
   "cell_type": "markdown",
   "id": "f0839f2e-dfe3-4d8f-8010-ed8445c171fb",
   "metadata": {},
   "source": [
    "\n",
    "\n",
    "<a name='e3'></a>\n",
    "### แบบฝึกหัดที่ 3 - คำสั่ง Magic Commands ###\n",
    "\n",
    "สภาพแวดล้อม Jupyter มาพร้อมกับคำสั่ง *magic* ซึ่งสามารถสังเกตได้จากการมี `%` หรือ `%%` เราจะใช้คำสั่ง magic สองคำสั่งนี้บ่อยมากในเวิร์กช็อปนี้:\n",
    "\n",
    "* `%time`: พิมพ์ข้อมูลสรุปเกี่ยวกับระยะเวลาที่ใช้ในการรันโค้ดสำหรับโค้ดบรรทัดเดียว\n",
    "* `%%time`: พิมพ์ข้อมูลสรุปเกี่ยวกับระยะเวลาที่ใช้ในการรันโค้ดสำหรับทั้งเซลล์\n",
    "\n",
    "**คำแนะนำ**:\n",
    "\n",
    "* รันเซลล์ด้านล่างนี้เพื่อ import ไลบรารี `time`\n",
    "* รันเซลล์ด้านล่างเพื่อจับเวลาโค้ดบรรทัดเดียว\n",
    "* รันเซลล์ด้านล่างเพื่อจับเวลาทั้งเซลล์"
   ]
  },
  {
   "cell_type": "code",
   "execution_count": null,
   "id": "b1c34489-7812-4ffe-bd2e-748a52903481",
   "metadata": {},
   "outputs": [],
   "source": [
    "# DO NOT CHANGE THIS CELL\n",
    "from time import sleep"
   ]
  },
  {
   "cell_type": "code",
   "execution_count": null,
   "id": "db1d5de9-f6e6-4984-8c32-f13b51aa27db",
   "metadata": {
    "scrolled": true
   },
   "outputs": [],
   "source": [
    "# DO NOT CHANGE THIS CELL\n",
    "# %time only times one line\n",
    "%time sleep(1) \n",
    "sleep(1)"
   ]
  },
  {
   "cell_type": "code",
   "execution_count": null,
   "id": "daf2f6f0-58a9-43a5-af8f-0b69b4a2a3a8",
   "metadata": {
    "scrolled": true
   },
   "outputs": [],
   "source": [
    "%%time\n",
    "# DO NOT CHANGE THIS CELL\n",
    "# %%time will time the entire cell\n",
    "sleep(1)\n",
    "sleep(1)"
   ]
  },
  {
   "cell_type": "markdown",
   "id": "42ed873e-f7b5-4668-8e96-ce31d53d43b1",
   "metadata": {},
   "source": [
    "\n",
    "<a name='e4'></a>\n",
    "### แบบฝึกหัดที่ 4 - Jupyter Kernels และ GPU Memory ###\n",
    "\n",
    "ส่วนประมวลผลเบื้องหลังของ Jupyter เรียกว่า **kernel** สภาพแวดล้อม Jupyter จะเริ่มต้น kernel แยกต่างหากสำหรับโน้ตบุ๊กใหม่แต่ละอัน โน้ตบุ๊กจำนวนมากในเวิร์กช็อปนี้ออกแบบมาให้ทำงานได้ด้วยตัวเองในส่วนของหน่วยความจำและการประมวลผล\n",
    "\n",
    "เพื่อให้แน่ใจว่าเรามีหน่วยความจำและการประมวลผลเพียงพอสำหรับแต่ละโน้ตบุ๊ก เราสามารถล้างหน่วยความจำเมื่อจบโน้ตบุ๊กแต่ละอันได้สองวิธี:\n",
    "1. ปิด kernel ด้วย `ipykernel.kernelapp.IPKernelApp.do_shutdown()` หรือ\n",
    "2. ปิด kernel ผ่านแผง *Running Terminals and Kernels*\n",
    "\n",
    "**คำแนะนำ**:\n",
    "* รันเซลล์ด้านล่างเพื่อปิดและเริ่มต้น kernel ปัจจุบันใหม่\n",
    "* ปิด kernel ปัจจุบันผ่านแผง *Running Terminals and Kernels*\n",
    "\n",
    "\n",
    "**หมายเหตุ**: การรีสตาร์ท kernel จากเมนู *Kernel* จะล้างเฉพาะหน่วยความจำสำหรับ **kernel ของโน้ตบุ๊กปัจจุบัน** เท่านั้น ในขณะที่โน้ตบุ๊กอื่น ๆ ที่เราไม่ได้กำลังทำงานอยู่อาจยังมีหน่วยความจำที่ถูกจัดสรรไว้สำหรับ **kernel เฉพาะของพวกมัน**"
   ]
  },
  {
   "cell_type": "code",
   "execution_count": null,
   "id": "98e05b77-6019-428b-8e18-a2477692ef6f",
   "metadata": {
    "scrolled": true
   },
   "outputs": [],
   "source": [
    "# DO NOT CHANGE THIS CELL\n",
    "import IPython\n",
    "app = IPython.Application.instance()\n",
    "app.kernel.do_shutdown(True)"
   ]
  },
  {
   "cell_type": "markdown",
   "id": "0321075e-433e-42d4-b849-de3fa17b54e1",
   "metadata": {},
   "source": [
    "---\n",
    "\n",
    "**หมายเหตุ**: การรันโค้ดเซลล์ที่ให้มาจะปิด kernel และมีป๊อปอัปขึ้นมาแจ้งว่า kernel ได้เริ่มต้นใหม่แล้ว\n",
    "\n",
    "**ทำได้ดีมาก!** ไปยัง [โน้ตบุ๊กถัดไป](1-01_section_overview.ipynb) กันเลย"
   ]
  }
 ],
 "metadata": {
  "kernelspec": {
   "display_name": "Python 3 (ipykernel)",
   "language": "python",
   "name": "python3"
  },
  "language_info": {
   "codemirror_mode": {
    "name": "ipython",
    "version": 3
   },
   "file_extension": ".py",
   "mimetype": "text/x-python",
   "name": "python",
   "nbconvert_exporter": "python",
   "pygments_lexer": "ipython3",
   "version": "3.10.15"
  }
 },
 "nbformat": 4,
 "nbformat_minor": 5
}
