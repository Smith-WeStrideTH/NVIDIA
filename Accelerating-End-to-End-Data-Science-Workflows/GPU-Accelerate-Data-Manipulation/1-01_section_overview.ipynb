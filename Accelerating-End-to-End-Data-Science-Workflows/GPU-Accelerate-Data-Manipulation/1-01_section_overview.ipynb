{
 "cells": [
  {
   "cell_type": "markdown",
   "id": "b53a7b12-538d-4459-b82a-a35c8c417849",
   "metadata": {},
   "source": [
    "<img src=\"images/nvidia_header.png\" style=\"margin-left: -30px; width: 300px; float: left;\">"
   ]
  },
  {
   "cell_type": "markdown",
   "id": "ae497b71-bc43-471e-8970-88a1878e7cf9",
   "metadata": {},
   "source": [
    "# Accelerating End-to-End Data Science Workflows # "
   ]
  },
  {
   "cell_type": "markdown",
   "id": "3a61cc06-80da-4f73-ba61-8ff1b5af71d8",
   "metadata": {},
   "source": [
    "\n",
    "## 01 - ภาพรวมของส่วนนี้ ##\n",
    "\n",
    "**สารบัญ**\n",
    "\n",
    "ส่วนนี้จะเน้นที่การประมวลผลข้อมูล เราจะได้ทำงานกับชุดข้อมูลหลายชุด ดำเนินการวิเคราะห์ระดับสูง และเตรียมข้อมูลสำหรับงาน Machine Learning ที่จะตามมา\n",
    "\n",
    "* **1-01_section_overview.ipynb**\n",
    "* **1-02_data_manipulation.ipynb**\n",
    "* **1-03_memory_management.ipynb**\n",
    "* **1-04_interoperability.ipynb**\n",
    "* **1-05_grouping.ipynb**\n",
    "* **1-06_data_visualization.ipynb**\n",
    "* **1-07_etl.ipynb**\n",
    "* **1-08_cudf-polars.ipynb**\n",
    "* **1-09_dask-cudf.ipynb**"
   ]
  },
  {
   "cell_type": "markdown",
   "id": "9b1485a5-00e8-4495-85b0-b48671674818",
   "metadata": {},
   "source": [
    "**เยี่ยมมาก!** ไปยัง [โน้ตบุ๊กถัดไป](1-02_data_manipulation.ipynb) กันเลย"
   ]
  }
 ],
 "metadata": {
  "kernelspec": {
   "display_name": "Python 3 (ipykernel)",
   "language": "python",
   "name": "python3"
  },
  "language_info": {
   "codemirror_mode": {
    "name": "ipython",
    "version": 3
   },
   "file_extension": ".py",
   "mimetype": "text/x-python",
   "name": "python",
   "nbconvert_exporter": "python",
   "pygments_lexer": "ipython3",
   "version": "3.10.15"
  }
 },
 "nbformat": 4,
 "nbformat_minor": 5
}
