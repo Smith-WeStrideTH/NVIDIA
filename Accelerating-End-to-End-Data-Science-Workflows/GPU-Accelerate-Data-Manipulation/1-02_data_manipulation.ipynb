{
 "cells": [
  {
   "cell_type": "markdown",
   "id": "b53a7b12-538d-4459-b82a-a35c8c417849",
   "metadata": {},
   "source": [
    "<img src=\"images/nvidia_header.png\" style=\"margin-left: -30px; width: 300px; float: left;\">"
   ]
  },
  {
   "cell_type": "markdown",
   "id": "ae497b71-bc43-471e-8970-88a1878e7cf9",
   "metadata": {},
   "source": [
    "# Accelerating End-to-End Data Science Workflows # "
   ]
  },
  {
   "cell_type": "markdown",
   "id": "a149b6d1-1880-4a5d-9d71-f963d3097aa4",
   "metadata": {},
   "source": [
    "\n",
    "## 02 - การจัดการข้อมูล (Data Manipulation) ##\n",
    "\n",
    "**สารบัญ**\n",
    "\n",
    "โน้ตบุ๊กนี้จะสำรวจพื้นฐานของการได้มาซึ่งข้อมูลและการจัดการข้อมูลโดยใช้ DataFrame API ซึ่งครอบคลุมเทคนิคที่จำเป็นสำหรับการจัดการและประมวลผลชุดข้อมูล โน้ตบุ๊กนี้ครอบคลุมส่วนต่าง ๆ ดังนี้:\n",
    "\n",
    "1.  [ที่มาของข้อมูล (Data Background)](#Data-Background)\n",
    "2.  [cuDF และ pandas](#cuDF-and-pandas)\n",
    "    * [pandas](#pandas)\n",
    "    * [cuDF](#cuDF)\n",
    "3.  [การได้มาซึ่งข้อมูล (Data Acquisition)](#Data-Acquisition)\n",
    "4.  [การสำรวจข้อมูลเบื้องต้น (Initial Data Exploration)](#Initial-Data-Exploration)\n",
    "5.  [การจัดทำดัชนีและการเลือกข้อมูลด้วย `.loc` Accessor](#Indexing-and-Data-Selection-with-.loc-Accessor)\n",
    "6.  [การดำเนินการพื้นฐาน (Basic Operations)](#Basic-Operations)\n",
    "    * [แบบฝึกหัดที่ 1 - แปลงคอลัมน์ `county` เป็น Title Case](#Exercise-#1---Convert-county-Column-to-Title-Case)\n",
    "7.  [การรวมข้อมูล (Aggregation)](#Aggregation)\n",
    "8.  [การใช้ฟังก์ชันที่ผู้ใช้กำหนด (UDFs) ด้วย `.map()` และ `.apply()`](#Applying-User-Defined-Functions-(UDFs)-with-.map()-and-.apply())\n",
    "9.  [การกรองข้อมูลด้วย `.loc` และ Boolean Mask](#Filtering-with-.loc-and-Boolean-Mask)\n",
    "    * [แบบฝึกหัดที่ 2 - มณฑลทางเหนือของ Sunderland](#Exercise-#2---Counties-North-of-Sunderland)\n",
    "10. [การสร้างคอลัมน์ใหม่ (Creating New Columns)](#Creating-New-Columns)\n",
    "11. [pandas vs. cuDF](#pandas-vs.-cuDF)\n",
    "12. [cuDF pandas](#cuDF-pandas)\n",
    "    * [แบบฝึกหัดที่ 3 - การเร่งความเร็วอัตโนมัติ (Automatic Acceleration)](#Exercise-#3---Automatic-Acceleration)"
   ]
  },
  {
   "cell_type": "markdown",
   "id": "8b739635-4883-40b2-94e9-7a08f853871c",
   "metadata": {},
   "source": [
    "\n",
    "## ข้อมูลเบื้องหลัง ##\n",
    "\n",
    "สำหรับเวิร์กช็อปนี้ เราจะอ่านข้อมูลเกือบ **60 ล้านรายการ** (ซึ่งเทียบเท่ากับประชากรทั้งหมดของอังกฤษและเวลส์) โดยข้อมูลเหล่านี้ถูกสังเคราะห์ขึ้นจากข้อมูลสำมะโนประชากรอย่างเป็นทางการของสหราชอาณาจักร\n"
   ]
  },
  {
   "cell_type": "markdown",
   "id": "95e6bbed-1c08-4002-837c-392d5a12658f",
   "metadata": {},
   "source": [
    "## cuDF และ pandas ##"
   ]
  },
  {
   "cell_type": "markdown",
   "id": "050926cb-1dee-447a-9da8-49ebb1292d55",
   "metadata": {},
   "source": [
    "\n",
    "### pandas ###\n",
    "\n",
    "[pandas](https://pandas.pydata.org/) เป็นไลบรารีโอเพนซอร์สที่ใช้กันอย่างแพร่หลายสำหรับการจัดการและวิเคราะห์ข้อมูลใน Python มีโครงสร้างข้อมูลและเครื่องมือที่มีประสิทธิภาพสูง ใช้งานง่าย สำหรับการทำงานกับข้อมูลที่มีโครงสร้าง เป็นที่นิยมในคำว่า DataFrame ซึ่งเป็นโครงสร้างข้อมูลสำหรับการคำนวณทางสถิติ ในวิทยาการข้อมูล pandas ถูกใช้สำหรับ:\n",
    "\n",
    "* **การโหลดและเขียนข้อมูล**: อ่านและเขียนจากรูปแบบไฟล์ต่างๆ เช่น CSV, Excel, JSON และฐานข้อมูล SQL\n",
    "* **การทำความสะอาดและประมวลผล/เตรียมข้อมูล**: ช่วยผู้ใช้ในการจัดการข้อมูลที่ขาดหายไป การรวมชุดข้อมูล และการปรับรูปร่างข้อมูล\n",
    "* **การวิเคราะห์ข้อมูล**: ดำเนินการจัดกลุ่ม, การรวมข้อมูล และการดำเนินการทางสถิติ\n",
    "\n",
    "**หมายเหตุ**: การเตรียมข้อมูล (Data preprocessing) หมายถึงกระบวนการแปลงข้อมูลดิบให้อยู่ในรูปแบบที่เหมาะสมกับการวิเคราะห์และงานอื่น ๆ ที่จะตามมา"
   ]
  },
  {
   "cell_type": "markdown",
   "id": "79e09f10-be1d-4ffe-9247-1e605e3f450f",
   "metadata": {},
   "source": [
    "\n",
    "### cuDF ###\n",
    "\n",
    "ในทำนองเดียวกัน [cuDF](https://docs.rapids.ai/api/cudf/stable/) เป็นไลบรารี Python GPU DataFrame สำหรับการโหลด, การรวม, การรวมกลุ่ม, การกรอง และการจัดการข้อมูลอื่น ๆ cuDF ได้รับการออกแบบมาเพื่อเร่งเวิร์กโฟลว์วิทยาการข้อมูลโดยใช้ประโยชน์จากพลังการประมวลผลแบบขนานของ GPU ซึ่งอาจให้ความเร็วที่เพิ่มขึ้นอย่างมีนัยสำคัญเมื่อเทียบกับทางเลือกที่ใช้ CPU สำหรับชุดข้อมูลขนาดใหญ่ คุณสมบัติหลักของ cuDF ได้แก่:\n",
    "\n",
    "* **การเร่งความเร็วด้วย GPU**: ใช้ประโยชน์จาก NVIDIA GPU เพื่อการประมวลผลและวิเคราะห์ข้อมูลที่รวดเร็ว\n",
    "* **API ที่คล้าย pandas**: มอบอินเทอร์เฟซที่คุ้นเคยให้กับผู้ใช้และการเปลี่ยนไปใช้การประมวลผลบน GPU\n",
    "* **การรวมเข้ากับไลบรารี RAPIDS อื่น ๆ**: ทำงานร่วมกันได้อย่างราบรื่นกับเครื่องมือเร่งความเร็วด้วย GPU อื่น ๆ ในระบบนิเวศของ RAPIDS"
   ]
  },
  {
   "cell_type": "markdown",
   "id": "ff5519e2-f77f-4160-b362-979301705733",
   "metadata": {},
   "source": [
    "\n",
    "**หมายเหตุ**: ทั้ง Pandas และ cuDF มีวัตถุประสงค์คล้ายกันในการจัดการและวิเคราะห์ข้อมูล แต่ cuDF ได้รับการปรับแต่งเป็นพิเศษสำหรับการเร่งความเร็วด้วย GPU ทำให้มีประโยชน์อย่างยิ่งสำหรับการทำงานกับชุดข้อมูลขนาดใหญ่ที่ประสิทธิภาพเป็นสิ่งสำคัญ"
   ]
  },
  {
   "cell_type": "markdown",
   "id": "770fb1d8-73c5-4c45-a1e4-599f66e6b833",
   "metadata": {},
   "source": [
    "## การได้มาซึ่งข้อมูล (Data Acquisition) ##\n",
    "\n",
    "ในบริบทของเรา การได้มาซึ่งข้อมูลหมายถึงกระบวนการรวบรวมและนำเข้าข้อมูลจากแหล่งต่าง ๆ เข้าสู่สภาพแวดล้อม Python เพื่อการวิเคราะห์ ประมวลผล และจัดการข้อมูล ข้อมูลสามารถมาจากแหล่งที่หลากหลาย:\n",
    "\n",
    "* ไฟล์ภายในเครื่องในรูปแบบต่าง ๆ\n",
    "* ฐานข้อมูล\n",
    "* API\n",
    "* การดึงข้อมูลจากเว็บ (Web scraping)\n",
    "\n",
    "เป็นที่น่าสังเกตว่า ระบบนิเวศไลบรารีที่หลากหลายของ Python ทำให้มีความสามารถรอบด้านในการดึงข้อมูลจากแหล่งต่าง ๆ ทำให้นักวิทยาศาสตร์ข้อมูลสามารถทำงานกับชุดข้อมูลที่หลากหลายได้อย่างมีประสิทธิภาพ การประมวลผลด้วย CPU จะรับผิดชอบในการดึงข้อมูลจาก API หรือการดึงข้อมูลจากเว็บ ในกรณีส่วนใหญ่ แบนด์วิดท์เครือข่ายน่าจะเป็นคอขวด ยิ่งไปกว่านั้น cuDF ไม่มีวิธีในการดึงข้อมูลธุรกรรมจากฐานข้อมูล SQL เข้าสู่หน่วยความจำ GPU ได้โดยตรง แนวทางที่แนะนำสำหรับการอ่านข้อมูลจากฐานข้อมูลคือการใช้วิธีการที่ใช้ CPU ก่อน (เช่น pandas) จากนั้นแปลงเป็น cuDF สำหรับการประมวลผลที่เร่งความเร็วด้วย GPU\n",
    "\n",
    "ด้านล่างนี้ เราใช้คำสั่ง `head` ของ Linux เพื่อแสดงส่วนเริ่มต้นของไฟล์ข้อมูล ซึ่งช่วยให้เราเข้าใจวิธีการอ่านข้อมูลได้อย่างถูกต้อง"
   ]
  },
  {
   "cell_type": "code",
   "execution_count": null,
   "id": "247d2b96-1bce-4e26-89bd-d659df3528d7",
   "metadata": {
    "scrolled": true
   },
   "outputs": [],
   "source": [
    "# DO NOT CHANGE THIS CELL\n",
    "!head -n 5 data/uk_pop.csv"
   ]
  },
  {
   "cell_type": "markdown",
   "id": "be7bd168-eb68-45cc-8009-64569974a187",
   "metadata": {},
   "source": [
    "หนึ่งแถวจะแสดงถึงหนึ่งคน เรามีข้อมูลเกี่ยวกับ `age` (อายุ), `sex` (เพศ), `county` (มณฑล), ตำแหน่งที่ตั้ง (location) และ `name` (ชื่อ) ของพวกเขา ด้วย cuDF ซึ่งเป็น RAPIDS API ที่ให้ GPU-accelerated DataFrame เราสามารถอ่านข้อมูลจาก [รูปแบบที่หลากหลาย](https://rapidsai.github.io/projects/cudf/en/0.10.0/api.html#module-cudf.io.csv) รวมถึง csv, json, parquet, feather, orc และ pandas DataFrames เป็นต้น"
   ]
  },
  {
   "cell_type": "code",
   "execution_count": null,
   "id": "89c435b1-35d5-4971-ade1-549ae77d22db",
   "metadata": {},
   "outputs": [],
   "source": [
    "# DO NOT CHANGE THIS CELL\n",
    "import cudf\n",
    "import cupy as cp\n",
    "import numpy as np\n",
    "\n",
    "from datetime import datetime\n",
    "import random\n",
    "import time"
   ]
  },
  {
   "cell_type": "markdown",
   "id": "9cb9faf3-4dc9-42bf-b481-98fb4155033e",
   "metadata": {},
   "source": [
    "ด้านล่างนี้ เราจะอ่านข้อมูลจากไฟล์ CSV ในเครื่องโดยตรงไปยังหน่วยความจำ GPU ด้วยฟังก์ชัน `read_csv()`"
   ]
  },
  {
   "cell_type": "code",
   "execution_count": null,
   "id": "a343a943-fd64-45f6-abd5-a991810cf5f3",
   "metadata": {
    "scrolled": true
   },
   "outputs": [],
   "source": [
    "# DO NOT CHANGE THIS CELL\n",
    "start=time.time()\n",
    "df=cudf.read_csv('./data/uk_pop.csv')\n",
    "print(f'Duration: {round(time.time()-start, 2)} seconds')"
   ]
  },
  {
   "cell_type": "markdown",
   "id": "c406541c-884a-49c3-b5cb-7aaf21b60403",
   "metadata": {},
   "source": [
    "**หมายเหตุ**: เนื่องจากการจัดการหน่วยความจำ GPU ที่ซับซ้อนเบื้องหลังใน cuDF การโหลดข้อมูลครั้งแรกเข้าสู่สภาพแวดล้อมหน่วยความจำ RAPIDS ที่เพิ่งเริ่มต้นใหม่บางครั้งจะช้ากว่าการโหลดครั้งถัดไปอย่างมาก [RAPIDS Memory Manager](https://github.com/rapidsai/rmm) กำลังเตรียมหน่วยความจำเพิ่มเติมเพื่อรองรับการดำเนินการวิทยาการข้อมูลที่หลากหลายที่เราอาจสนใจใช้กับข้อมูล แทนที่จะจัดสรรและยกเลิกการจัดสรรหน่วยความจำซ้ำๆ ตลอดเวิร์กโฟลว์\n",
    "\n",
    "ด้านล่างนี้ เราจะได้รับข้อมูลทั่วไปเกี่ยวกับ DataFrame ด้วยเมธอด `DataFrame.info()`"
   ]
  },
  {
   "cell_type": "code",
   "execution_count": null,
   "id": "18cd5602-9129-4809-a95f-1e30940558c5",
   "metadata": {
    "scrolled": true
   },
   "outputs": [],
   "source": [
    "# DO NOT CHANGE THIS CELL\n",
    "df.info(memory_usage='deep')"
   ]
  },
  {
   "cell_type": "markdown",
   "id": "a8289385-f1ac-4ccd-8ba4-6b127b200b42",
   "metadata": {},
   "source": [
    "**DataFrame** คือโครงสร้างข้อมูลสองมิติที่มีป้ายกำกับ จัดเรียงเป็นแถวและคอลัมน์ คล้ายกับสเปรดชีตหรือตาราง SQL ทั้งแถวและคอลัมน์มีป้ายกำกับ โดยทั่วไปแถวจะถูกกำกับด้วยดัชนี ในขณะที่คอลัมน์มีชื่อคอลัมน์ ข้อมูลจะถูกจัดเรียงตามป้ายกำกับแถวและคอลัมน์เมื่อทำการดำเนินการ ซึ่งมีประโยชน์สำหรับการเปิดใช้งานการดำเนินการแบบเวกเตอร์ที่มีประสิทธิภาพสูงทั่วทั้งคอลัมน์หรือแถว **Series** หมายถึงอาร์เรย์หนึ่งมิติและโดยทั่วไปจะเกี่ยวข้องกับคอลัมน์เดียวของข้อมูลที่มีดัชนี\n",
    "\n",
    "มีข้อมูลประมาณ 60 ล้านรายการใน 6 คอลัมน์ cuDF สามารถอ่านข้อมูลจากไฟล์ในเครื่องโดยตรงไปยัง GPU ได้อย่างมีประสิทธิภาพมาก โดยค่าเริ่มต้น cuDF จะสุ่มตัวอย่างชุดข้อมูลเพื่ออนุมานประเภทข้อมูลที่เหมาะสมที่สุดสำหรับแต่ละคอลัมน์\n",
    "\n",
    "**หมายเหตุ**: DataFrame มีคุณลักษณะ `.dtypes` และ `.columns` ที่สามารถใช้เพื่อรับข้อมูลที่คล้ายกันได้"
   ]
  },
  {
   "cell_type": "markdown",
   "id": "af6127ab-437e-4a60-b9bd-5f9671c10602",
   "metadata": {},
   "source": [
    "\n",
    "## การสำรวจข้อมูลเบื้องต้น ##\n",
    "\n",
    "เมื่อเราโหลดข้อมูลเข้ามาแล้ว มาลองสำรวจข้อมูลเบื้องต้นกัน\n",
    "\n",
    "ด้านล่างนี้เราจะดูตัวอย่าง DataFrame ด้วยเมธอด `DataFrame.head()`"
   ]
  },
  {
   "cell_type": "code",
   "execution_count": null,
   "id": "7faf372e-644c-4120-8080-779f3a23a152",
   "metadata": {
    "scrolled": true
   },
   "outputs": [],
   "source": [
    "# DO NOT CHANGE THIS CELL\n",
    "df.head()"
   ]
  },
  {
   "cell_type": "markdown",
   "id": "ee4649b1-2730-47e9-a9d7-331fe7514241",
   "metadata": {},
   "source": [
    "\n",
    "## การจัดทำดัชนีและการเลือกข้อมูลด้วย `.loc` Accessor ##\n",
    "\n",
    "`.loc` accessor ใน cuDF DataFrames ใช้สำหรับการทำดัชนีและการเลือกข้อมูลโดยใช้ชื่อกำกับ (label-based) ซึ่งช่วยให้เราสามารถเข้าถึงและจัดการข้อมูลใน DataFrame โดยอิงตามชื่อกำกับของแถวและคอลัมน์ เราสามารถใช้ `DataFrame.loc[row_label(s), column_label(s)]` เพื่อเข้าถึงกลุ่มของแถวและคอลัมน์ เมื่อเลือกชื่อกำกับหลายชื่อ จะใช้ลิสต์ (`[]`) นอกจากนี้ เรายังสามารถใช้ตัวดำเนินการ slice (`:`, เช่น `start:end`) เพื่อระบุช่วงขององค์ประกอบได้"
   ]
  },
  {
   "cell_type": "code",
   "execution_count": null,
   "id": "40d63289-8f23-424c-b3f4-0b7098c9b5a1",
   "metadata": {
    "scrolled": true
   },
   "outputs": [],
   "source": [
    "# DO NOT CHANGE THIS CELL\n",
    "# get first cell\n",
    "display(df.loc[0, 'age'])\n",
    "print('-'*40)\n",
    "\n",
    "# get multiple rows and columns\n",
    "display(df.loc[[0, 1, 2], ['age', 'sex', 'county']])\n",
    "print('-'*40)\n",
    "\n",
    "# slice a range of rows and columns\n",
    "display(df.loc[0:5, 'age':'county'])\n",
    "print('-'*40)\n",
    "\n",
    "# slice a range of rows and columns\n",
    "display(df.loc[:10, :'name'])"
   ]
  },
  {
   "cell_type": "markdown",
   "id": "a451118f-b986-49b6-ae03-2526e44007a7",
   "metadata": {},
   "source": [
    "\n",
    "**หมายเหตุ**: `df[column_label(s)]` เป็นอีกวิธีหนึ่งในการเข้าถึงคอลัมน์ที่ต้องการ คล้ายกับ `df.loc[:, column_labels]`"
   ]
  },
  {
   "cell_type": "markdown",
   "id": "055f8828-db5b-419a-aab5-bf149b9fd829",
   "metadata": {},
   "source": [
    "## การดำเนินการพื้นฐาน (Basic Operations) ##\n",
    "\n",
    "cuDF รองรับการดำเนินการที่หลากหลายสำหรับข้อมูลตัวเลข แม้ว่าสตริงจะไม่ใช่ชนิดข้อมูลที่เกี่ยวข้องกับ GPU ตามปกติ แต่ cuDF ก็รองรับการดำเนินการสตริงที่เร่งความเร็วอย่างมีประสิทธิภาพ\n",
    "* การดำเนินการตัวเลข:\n",
    "    * การดำเนินการทางคณิตศาสตร์: การบวก, การลบ, การคูณ, การหาร\n",
    "* การดำเนินการสตริง:\n",
    "    * การแปลงตัวพิมพ์: `.upper()`, `.lower()`, `.title()`\n",
    "    * การจัดการสตริง: การเชื่อมต่อ, สตริงย่อย, การแยก, การเติม\n",
    "    * การจับคู่รูปแบบ: `contains()`\n",
    "    * การแยก: `.split()`\n",
    "* การดำเนินการเปรียบเทียบ: มากกว่า, น้อยกว่า, เท่ากับ, เป็นต้น\n",
    "\n",
    "การดำเนินการเหล่านี้จะถูกดำเนินการทีละองค์ประกอบสำหรับแต่ละแถว สิ่งนี้ช่วยให้สามารถดำเนินการ **vectorized operations** ได้อย่างมีประสิทธิภาพทั่วทั้งคอลัมน์ การดำเนินการเหล่านี้ถูกนำไปใช้เป็นการดำเนินการแบบเวกเตอร์แทนการวนซ้ำ เนื่องจากการดำเนินการแบบเวกเตอร์สามารถนำไปใช้กับอาร์เรย์ข้อมูลทั้งหมดได้ แทนที่จะวนซ้ำแต่ละองค์ประกอบทีละรายการ การสร้างเวกเตอร์เร็วกว่าการวนซ้ำแต่ละองค์ประกอบอย่างมาก โดยเฉพาะอย่างยิ่งสำหรับชุดข้อมูลขนาดใหญ่ เมื่อดำเนินการกับหลายคอลัมน์ การดำเนินการจะถูกจัดเรียงตามดัชนี ทำให้มั่นใจได้ว่าการคำนวณจะดำเนินการกับองค์ประกอบที่ถูกต้องที่สอดคล้องกันทั่วทั้งคอลัมน์ การดำเนินการทีละองค์ประกอบเหล่านี้มักจะได้รับการปรับให้เหมาะสมอย่างสูงและสามารถเร็วกว่าการวนซ้ำแบบชัดเจนมาก โดยเฉพาะอย่างยิ่งสำหรับชุดข้อมูลขนาดใหญ่ เราสามารถรับอาร์เรย์ข้อมูลพื้นฐานได้ด้วยคุณสมบัติ `.values` ซึ่งมีประโยชน์เมื่อเราต้องการดำเนินการกับข้อมูลพื้นฐาน\n",
    "\n",
    "**หมายเหตุ**: ไม่รองรับการวนซ้ำบน cuDF Series, DataFrame หรือ Index เนื่องจาก การวนซ้ำข้อมูลที่อยู่บน GPU จะให้ประสิทธิภาพที่แย่มาก เนื่องจาก GPU ได้รับการปรับให้เหมาะสมสำหรับการดำเนินการแบบขนานสูงมากกว่าการดำเนินการแบบลำดับ\n",
    "\n",
    "ด้านล่างนี้เราจะคำนวณปีเกิดของแต่ละบุคคล"
   ]
  },
  {
   "cell_type": "code",
   "execution_count": null,
   "id": "d4286299-3a43-4e53-a9fb-04e1f20a40a4",
   "metadata": {
    "scrolled": true
   },
   "outputs": [],
   "source": [
    "# DO NOT CHANGE THIS CELL\n",
    "# get current year\n",
    "current_year=datetime.now().year\n",
    "\n",
    "# derive the birth year\n",
    "display(current_year-df.loc[:, 'age'])\n",
    "\n",
    "# get the age array (CuPy for cuDF)\n",
    "age_ary=df.loc[:, 'age'].values\n",
    "\n",
    "# derive the birth year\n",
    "current_year-age_ary"
   ]
  },
  {
   "cell_type": "markdown",
   "id": "00213228-e32e-4a88-853e-eef53fad4da8",
   "metadata": {},
   "source": [
    "เมื่อดำเนินการระหว่าง DataFrame กับค่าสเกลาร์ ค่าสเกลาร์จะถูก \"broadcast\" เพื่อให้ตรงกับรูปร่างของ DataFrame ซึ่งจะนำไปใช้กับแต่ละองค์ประกอบโดยอัตโนมัติ\n",
    "\n",
    "\n",
    "\n",
    "```\n",
    "current_year - df.loc[:, 'age']\n",
    "-------------------------------\n",
    "  (scalar)          (array)    \n",
    "    2024,    -         0\n",
    "    2024,    -         0\n",
    "    2024,    -         0\n",
    "    2024,    -         0\n",
    "    2024,    -         0\n",
    "    ...      -         ...\n",
    "```\n",
    "\n",
    "นี่เป็นส่วนหนึ่งที่อธิบายว่าทำไม cuDF จึงให้ประสิทธิภาพที่ดีขึ้นอย่างมากเมื่อเทียบกับ pandas โดยเฉพาะอย่างยิ่งสำหรับชุดข้อมูลขนาดใหญ่ สถาปัตยกรรมการประมวลผลแบบขนานของ GPU ถูกออกแบบมาพร้อมกับคอร์ขนาดเล็กและเฉพาะทางหลายพันคอร์ที่สามารถดำเนินการหลายคำสั่งพร้อมกันได้ สถาปัตยกรรมนี้เหมาะอย่างยิ่งสำหรับการดำเนินการแบบเวกเตอร์ ซึ่งจะดำเนินการคำสั่งเดียวกันกับองค์ประกอบข้อมูลหลายรายการพร้อมกัน"
   ]
  },
  {
   "cell_type": "markdown",
   "id": "760a2729-9c7a-4602-83ac-5e171cc4f5f9",
   "metadata": {},
   "source": [
    "\n",
    "<a name='s4.1'></a>\n",
    "### แบบฝึกหัดที่ 1 - แปลงคอลัมน์ `county` เป็น Title Case ###\n",
    "\n",
    "จากข้อมูลที่มีอยู่ ทุกมณฑลเป็นตัวพิมพ์ใหญ่ทั้งหมด เราต้องการแปลงคอลัมน์ `county` ให้เป็น Title Case (ตัวอักษรแรกของแต่ละคำเป็นตัวพิมพ์ใหญ่)\n",
    "\n",
    "**คำแนะนำ**:\n",
    "\n",
    "* แก้ไขเฉพาะส่วน `<FIXME>` และรันเซลล์ด้านล่างเพื่อแปลงคอลัมน์ `county` เป็น Title Case"
   ]
  },
  {
   "cell_type": "code",
   "execution_count": null,
   "id": "0c189230-2f6d-437e-b89f-fb4354e345c4",
   "metadata": {},
   "outputs": [],
   "source": [
    "df['county'].str.<<<<FIXME>>>>"
   ]
  },
  {
   "cell_type": "raw",
   "id": "2e258fa4-f119-4c3b-9310-7b7c8a7bbd87",
   "metadata": {
    "jupyter": {
     "source_hidden": true
    }
   },
   "source": [
    "\n",
    "df['county'].str.title()"
   ]
  },
  {
   "cell_type": "markdown",
   "id": "35a2520b-5eec-4d59-a956-3f31b43a98b2",
   "metadata": {},
   "source": [
    "คลิก ... เพื่อดูเฉลย"
   ]
  },
  {
   "cell_type": "markdown",
   "id": "d163438b-9993-41e7-856c-76101135a9ad",
   "metadata": {},
   "source": [
    "การดำเนินการเปรียบเทียบหรือการใช้เงื่อนไขจะสร้างค่าบูลีน (True/False) ที่สัมพันธ์กันแบบทีละองค์ประกอบ\n",
    "\n",
    "ด้านล่างนี้ เราจะตรวจสอบว่าแต่ละคนเป็นผู้ใหญ่หรือไม่\n"
   ]
  },
  {
   "cell_type": "code",
   "execution_count": null,
   "id": "481218f1-ec09-4776-bda6-b039ccc190ab",
   "metadata": {
    "scrolled": true
   },
   "outputs": [],
   "source": [
    "# DO NOT CHANGE THIS CELL\n",
    "df['age']>=18"
   ]
  },
  {
   "cell_type": "markdown",
   "id": "0b98c380-828a-404b-9fb2-1d215337eff0",
   "metadata": {},
   "source": [
    "\n",
    "## การรวมข้อมูล (Aggregation) ##\n",
    "\n",
    "การรวมข้อมูลเป็นกระบวนการที่สำคัญสำหรับงานด้านวิทยาศาสตร์ข้อมูล ซึ่งช่วยให้เราสามารถสรุปและวิเคราะห์ข้อมูลที่จัดกลุ่มได้ มักใช้สำหรับงานต่างๆ เช่น การคำนวณยอดรวม, ค่าเฉลี่ย, จำนวนนับ เป็นต้น cuDF รองรับการรวมข้อมูลทั่วไป เช่น `.sum()`, `.mean()`, `.min()`, `.max()`, `.count()`, `.std()` (ค่าเบี่ยงเบนมาตรฐาน) เป็นต้น นอกจากนี้ยังรองรับการรวมข้อมูลขั้นสูงเพิ่มเติม เช่น `.quantile()` และ `.corr()` (ความสัมพันธ์) ด้วยพารามิเตอร์ `axis` การดำเนินการรวมข้อมูลสามารถนำไปใช้กับคอลัมน์ (`0`) หรือแถว (`1`) ได้\n",
    "\n",
    "เมื่อการรวมข้อมูลถูกนำมาใช้เป็นการดำเนินการแบบเวกเตอร์ โดยเฉพาะการดำเนินการแบบลดขนาด (reduction operation) จะมีประสิทธิภาพสูงบน GPU เนื่องจากสามารถประมวลผลองค์ประกอบข้อมูลจำนวนมากพร้อมกันและแบบขนานได้ การดำเนินการตามคอลัมน์ยังได้รับประโยชน์จาก [Apache Arrow columnar memory format](https://arrow.apache.org/docs/format/Columnar.html)\n",
    "\n",
    "<p><img src='images/sum_reduction.png' width=720></p>\n",
    "\n",
    "ด้านล่างนี้ เราจะคำนวณค่าเฉลี่ยเลขคณิตของ `lat` และ `long` เพื่อหาจุดศูนย์กลางโดยประมาณ"
   ]
  },
  {
   "cell_type": "code",
   "execution_count": null,
   "id": "bee8be82-8631-4863-a1fa-e46eed47e334",
   "metadata": {
    "scrolled": true
   },
   "outputs": [],
   "source": [
    "# DO NOT CHANGE THIS CELL\n",
    "df[['lat', 'long']].mean()"
   ]
  },
  {
   "cell_type": "markdown",
   "id": "8a53f0f4-7dc5-40fd-af07-3e82d6556393",
   "metadata": {},
   "source": [
    "\n",
    "## การใช้ฟังก์ชันที่ผู้ใช้กำหนด (UDFs) ด้วย `.map()` และ `.apply()` ##\n",
    "\n",
    "เมธอด `.map()` และ `.apply()` เป็นวิธีหลักในการใช้ฟังก์ชันที่ผู้ใช้กำหนด (user-defined functions) แบบทีละองค์ประกอบ และแบบตามแถวหรือคอลัมน์ ตามลำดับ เราสามารถส่งฟังก์ชันที่เรียกใช้งานได้ (ทั้งแบบ built-in หรือที่ผู้ใช้กำหนด) เป็นอาร์กิวเมนต์ ซึ่งจะถูกนำไปใช้กับโครงสร้างข้อมูลทั้งหมด ไม่ใช่ทุกการดำเนินการจะสามารถแปลงเป็นเวกเตอร์ได้ โดยเฉพาะตรรกะที่กำหนดเองที่ซับซ้อน ในกรณีเช่นนี้ อาจจำเป็นต้องใช้เมธอดเช่น `.apply()` หรือ UDFs ที่กำหนดเอง\n",
    "\n",
    "ด้านล่างนี้ เราจะใช้ `.apply()` เพื่อตรวจสอบว่าแต่ละคนเป็นผู้ใหญ่หรือไม่"
   ]
  },
  {
   "cell_type": "code",
   "execution_count": null,
   "id": "c65e80f8-1cc3-453c-85f2-910dab451228",
   "metadata": {
    "scrolled": true
   },
   "outputs": [],
   "source": [
    "# DO NOT CHNAGE THIS CELL\n",
    "# define a function to check if age is greater than or equal to 18\n",
    "start=time.time()\n",
    "def is_adult(row): \n",
    "    if row['age']>=18: \n",
    "        return 1\n",
    "    else: \n",
    "        return 0\n",
    "\n",
    "# derive the birth year\n",
    "display(df.apply(is_adult, axis=1))\n",
    "print(f'Duration: {round(time.time()-start, 2)} seconds')"
   ]
  },
  {
   "cell_type": "markdown",
   "id": "02828781-6f5b-49d5-87a5-aa5ef08adf15",
   "metadata": {},
   "source": [
    "เรายังสามารถใช้ [**lambda function**](https://docs.python.org/3/glossary.html#term-lambda) ได้เมื่อฟังก์ชันนั้นเรียบง่าย Lambda function ถูกจำกัดให้มีเพียงนิพจน์เดียว แต่สามารถรวมคำสั่งเงื่อนไขและอาร์กิวเมนต์หลายตัวได้"
   ]
  },
  {
   "cell_type": "code",
   "execution_count": null,
   "id": "31d6e7fb-f435-4b1f-8e74-e732cc406b51",
   "metadata": {
    "scrolled": true
   },
   "outputs": [],
   "source": [
    "# DO NOT CHANGE THIS CELL\n",
    "# derive the birth year\n",
    "start=time.time()\n",
    "display(df.apply(lambda x: 1 if x['age']>=18 else 0, axis=1))\n",
    "print(f'Duration: {round(time.time()-start, 2)} seconds')"
   ]
  },
  {
   "cell_type": "markdown",
   "id": "475cc2f1-4dc9-4492-aab5-9e51ebf54ebb",
   "metadata": {},
   "source": [
    "\n",
    "**หมายเหตุ**: ฟังก์ชัน `.apply()` ใน pandas รองรับฟังก์ชันที่ผู้ใช้กำหนดเองได้ ซึ่งสามารถรวมการดำเนินการใดๆ ที่นำไปใช้กับแต่ละค่าของ Series และ DataFrame ได้ cuDF ก็รองรับ `.apply()` เช่นกัน แต่จะอาศัย Numba ในการคอมไพล์ JIT UDF (ไม่ได้อยู่ในขอบเขต) และรันบน GPU ซึ่งสามารถทำได้อย่างรวดเร็วมาก แต่ก็มีข้อจำกัดบางประการเกี่ยวกับการดำเนินการที่อนุญาตใน UDF ดูรายละเอียดได้จากเอกสารเกี่ยวกับ [UDFs](https://docs.rapids.ai/api/cudf/stable/user_guide/guide-to-udfs/)"
   ]
  },
  {
   "cell_type": "code",
   "execution_count": null,
   "id": "ecadefaa-380c-412c-87af-05c63d3f7871",
   "metadata": {
    "scrolled": true
   },
   "outputs": [],
   "source": [
    "# DO NOT CHANGE THIS CELL\n",
    "# derive the birth year\n",
    "start=time.time()\n",
    "display((df['age']>=18).astype('int'))\n",
    "print(f'Duration: {round(time.time()-start, 2)} seconds')"
   ]
  },
  {
   "cell_type": "markdown",
   "id": "84f0c41b-ad56-4cc7-b074-f2390f41cc70",
   "metadata": {},
   "source": [
    "ด้านล่างนี้ เราใช้ `Series.map()` เพื่อหาจำนวนตัวอักษรในชื่อของแต่ละคน"
   ]
  },
  {
   "cell_type": "code",
   "execution_count": null,
   "id": "c4a3e4e1-fd83-4024-bcbf-29216c11016f",
   "metadata": {
    "scrolled": true
   },
   "outputs": [],
   "source": [
    "# DO NOT CHANGE THIS CELL\n",
    "df['name'].map(lambda x: len(x))"
   ]
  },
  {
   "cell_type": "markdown",
   "id": "7c717ada-69b2-4982-b81b-8594af6d9bf1",
   "metadata": {},
   "source": [
    "\n",
    "## การกรองข้อมูลด้วย `.loc` และ Boolean Mask ##\n",
    "\n",
    "Boolean mask คืออาร์เรย์ของค่า `True`/`False` ที่สอดคล้องกับอาร์เรย์หรือโครงสร้างข้อมูลอื่น ๆ แบบทีละองค์ประกอบ ใช้สำหรับการกรองและเลือกข้อมูลตามเงื่อนไขบางอย่าง ในบริบทนี้ mask สามารถใช้เพื่อทำดัชนีหรือกรอง DataFrame ด้วย `.loc` โดยเลือกเฉพาะองค์ประกอบที่ mask เป็น `True`\n",
    "\n",
    "**หมายเหตุ**: การใช้ Boolean masking มักจะมีประสิทธิภาพมากกว่าวิธีการแบบวนซ้ำ โดยเฉพาะอย่างยิ่งสำหรับชุดข้อมูลขนาดใหญ่ เนื่องจากใช้ประโยชน์จากการดำเนินการแบบเวกเตอร์\n",
    "\n",
    "ด้านล่างนี้ เราจะใช้ `.loc` accessor และ Boolean mask เพื่อกรองผู้ที่มีชื่อขึ้นต้นด้วยตัวอักษร `E`"
   ]
  },
  {
   "cell_type": "code",
   "execution_count": null,
   "id": "cf9cc540-1de6-4e50-986a-5bf9bd9056a6",
   "metadata": {
    "scrolled": true
   },
   "outputs": [],
   "source": [
    "# DO NOT CHANGE THIS CELL\n",
    "boolean_mask=df['name'].str.startswith('E')\n",
    "df.loc[boolean_mask]"
   ]
  },
  {
   "cell_type": "markdown",
   "id": "5d76a6dd-5d0b-4fd2-868a-235255375af0",
   "metadata": {},
   "source": [
    "สามารถรวมเงื่อนไขหลายข้อได้โดยใช้ตัวดำเนินการตรรกะ (`&` และ `|`)\n",
    "\n",
    "**หมายเหตุ**: เมื่อใช้หลายเงื่อนไข สิ่งสำคัญคือต้องครอบแต่ละเงื่อนไขด้วยวงเล็บ (`(` และ `)`) เพื่อให้แน่ใจว่าลำดับการดำเนินการถูกต้อง\n",
    "\n",
    "ด้านล่างนี้ เราจะใช้ `.loc` accessor และเงื่อนไขหลายข้อเพื่อกรองผู้ใหญ่ที่มีชื่อขึ้นต้นด้วยตัวอักษร `E`"
   ]
  },
  {
   "cell_type": "code",
   "execution_count": null,
   "id": "03713403-6575-437d-99f0-c7f8ec3cb13b",
   "metadata": {
    "scrolled": true
   },
   "outputs": [],
   "source": [
    "# DO NOT CHANGE THIS CELL\n",
    "df[(df['age']>=18) | (df['name'].str.startswith('E'))]"
   ]
  },
  {
   "cell_type": "markdown",
   "id": "69b7f7ef-b270-4eae-8852-d6f48bf83086",
   "metadata": {},
   "source": [
    "<a name='s4.1'></a>\n",
    "### แบบฝึกหัดที่ 2 - มณฑลทางเหนือของ Sunderland ###\n",
    "\n",
    "แบบฝึกหัดนี้จะต้องใช้ `.loc` accessor และเทคนิคหลายอย่างที่อธิบายไว้ข้างต้น เราต้องการระบุละติจูดของผู้อยู่อาศัยที่อยู่เหนือสุดของมณฑล Sunderland (บุคคลที่มีค่า `lat` สูงสุด) จากนั้นพิจารณาว่ามณฑลใดบ้างที่มีผู้อยู่อาศัยอยู่ทางเหนือของผู้อยู่อาศัยคนนี้ ใช้เมธอด `Series.unique()` เพื่อลบค่าที่ซ้ำกันออกจากผลลัพธ์\n",
    "\n",
    "**คำแนะนำ**:\n",
    "* แก้ไขเฉพาะส่วน `<FIXME>` และรันเซลล์ด้านล่างเพื่อระบุมณฑลที่อยู่ทางเหนือของ Sunderland"
   ]
  },
  {
   "cell_type": "code",
   "execution_count": null,
   "id": "8e4558aa-5b6c-43e4-803f-e82342191c3f",
   "metadata": {},
   "outputs": [],
   "source": [
    "sunderland_residents=df.loc[<<<<FIXME>>>>]\n",
    "northmost_sunderland_lat=sunderland_residents['lat'].max()\n",
    "df.loc[df['lat'] > northmost_sunderland_lat]['county'].unique()"
   ]
  },
  {
   "cell_type": "raw",
   "id": "e8391e88-be20-4858-98f4-f75f2d6d72e3",
   "metadata": {
    "jupyter": {
     "source_hidden": true
    }
   },
   "source": [
    "\n",
    "sunderland_residents=df.loc[df['county'] == 'SUNDERLAND']\n",
    "northmost_sunderland_lat=sunderland_residents['lat'].max()\n",
    "df.loc[df['lat'] > northmost_sunderland_lat]['county'].unique()"
   ]
  },
  {
   "cell_type": "markdown",
   "id": "0594efe7-97d4-4884-bffb-a26f5144ad54",
   "metadata": {},
   "source": [
    "คลิก ... เพื่อดูเฉลย"
   ]
  },
  {
   "cell_type": "markdown",
   "id": "45ada779-bc14-4fba-88d8-62c282345a63",
   "metadata": {},
   "source": [
    "## การสร้างคอลัมน์ใหม่ ##\n",
    "\n",
    "เราสามารถสร้างคอลัมน์ใหม่ได้โดยการกำหนดค่าให้กับชื่อคอลัมน์ คอลัมน์ใหม่ควรมีจำนวนแถวเท่ากับ DataFrame ที่มีอยู่ โดยทั่วไป เราจะสร้างคอลัมน์ใหม่โดยการดำเนินการกับคอลัมน์ที่มีอยู่แล้ว\n",
    "\n",
    "ด้านล่างนี้ เราจะสร้างคอลัมน์เพิ่มเติมอีกสองสามคอลัมน์"
   ]
  },
  {
   "cell_type": "code",
   "execution_count": null,
   "id": "977fdb2b-dbf1-4842-ab0f-31b9af65e0d1",
   "metadata": {
    "scrolled": true
   },
   "outputs": [],
   "source": [
    "# DO NOT CHANGE THIS CELL\n",
    "# get current year\n",
    "current_year=datetime.now().year\n",
    "\n",
    "# numerical operations\n",
    "df['birth_year']=current_year-df['age']\n",
    "\n",
    "# string operations\n",
    "df['sex_normalize']=df['sex'].str.upper()\n",
    "df['county_normalize']=df['county'].str.title().str.replace(' ', '_')\n",
    "df['name']=df['name'].str.title()\n",
    "\n",
    "# preview\n",
    "df.head()"
   ]
  },
  {
   "cell_type": "code",
   "execution_count": null,
   "id": "66c5d332-a6ef-4f8d-9560-fa860ea1679a",
   "metadata": {
    "scrolled": true
   },
   "outputs": [],
   "source": [
    "# DO NOT CHANGE THIS CELL\n",
    "import IPython\n",
    "app = IPython.Application.instance()\n",
    "app.kernel.do_shutdown(True)"
   ]
  },
  {
   "cell_type": "markdown",
   "id": "cd7bed0a-d46d-402a-884e-e2e17c98738c",
   "metadata": {},
   "source": [
    "## pandas vs. cuDF ##\n",
    "\n",
    "นอกเหนือจากประสิทธิภาพที่ดีกว่ามากกับชุดข้อมูลขนาดใหญ่แล้ว cuDF มีหน้าตาและความรู้สึกคล้ายกับ Pandas มาก เพื่อทบทวน cuDF และ pandas มีความคล้ายคลึงกันดังนี้:\n",
    "\n",
    "* **ความคล้ายคลึงของ API**: cuDF มี API ที่คล้ายกับ pandas ซึ่งคุ้นเคยกับวิศวกรข้อมูลและนักวิทยาศาสตร์ข้อมูล มีเป้าหมายที่จะใช้ฟังก์ชันและการดำเนินการหลายอย่างเช่นเดียวกับ pandas ทำให้ผู้ใช้สามารถเร่งเวิร์กโฟลว์ pandas ที่มีอยู่ได้อย่างง่ายดาย\n",
    "* **การดำเนินการที่คล้ายกัน**: cuDF ใช้การดำเนินการ pandas ทั่วไปหลายอย่าง เช่น การกรอง, การเชื่อม, การรวม และ groupby\n",
    "\n",
    "<p><img src='images/pandas_vs_cudf.png' width=1080></p>\n",
    "\n",
    "เมื่อเปรียบเทียบกับ pandas cuDF มักจะทำงานได้ดีกว่าสำหรับชุดข้อมูลขนาดใหญ่เนื่องจากคุณสมบัติดังต่อไปนี้:\n",
    "\n",
    "* GPU มีความโดดเด่นในการคำนวณแบบขนาน ซึ่งเป็นข้อได้เปรียบสำหรับงานวิทยาศาสตร์ข้อมูลและ Machine Learning หลายอย่าง\n",
    "* โดยทั่วไป GPU มีแบนด์วิดท์หน่วยความจำสูงกว่า CPU มาก ทำให้เข้าถึงข้อมูลได้เร็วขึ้นในการดำเนินการที่จำกัดด้วยหน่วยความจำ\n",
    "* cuDF ใช้ประโยชน์จากความสามารถของ GPU ในการดำเนินการแบบเวกเตอร์ได้อย่างมีประสิทธิภาพ ซึ่งเป็นประโยชน์อย่างยิ่งสำหรับชุดข้อมูลขนาดใหญ่\n",
    "* cuDF ใช้รูปแบบข้อมูลแบบคอลัมน์ ซึ่งสามารถนำไปสู่รูปแบบการเข้าถึงหน่วยความจำที่มีประสิทธิภาพมากขึ้นบน GPU เมื่อดำเนินการกับ cuDF Dataframes การดำเนินการกับคอลัมน์มักจะมีประสิทธิภาพดีกว่าการดำเนินการตามแถวมาก\n",
    "\n",
    "**หมายเหตุ**: สิ่งสำคัญคือต้องทราบว่าข้อได้เปรียบด้านประสิทธิภาพของ cuDF เหนือ pandas อาจแตกต่างกันไปขึ้นอยู่กับการดำเนินการเฉพาะ ขนาดข้อมูล และการกำหนดค่าฮาร์ดแวร์ สำหรับชุดข้อมูลขนาดเล็กหรือการดำเนินการที่ง่ายกว่า ค่าใช้จ่ายในการเริ่มต้น GPU อาจทำให้ pandas บน CPU เร็วขึ้น"
   ]
  },
  {
   "cell_type": "markdown",
   "id": "c9c00b32-f5f2-46de-a50a-fc54f3244dab",
   "metadata": {},
   "source": [
    "## cuDF pandas ##\n",
    "\n",
    "เริ่มตั้งแต่เวอร์ชัน `23.10.01` เป็นต้นไป cuDF ได้เปิดตัว **โหมดตัวเร่ง pandas** (`cudf.pandas`) ที่รองรับ 100% ของ pandas API โหมดนี้ช่วยให้ผู้ใช้สามารถเร่งโค้ด pandas บน GPU โดยไม่ต้องเปลี่ยนแปลงโค้ดใดๆ อย่างไรก็ตาม ไม่ใช่ทุกการดำเนินการจะสามารถทำงานบน GPU ได้ เมื่อใช้ `cudf.pandas` การดำเนินการที่สามารถเร่งความเร็วได้จะรันบน GPU ในขณะที่การดำเนินการที่ไม่รองรับจะกลับไปทำงานบน pandas บน CPU โดยอัตโนมัติ ตัวอย่างเช่น `.read_sql()` จะอ่าน SQL ด้วย pandas ก่อนแล้วจึงย้ายข้อมูลไปยัง cuDF\n",
    "\n",
    "มีสองวิธีในการเปิดใช้งาน cuDF pandas:\n",
    "- คำสั่ง Jupyter Magic Command\n",
    "```\n",
    "%load_ext cudf.pandas\n",
    "import pandas\n",
    "...\n",
    "```\n",
    "- Python Import\n",
    "```\n",
    "import cudf.pandas\n",
    "cudf.pandas.install()\n",
    "\n",
    "import pandas as pd\n",
    "...\n",
    "```\n",
    "\n",
    "**หมายเหตุ**: ไม่จำเป็นต้องมีการเปลี่ยนแปลงอื่นใด ซึ่งมีประโยชน์สำหรับการเร่งปริมาณงานที่มีอยู่ได้อย่างรวดเร็วโดยมีการเปลี่ยนแปลงโค้ดน้อยที่สุด ข้อมูลเพิ่มเติมเกี่ยวกับ cuDF pandas สามารถดูได้ [ที่นี่](https://docs.rapids.ai/api/cudf/stable/cudf_pandas/)\n",
    "\n",
    "cuDF pandas เป็นตัวเร่งความเร็วที่ไม่ต้องเปลี่ยนแปลงโค้ดสำหรับ pandas เพื่อการเร่งความเร็วอัตโนมัติของการเรียกใช้ pandas ที่รองรับ\n",
    "\n",
    "ด้านล่างนี้ เราจะรันการดำเนินการ DataFrame พื้นฐานบางอย่างด้วย pandas ก่อนที่จะสาธิตวิธีการเปิดใช้งาน cudf pandas"
   ]
  },
  {
   "cell_type": "code",
   "execution_count": null,
   "id": "5fed82ae-0ecb-4471-bb8f-060b1bf4542f",
   "metadata": {},
   "outputs": [],
   "source": [
    "# DO NOT CHANGE THIS CELL\n",
    "# %load_ext cudf.pandas"
   ]
  },
  {
   "cell_type": "code",
   "execution_count": null,
   "id": "7671791e-c491-4831-bd1b-956de6b455e5",
   "metadata": {},
   "outputs": [],
   "source": [
    "# DO NOT CHANGE THIS CELL\n",
    "import pandas as pd\n",
    "import time\n",
    "from datetime import datetime"
   ]
  },
  {
   "cell_type": "code",
   "execution_count": null,
   "id": "47c87c9f-5b97-4a0d-bfa7-a26c1369314f",
   "metadata": {
    "scrolled": true
   },
   "outputs": [],
   "source": [
    "# %%cudf.pandas.line_profile\n",
    "# DO NOT CHANGE THIS CELL\n",
    "start=time.time()\n",
    "\n",
    "df=pd.read_csv('./data/uk_pop.csv')\n",
    "current_year=datetime.now().year\n",
    "\n",
    "df['birth_year']=current_year-df['age']\n",
    "\n",
    "df['sex_normalize']=df['sex'].str.upper()\n",
    "df['county_normalize']=df['county'].str.title().str.replace(' ', '_')\n",
    "df['name']=df['name'].str.title()\n",
    "\n",
    "print(f'Duration: {round(time.time()-start, 2)} seconds')\n",
    "\n",
    "display(df.head())"
   ]
  },
  {
   "cell_type": "markdown",
   "id": "7ebe113c-9fc0-4da5-932c-0a68af0d5a31",
   "metadata": {},
   "source": [
    "<a name='s4.1'></a>\n",
    "### แบบฝึกหัดที่ 3 - การเร่งความเร็วอัตโนมัติ ###\n",
    "\n",
    "**คำแนะนำ**:\n",
    "\n",
    "* ย้อนกลับไปที่ส่วนต้นของหัวข้อย่อยนี้ รันเซลล์ใหม่ และยกเลิกการคอมเมนต์คำสั่ง magic command `%load_ext` เพื่อเร่งความเร็วด้วย cuDF pandas\n",
    "* สังเกตการเร่งความเร็วที่เกิดขึ้น\n",
    "* ย้อนกลับไปที่ส่วนต้นของหัวข้อย่อยนี้ รันเซลล์ใหม่ และยกเลิกการคอมเมนต์คำสั่ง magic command `%%cudf.pandas.line_profile` เพื่อใช้ line profiler\n",
    "* สังเกตผลลัพธ์จาก line profiler"
   ]
  },
  {
   "cell_type": "code",
   "execution_count": null,
   "id": "f1688462-783c-4fea-ae18-5d37524d26d8",
   "metadata": {
    "scrolled": true
   },
   "outputs": [],
   "source": [
    "# DO NOT CHANGE THIS CELL\n",
    "import IPython\n",
    "app = IPython.Application.instance()\n",
    "app.kernel.do_shutdown(True)"
   ]
  },
  {
   "cell_type": "markdown",
   "id": "0a691784-dac5-4485-89fb-5e405f10c05c",
   "metadata": {},
   "source": [
    "**เยี่ยมมาก!** ไปยัง [โน้ตบุ๊กถัดไป](1-03_memory_management.ipynb) กันเลย"
   ]
  }
 ],
 "metadata": {
  "kernelspec": {
   "display_name": "Python 3 (ipykernel)",
   "language": "python",
   "name": "python3"
  },
  "language_info": {
   "codemirror_mode": {
    "name": "ipython",
    "version": 3
   },
   "file_extension": ".py",
   "mimetype": "text/x-python",
   "name": "python",
   "nbconvert_exporter": "python",
   "pygments_lexer": "ipython3",
   "version": "3.10.15"
  }
 },
 "nbformat": 4,
 "nbformat_minor": 5
}
