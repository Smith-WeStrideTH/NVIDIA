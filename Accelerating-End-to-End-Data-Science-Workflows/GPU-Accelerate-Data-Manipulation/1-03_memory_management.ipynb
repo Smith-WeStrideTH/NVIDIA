{
 "cells": [
  {
   "cell_type": "markdown",
   "id": "4a0fd4dd-f7be-4c90-8ddd-384a760ac04f",
   "metadata": {},
   "source": [
    "# Accelerating End-to-End Data Science Workflows # "
   ]
  },
  {
   "cell_type": "markdown",
   "id": "6a8fdf2e-a481-455e-8a52-8be8472b63bf",
   "metadata": {},
   "source": [
    "## 03 - การจัดการหน่วยความจำ (Memory Management) ##\n",
    "\n",
    "**สารบัญ**\n",
    "\n",
    "โน้ตบุ๊กนี้จะสำรวจพลวัตระหว่างข้อมูลและหน่วยความจำ โน้ตบุ๊กนี้ครอบคลุมส่วนต่าง ๆ ดังนี้:\n",
    "\n",
    "1.  [การจัดการหน่วยความจำ (Memory Management)](#Memory-Management)\n",
    "    * [การใช้หน่วยความจำ (Memory Usage)](#Memory-Usage)\n",
    "2.  [ชนิดข้อมูล (Data Types)](#Data-Types)\n",
    "    * [แปลงชนิดข้อมูล (Convert Data Types)](#Convert-Data-Types)\n",
    "    * [แบบฝึกหัดที่ 1 - แก้ไข `dtypes`](#Exercise-#1---Modify-dtypes)\n",
    "    * [ข้อมูลประเภท Categorical](#Categorical)\n",
    "3.  [การโหลดข้อมูลอย่างมีประสิทธิภาพ (Efficient Data Loading)](#Efficient-Data-Loading)\n"
   ]
  },
  {
   "cell_type": "markdown",
   "id": "1b59367c-48bc-4c72-b1f4-4cfdfa5470cf",
   "metadata": {},
   "source": [
    "## การจัดการหน่วยความจำ (Memory Management) ##\n",
    "\n",
    "ในระหว่างกระบวนการได้มาซึ่งข้อมูล ข้อมูลจะถูกถ่ายโอนไปยังหน่วยความจำเพื่อให้โปรเซสเซอร์ดำเนินการ การจัดการหน่วยความจำมีความสำคัญอย่างยิ่งต่อ cuDF และการทำงานของ GPU ด้วยเหตุผลสำคัญหลายประการ:\n",
    "\n",
    "* **หน่วยความจำ GPU ที่จำกัด**: โดยทั่วไป GPU มีหน่วยความจำน้อยกว่า CPU ดังนั้นการจัดการหน่วยความจำที่มีประสิทธิภาพจึงเป็นสิ่งจำเป็นเพื่อเพิ่มการใช้หน่วยความจำ GPU ที่มีอยู่ให้สูงสุด โดยเฉพาะสำหรับชุดข้อมูลขนาดใหญ่\n",
    "* **ค่าใช้จ่ายในการถ่ายโอนข้อมูล**: การถ่ายโอนข้อมูลระหว่างหน่วยความจำ CPU และ GPU ค่อนข้างช้าเมื่อเทียบกับความเร็วในการคำนวณของ GPU การลดการถ่ายโอนเหล่านี้ผ่านการจัดการหน่วยความจำที่ชาญฉลาดเป็นสิ่งสำคัญต่อประสิทธิภาพ\n",
    "* **การปรับแต่งประสิทธิภาพ**: การทำความเข้าใจและเพิ่มประสิทธิภาพการใช้หน่วยความจำเป็นกุญแจสำคัญในการบรรลุประสิทธิภาพสูงสุดในงานประมวลผลข้อมูลที่เร่งความเร็วด้วย GPU\n",
    "\n",
    "เมื่อทำได้อย่างถูกต้อง การเก็บข้อมูลไว้บน GPU สามารถช่วยให้ cuDF และระบบนิเวศ RAPIDS บรรลุประสิทธิภาพที่ดีขึ้นอย่างมาก จัดการชุดข้อมูลขนาดใหญ่ขึ้น และมอบความสามารถในการประมวลผลข้อมูลที่มีประสิทธิภาพมากขึ้น\n",
    "\n",
    "ด้านล่างนี้เราจะนำเข้าข้อมูลจากไฟล์ csv"
   ]
  },
  {
   "cell_type": "code",
   "execution_count": null,
   "id": "9ceea191",
   "metadata": {},
   "outputs": [],
   "source": [
    "from google.colab import drive\n",
    "drive.mount('/content/drive')"
   ]
  },
  {
   "cell_type": "code",
   "execution_count": null,
   "id": "b7b8a623-f799-4dad-aca9-0e571bb6e527",
   "metadata": {},
   "outputs": [],
   "source": [
    "# DO NOT CHANGE THIS CELL\n",
    "import pandas as pd\n",
    "import random\n",
    "import time"
   ]
  },
  {
   "cell_type": "code",
   "execution_count": null,
   "id": "711d0a7f-8598-49fc-949c-5caf6029ce47",
   "metadata": {
    "scrolled": true
   },
   "outputs": [],
   "source": [
    "# CHANGE THIS CELL\n",
    "df=pd.read_csv('./data/uk_pop.csv')\n",
    "\n",
    "# preview\n",
    "df.head()"
   ]
  },
  {
   "cell_type": "markdown",
   "id": "36416fd0-7081-42aa-bf31-d1231b81ec0b",
   "metadata": {},
   "source": [
    "### การใช้หน่วยความจำ (Memory Usage) ###\n",
    "\n",
    "การใช้หน่วยความจำของ DataFrame ขึ้นอยู่กับชนิดข้อมูลของแต่ละคอลัมน์\n",
    "\n",
    "<p><img src='./images/dtypes.png' width=720></p>\n",
    "\n",
    "เราสามารถใช้ `DataFrame.memory_usage()` เพื่อดูการใช้หน่วยความจำสำหรับแต่ละคอลัมน์ (เป็นไบต์) ชนิดข้อมูลทั่วไปส่วนใหญ่มีขนาดคงที่ในหน่วยความจำ เช่น `int`, `float`, `datetime` และ `bool` การใช้หน่วยความจำสำหรับชนิดข้อมูลเหล่านี้คือความต้องการหน่วยความจำที่เกี่ยวข้องคูณด้วยจำนวนจุดข้อมูล สำหรับชนิดข้อมูล `string` การใช้หน่วยความจำที่รายงาน _สำหรับ pandas_ คือจำนวนองค์ประกอบคูณด้วย 8 ไบต์ สิ่งนี้คิดเป็น 64 บิตที่จำเป็นสำหรับพอยน์เตอร์ที่ชี้ไปยังที่อยู่หน่วยความจำ แต่ไม่ใช่หน่วยความจำที่ใช้สำหรับค่าสตริงจริง หน่วยความจำจริงที่จำเป็นสำหรับค่าสตริงคือ 49 ไบต์บวกกับอีกหนึ่งไบต์สำหรับแต่ละตัวอักษร พารามิเตอร์ `deep` ให้รายงานการใช้หน่วยความจำที่แม่นยำยิ่งขึ้นซึ่งคิดถึงการใช้หน่วยความจำระดับระบบของชนิดข้อมูล `string` ที่บรรจุอยู่\n",
    "\n",
    "ด้านล่างนี้ เราจะดูการใช้หน่วยความจำ"
   ]
  },
  {
   "cell_type": "code",
   "execution_count": null,
   "id": "8378207b-2d9e-4102-8408-c2dddafc8a40",
   "metadata": {
    "scrolled": true
   },
   "outputs": [],
   "source": [
    "# DO NOT CHANGE THIS CELL\n",
    "# pandas memory utilization\n",
    "mem_usage_df=df.memory_usage(deep=True)\n",
    "mem_usage_df"
   ]
  },
  {
   "cell_type": "markdown",
   "id": "07c24bb1-c4f7-440c-a949-d4c57800ec61",
   "metadata": {},
   "source": [
    "ด้านล่างนี้ เรากำหนดฟังก์ชัน `make_decimal()` เพื่อแปลงขนาดหน่วยความจำให้เป็นหน่วยตามกำลังของ 2 ซึ่งแตกต่างจากหน่วยตามกำลังของ 10 แต่เป็นธรรมเนียมปฏิบัติที่นิยมใช้ในการรายงานความจุหน่วยความจำ สามารถดูข้อมูลเพิ่มเติมเกี่ยวกับสองนิยามได้ [ที่นี่](https://en.wikipedia.org/wiki/Byte#Multiple-byte_units)"
   ]
  },
  {
   "cell_type": "code",
   "execution_count": null,
   "id": "5ae42218-1547-49fd-9123-ab508a2b03de",
   "metadata": {},
   "outputs": [],
   "source": [
    "# DO NOT CHANGE THIS CELL\n",
    "suffixes = ['B', 'kB', 'MB', 'GB', 'TB', 'PB']\n",
    "def make_decimal(nbytes):\n",
    "    i=0\n",
    "    while nbytes >= 1024 and i < len(suffixes)-1:\n",
    "        nbytes/=1024.\n",
    "        i+=1\n",
    "    f=('%.2f' % nbytes).rstrip('0').rstrip('.')\n",
    "    return '%s %s' % (f, suffixes[i])"
   ]
  },
  {
   "cell_type": "code",
   "execution_count": null,
   "id": "e6d4a613-3eea-4dce-8e71-39593ff6f226",
   "metadata": {
    "scrolled": true
   },
   "outputs": [],
   "source": [
    "make_decimal(mem_usage_df.sum())"
   ]
  },
  {
   "cell_type": "markdown",
   "id": "a352c0b2-65aa-4231-b753-556aca46ff49",
   "metadata": {},
   "source": [
    "ด้านล่างนี้ เราจะคำนวณการใช้หน่วยความจำด้วยตนเองโดยอิงตามชนิดข้อมูล"
   ]
  },
  {
   "cell_type": "code",
   "execution_count": null,
   "id": "630327b9-6dc1-4b70-9fdf-9f7763ec4d50",
   "metadata": {
    "scrolled": true
   },
   "outputs": [],
   "source": [
    "# DO NOT CHANGE THIS CELL\n",
    "# get number of rows\n",
    "num_rows=len(df)\n",
    "\n",
    "# 64-bit numbers uses 8 bytes of memory\n",
    "print(f'Numerical columns use {num_rows*8} bytes of memory')"
   ]
  },
  {
   "cell_type": "code",
   "execution_count": null,
   "id": "bb22b5f4-e38f-438e-9426-61746b509e50",
   "metadata": {
    "scrolled": true
   },
   "outputs": [],
   "source": [
    "# DO NOT CHANGE THIS CELL\n",
    "# check random string-typed column\n",
    "string_cols=[col for col in df.columns if df[col].dtype=='object' ]\n",
    "column_to_check=random.choice(string_cols)\n",
    "\n",
    "overhead=49\n",
    "pointer_size=8\n",
    "\n",
    "# nan==nan when value is not a number\n",
    "# nan uses 32 bytes of memory\n",
    "string_col_mem_usage_df=df[column_to_check].map(lambda x: len(x)+overhead+pointer_size if x else 32)\n",
    "string_col_mem_usage=string_col_mem_usage_df.sum()\n",
    "print(f'{column_to_check} column uses {string_col_mem_usage} bytes of memory.')"
   ]
  },
  {
   "cell_type": "markdown",
   "id": "94e393c2-c0d0-40ee-82d2-730c4667e9b8",
   "metadata": {},
   "source": [
    "**หมายเหตุ**: ชนิดข้อมูล `string` ถูกจัดเก็บต่างกันใน cuDF และ pandas สามารถดูข้อมูลเพิ่มเติมเกี่ยวกับวิธีการที่ `libcudf` จัดเก็บข้อมูลสตริงโดยใช้ [Arrow format](https://arrow.apache.org/docs/format/Columnar.html#variable-size-binary-layout) ได้ [ที่นี่](https://developer.nvidia.com/blog/mastering-string-transformations-in-rapids-libcudf/)"
   ]
  },
  {
   "cell_type": "markdown",
   "id": "737ff50b-9426-4e08-a00a-d7ee69f48b9f",
   "metadata": {},
   "source": [
    "## ชนิดข้อมูล (Data Types) ##\n",
    "\n",
    "โดยค่าเริ่มต้น pandas (และ cuDF) ใช้ตัวเลขขนาด 64 บิตสำหรับการจัดเก็บค่าตัวเลข การใช้ตัวเลข 64 บิตให้ความแม่นยำสูงสุด แต่แอปพลิเคชันจำนวนมากไม่ต้องการความแม่นยำ 64 บิตเมื่อทำการรวมข้อมูลจำนวนมาก เมื่อเป็นไปได้ การใช้ตัวเลข 32 บิตจะช่วยลดความต้องการพื้นที่จัดเก็บและหน่วยความจำลงครึ่งหนึ่ง และโดยทั่วไปจะช่วยเร่งการคำนวณอย่างมากเนื่องจากข้อมูลที่ต้องเข้าถึงในหน่วยความจำลดลงครึ่งหนึ่ง"
   ]
  },
  {
   "cell_type": "markdown",
   "id": "0b77d450-c415-44b8-87ac-20ce616ec809",
   "metadata": {},
   "source": [
    "### การแปลงชนิดข้อมูล (Convert Data Types) ###\n",
    "\n",
    "เมธอด `.astype()` สามารถใช้เพื่อแปลงชนิดข้อมูลตัวเลขให้ใช้คอนเทนเนอร์ขนาดบิตที่แตกต่างกัน ที่นี่เราจะแปลงคอลัมน์ `age` จาก `int64` เป็น `int8`"
   ]
  },
  {
   "cell_type": "code",
   "execution_count": null,
   "id": "603f7c70-134e-4466-a790-8a18b9088ca6",
   "metadata": {},
   "outputs": [],
   "source": [
    "# DO NOT CHANGE THIS CELL\n",
    "df['age']=df['age'].astype('int8')\n",
    "\n",
    "df.dtypes"
   ]
  },
  {
   "cell_type": "markdown",
   "id": "973a6dd4-2aef-44d9-8b01-8853032eddae",
   "metadata": {},
   "source": [
    "### แบบฝึกหัดที่ 1 - แก้ไข `dtypes` ###\n",
    "\n",
    "**คำแนะนำ**:\n",
    "* แก้ไขเฉพาะส่วน `<FIXME>` เท่านั้น และรันเซลล์ด้านล่างเพื่อแปลงชนิดข้อมูล 64 บิตใดๆ ให้เป็นชนิดข้อมูล 32 บิตที่เทียบเท่า"
   ]
  },
  {
   "cell_type": "code",
   "execution_count": null,
   "id": "7372ec76-daa6-4eda-b5fa-9aff8450f84a",
   "metadata": {},
   "outputs": [],
   "source": [
    "df[<<<<FIXME>>>>]=df[<<<<FIXME>>>>].astype('float32')\n",
    "df[<<<<FIXME>>>>]=df[<<<<FIXME>>>>].astype('float32')"
   ]
  },
  {
   "cell_type": "raw",
   "id": "5e144e9f-f8de-4d0f-a532-8f42a72c27d4",
   "metadata": {
    "jupyter": {
     "source_hidden": true
    }
   },
   "source": [
    "\n",
    "df['lat']=df['lat'].astype('float32')\n",
    "df['long']=df['long'].astype('float32')"
   ]
  },
  {
   "cell_type": "markdown",
   "id": "98b6542d-22cc-4926-b600-a3e052c37c96",
   "metadata": {},
   "source": [
    "Click ... for solution. "
   ]
  },
  {
   "cell_type": "markdown",
   "id": "7b2cd622-977c-4915-a87f-2fe03c1793f5",
   "metadata": {},
   "source": [
    "### Categorical ###\n",
    "\n",
    "ข้อมูลประเภท Categorical คือชนิดข้อมูลที่แสดงถึงหมวดหมู่หรือกลุ่มที่แยกจากกันอย่างชัดเจน สามารถมีลำดับหรืออันดับที่มีความหมายได้ แต่โดยทั่วไปไม่สามารถใช้สำหรับการดำเนินการทางตัวเลขได้ เมื่อเหมาะสม การใช้ชนิดข้อมูล `categorical` สามารถลดการใช้หน่วยความจำและนำไปสู่การดำเนินการที่เร็วขึ้นได้ นอกจากนี้ยังสามารถใช้เพื่อกำหนดและรักษาระเบียบของหมวดหมู่ที่กำหนดเองได้\n",
    "\n",
    "ด้านล่างนี้ เราจะหาจำนวนค่าที่ไม่ซ้ำกันในคอลัมน์สตริง"
   ]
  },
  {
   "cell_type": "code",
   "execution_count": null,
   "id": "f249e4b8-5d7a-4b44-ac15-bd3360a43f2a",
   "metadata": {},
   "outputs": [],
   "source": [
    "# DO NOT CHANGE THIS CELL\n",
    "df.select_dtypes(include='object').nunique()"
   ]
  },
  {
   "cell_type": "markdown",
   "id": "f1d8bd88-b39b-4043-9039-d8bd75fe851a",
   "metadata": {},
   "source": [
    "ด้านล่างนี้ เราจะแปลงคอลัมน์ที่มีค่าที่ไม่ต่อเนื่องจำนวนน้อยให้เป็นชนิด `category` ชนิดข้อมูล `category` มีคุณสมบัติ `.categories` และ `.codes` ซึ่งสามารถเข้าถึงได้ผ่านทาง `.cat`"
   ]
  },
  {
   "cell_type": "code",
   "execution_count": null,
   "id": "a99bebbf-2e5b-4720-96f9-9fd7d42d2fe8",
   "metadata": {},
   "outputs": [],
   "source": [
    "# DO NOT CHANGE THIS CELL\n",
    "df['sex']=df['sex'].astype('category')\n",
    "df['county']=df['county'].astype('category')"
   ]
  },
  {
   "cell_type": "code",
   "execution_count": null,
   "id": "41b7b290-cfcf-4ff6-b6b4-454c19b44a62",
   "metadata": {
    "scrolled": true
   },
   "outputs": [],
   "source": [
    "# DO NOT CHANGE THIS CELL\n",
    "display(df['county'].cat.categories)\n",
    "print('-'*40)\n",
    "display(df['county'].cat.codes)"
   ]
  },
  {
   "cell_type": "markdown",
   "id": "737385ab-677c-4bef-a86a-10aa3119e29a",
   "metadata": {},
   "source": [
    "**หมายเหตุ**: `.astype()` ยังสามารถใช้เพื่อแปลงข้อมูลเป็น `datetime` หรือ `object` เพื่อเปิดใช้งานเมธอดสำหรับ datetime และสตริง"
   ]
  },
  {
   "cell_type": "markdown",
   "id": "552c47c2-0fbc-455e-8745-cb98fc777243",
   "metadata": {},
   "source": [
    "\n",
    "## การโหลดข้อมูลอย่างมีประสิทธิภาพ (Efficient Data Loading) ##\n",
    "\n",
    "บ่อยครั้งที่การระบุชนิดข้อมูลที่เหมาะสมที่สุดสำหรับแต่ละคอลัมน์นั้นมีประโยชน์ โดยพิจารณาจากช่วงของข้อมูล ความแม่นยำที่ต้องการ และวิธีการนำข้อมูลไปใช้"
   ]
  },
  {
   "cell_type": "code",
   "execution_count": null,
   "id": "c2b9f0c3-8598-4a28-9481-ce28fea7544b",
   "metadata": {
    "scrolled": true
   },
   "outputs": [],
   "source": [
    "# DO NOT CHANGE THIS CELL\n",
    "start=time.time()\n",
    "df=pd.read_csv('./data/uk_pop.csv')\n",
    "duration=time.time()-start\n",
    "\n",
    "mem_usage_df=df.memory_usage(deep=True)\n",
    "display(mem_usage_df)\n",
    "\n",
    "print(f'Loading {make_decimal(mem_usage_df.sum())} took {round(duration, 2)} seconds.')"
   ]
  },
  {
   "cell_type": "markdown",
   "id": "5729520e-3ed8-4ec6-ae1f-ba46d642f48d",
   "metadata": {},
   "source": [
    "ด้านล่างนี้ เราจะเปิดใช้งาน `cuda.pandas` เพื่อดูความแตกต่าง\n"
   ]
  },
  {
   "cell_type": "code",
   "execution_count": null,
   "id": "99aa0f32-4d2a-43a7-bec1-f1b88bcc37c2",
   "metadata": {},
   "outputs": [],
   "source": [
    "# DO NOT CHANGE THIS CELL\n",
    "%load_ext cudf.pandas\n",
    "\n",
    "import pandas as pd\n",
    "import time"
   ]
  },
  {
   "cell_type": "code",
   "execution_count": null,
   "id": "2b724201-9ad1-4e9b-b712-f3b31bdc4104",
   "metadata": {},
   "outputs": [],
   "source": [
    "# DO NOT CHANGE THIS CELL\n",
    "suffixes = ['B', 'kB', 'MB', 'GB', 'TB', 'PB']\n",
    "def make_decimal(nbytes):\n",
    "    i=0\n",
    "    while nbytes >= 1024 and i < len(suffixes)-1:\n",
    "        nbytes/=1024.\n",
    "        i+=1\n",
    "    f=('%.2f' % nbytes).rstrip('0').rstrip('.')\n",
    "    return '%s %s' % (f, suffixes[i])"
   ]
  },
  {
   "cell_type": "code",
   "execution_count": null,
   "id": "99bdd7b0-8563-41db-bd8e-3a7279394ede",
   "metadata": {
    "scrolled": true
   },
   "outputs": [],
   "source": [
    "%%cudf.pandas.line_profile\n",
    "# DO NOT CHANGE THIS CELL\n",
    "start=time.time()\n",
    "\n",
    "# define data types for each column\n",
    "dtype_dict={\n",
    "    'age': 'int8', \n",
    "    'sex': 'category', \n",
    "    'county': 'category', \n",
    "    'lat': 'float64', \n",
    "    'long': 'float64', \n",
    "    'name': 'category'\n",
    "}\n",
    "        \n",
    "efficient_df=pd.read_csv('./data/uk_pop.csv', dtype=dtype_dict)\n",
    "duration=time.time()-start\n",
    "\n",
    "mem_usage_df=efficient_df.memory_usage('deep')\n",
    "display(mem_usage_df)\n",
    "\n",
    "print(f'Loading {make_decimal(mem_usage_df.sum())} took {round(duration, 2)} seconds.')"
   ]
  },
  {
   "cell_type": "markdown",
   "id": "0f4607d8-6de3-4b27-96d4-a9720d268333",
   "metadata": {},
   "source": [
    "\n",
    "เราสามารถโหลดข้อมูลได้เร็วขึ้นและมีประสิทธิภาพมากขึ้น\n",
    "\n",
    "**หมายเหตุ**: สังเกตว่าหน่วยความจำที่ใช้บน GPU มีขนาดใหญ่กว่าหน่วยความจำที่ DataFrame ใช้ นี่เป็นสิ่งที่คาดไว้ เนื่องจากการโหลดข้อมูลมีกระบวนการตัวกลางที่ใช้หน่วยความจำบางส่วนในระหว่างกระบวนการโหลดข้อมูล โดยเฉพาะอย่างยิ่งที่เกี่ยวข้องกับการแยกวิเคราะห์ไฟล์ csv ในกรณีนี้\n",
    "```\n",
    "+-----------------------------------------------------------------------------+\n",
    "| NVIDIA-SMI 525.60.13    Driver Version: 525.60.13    CUDA Version: 12.0     |\n",
    "|-------------------------------+----------------------+----------------------+\n",
    "| GPU  Name        Persistence-M| Bus-Id        Disp.A | Volatile Uncorr. ECC |\n",
    "| Fan  Temp  Perf  Pwr:Usage/Cap|         Memory-Usage | GPU-Util  Compute M. |\n",
    "|                               |                      |               MIG M. |\n",
    "|===============================+======================+======================|\n",
    "|   0  Tesla T4            Off  | 00000000:00:1B.0 Off |                    0 |\n",
    "| N/A   32C    P0    26W /  70W |   1378MiB / 15360MiB |      0%      Default |\n",
    "|                               |                      |                  N/A |\n",
    "+-------------------------------+----------------------+----------------------+\n",
    "|   1  Tesla T4            Off  | 00000000:00:1C.0 Off |                    0 |\n",
    "| N/A   31C    P0    26W /  70W |    168MiB / 15360MiB |      0%      Default |\n",
    "|                               |                      |                  N/A |\n",
    "+-------------------------------+----------------------+----------------------+\n",
    "|   2  Tesla T4            Off  | 00000000:00:1D.0 Off |                    0 |\n",
    "| N/A   30C    P0    26W /  70W |    168MiB / 15360MiB |      0%      Default |\n",
    "|                               |                      |                  N/A |\n",
    "+-------------------------------+----------------------+----------------------+\n",
    "|   3  Tesla T4            Off  | 00000000:00:1E.0 Off |                    0 |\n",
    "| N/A   30C    P0    26W /  70W |    168MiB / 15360MiB |      0%      Default |\n",
    "|                               |                      |                  N/A |\n",
    "+-------------------------------+----------------------+----------------------+\n",
    "                                                                               \n",
    "+-----------------------------------------------------------------------------+\n",
    "| Processes:                                                                  |\n",
    "|  GPU   GI   CI        PID   Type   Process name                  GPU Memory |\n",
    "|        ID   ID                                                   Usage      |\n",
    "|=============================================================================|\n",
    "+-----------------------------------------------------------------------------+\n",
    "```"
   ]
  },
  {
   "cell_type": "code",
   "execution_count": null,
   "id": "92f7ee37-4acb-46aa-bb73-4c0139d3f6b8",
   "metadata": {
    "scrolled": true
   },
   "outputs": [],
   "source": [
    "# DO NOT CHANGE THIS CELL\n",
    "!nvidia-smi"
   ]
  },
  {
   "cell_type": "markdown",
   "id": "c031d2c7-03cb-4ac7-a195-70fc25cb191d",
   "metadata": {},
   "source": [
    "เมื่อโหลดข้อมูลด้วยวิธีนี้ เราอาจสามารถใส่ข้อมูลได้มากขึ้น ขนาดชุดข้อมูลที่เหมาะสมที่สุดขึ้นอยู่กับปัจจัยหลายประการ รวมถึงการดำเนินการเฉพาะที่กำลังทำอยู่ ความซับซ้อนของภาระงาน และหน่วยความจำ GPU ที่มีอยู่ เพื่อเพิ่มการเร่งความเร็ว ชุดข้อมูลควรพอดีกับหน่วยความจำ GPU โดยมีพื้นที่เพียงพอสำหรับสำหรับการดำเนินการที่อาจเพิ่มความต้องการหน่วยความจำ โดยทั่วไปแล้ว cuDF แนะนำชุดข้อมูลที่มีขนาดน้อยกว่า 50% ของความจุหน่วยความจำ GPU"
   ]
  },
  {
   "cell_type": "code",
   "execution_count": null,
   "id": "ec6cefea-dc64-4f13-815e-081cd35651b9",
   "metadata": {
    "scrolled": true
   },
   "outputs": [],
   "source": [
    "# DO NOT CHANGE THIS CELL\n",
    "# 1 gigabytes = 1073741824 bytes\n",
    "mem_capacity=16*1073741824\n",
    "\n",
    "mem_per_record=mem_usage_df.sum()/len(efficient_df)\n",
    "\n",
    "print(f'We can load {int(mem_capacity/2/mem_per_record)} number of rows.')"
   ]
  },
  {
   "cell_type": "code",
   "execution_count": null,
   "id": "ddaaa1ac-66ec-4323-9842-2543c6d85e4e",
   "metadata": {
    "scrolled": true
   },
   "outputs": [],
   "source": [
    "# DO NOT CHANGE THIS CELL\n",
    "import IPython\n",
    "app = IPython.Application.instance()\n",
    "app.kernel.do_shutdown(True)"
   ]
  },
  {
   "cell_type": "markdown",
   "id": "658e9847-775f-4d12-af4e-8f896df4e6fe",
   "metadata": {},
   "source": [
    "**เยี่ยมมาก!** ไปยัง [โน้ตบุ๊กถัดไป](1-04_interoperability.ipynb) กันเลย"
   ]
  }
 ],
 "metadata": {
  "kernelspec": {
   "display_name": "Python 3 (ipykernel)",
   "language": "python",
   "name": "python3"
  },
  "language_info": {
   "codemirror_mode": {
    "name": "ipython",
    "version": 3
   },
   "file_extension": ".py",
   "mimetype": "text/x-python",
   "name": "python",
   "nbconvert_exporter": "python",
   "pygments_lexer": "ipython3",
   "version": "3.10.15"
  }
 },
 "nbformat": 4,
 "nbformat_minor": 5
}
