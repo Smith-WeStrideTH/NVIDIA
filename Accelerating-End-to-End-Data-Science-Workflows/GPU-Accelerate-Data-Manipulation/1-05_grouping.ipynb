{
 "cells": [
  {
   "cell_type": "markdown",
   "id": "ae497b71-bc43-471e-8970-88a1878e7cf9",
   "metadata": {},
   "source": [
    "# Accelerating End-to-End Data Science Workflows # "
   ]
  },
  {
   "cell_type": "markdown",
   "id": "a149b6d1-1880-4a5d-9d71-f963d3097aa4",
   "metadata": {},
   "source": [
    "\n",
    "## 05 - การจัดกลุ่ม (Grouping) ##\n",
    "\n",
    "**สารบัญ**\n",
    "\n",
    "โน้ตบุ๊กนี้จะอภิปรายและสาธิตวิธีการใช้การจัดกลุ่มในวิทยาศาสตร์ข้อมูล โน้ตบุ๊กนี้ครอบคลุมส่วนต่างๆ ดังนี้:\n",
    "\n",
    "1.  [การจัดกลุ่ม (Grouping)](#Grouping)\n",
    "    * [แยก, ประยุกต์, และรวม (Split, Apply, and Combine)](#Split,-Apply,-and-Combine)\n",
    "    * [แบบฝึกหัดที่ 1 - อายุเฉลี่ยต่อมณฑล (Average Age Per County)](#Exercise-#1---Average-Age-Per-County)\n",
    "2.  [การแบ่งกลุ่ม (Binning)](#Binning)\n",
    "    * [แบบฝึกหัดที่ 2 - การใช้ Profiler (Using the Profiler)](#Exercise-#2---Using-the-Profiler)\n",
    "3.  [การดำเนินการ Groupby ขั้นสูง (Advanced Groupby Operations)](#Advanced-Groupby-Operations)\n",
    "    * [`.apply()`](#.apply())\n",
    "    * [`.transform()`](#.transform())\n",
    "4.  [ตาราง Pivot (Pivot Table)](#Pivot-Table)"
   ]
  },
  {
   "cell_type": "markdown",
   "id": "f4f2e800-7d61-4370-8a96-ebef3a6d0c0a",
   "metadata": {},
   "source": [
    "## การจัดกลุ่ม (Grouping) ##\n",
    "\n",
    "ในวิทยาศาสตร์ข้อมูล เรามักจะต้องการแบ่งข้อมูลออกเป็นกลุ่มและดำเนินการวิเคราะห์เพิ่มเติม เช่น:\n",
    "* รวบรวมข้อมูลตามการจัดกลุ่ม\n",
    "* เปรียบเทียบเมตริกซ์ในกลุ่มต่างๆ\n",
    "* ทำความเข้าใจรูปแบบในข้อมูลทั่วทั้งกลุ่มต่างๆ\n",
    "* ลบรายการที่ซ้ำกันหรือเติมค่าที่ขาดหายไปตามข้อมูลระดับกลุ่ม\n",
    "* สร้างคุณลักษณะใหม่ตามสถิติระดับกลุ่ม\n",
    "* รวมเข้ากับการแสดงข้อมูลด้วยภาพ"
   ]
  },
  {
   "cell_type": "markdown",
   "id": "93d943bf-aaad-42c8-9b2c-70c8b6c0bf44",
   "metadata": {},
   "source": [
    "ด้านล่างนี้ เราจะโหลดชุดข้อมูลของเรา\n"
   ]
  },
  {
   "cell_type": "code",
   "execution_count": null,
   "id": "ff482017",
   "metadata": {},
   "outputs": [],
   "source": [
    "from google.colab import drive\n",
    "drive.mount('/content/drive')"
   ]
  },
  {
   "cell_type": "code",
   "execution_count": null,
   "id": "89c435b1-35d5-4971-ade1-549ae77d22db",
   "metadata": {},
   "outputs": [],
   "source": [
    "# DO NOT CHANGE THIS CELL\n",
    "%load_ext cudf.pandas\n",
    "import pandas as pd\n",
    "import time"
   ]
  },
  {
   "cell_type": "code",
   "execution_count": null,
   "id": "8dc82f3c-f1cb-436b-becb-a97635ec5f6a",
   "metadata": {
    "scrolled": true
   },
   "outputs": [],
   "source": [
    "# DO NOT CHANGE THIS CELL\n",
    "dtype_dict={\n",
    "    'age': 'int8', \n",
    "    'sex': 'category', \n",
    "    'county': 'category', \n",
    "    'lat': 'float32', \n",
    "    'long': 'float32', \n",
    "    'name': 'category'\n",
    "}\n",
    "        \n",
    "df=pd.read_csv('./data/uk_pop.csv', dtype=dtype_dict)\n",
    "df.head()"
   ]
  },
  {
   "cell_type": "markdown",
   "id": "c8bbdeac-9134-443b-9b38-7a980b19decf",
   "metadata": {},
   "source": [
    "## แยก, ประยุกต์, และรวม (Split, Apply, and Combine) ##\n",
    "\n",
    "เราใช้เมธอด `.groupby()` เพื่อจัดกลุ่มข้อมูลจำนวนมากและดำเนินการคำนวณกับกลุ่มเหล่านี้ การดำเนินการ groupby เกี่ยวข้องกับการรวมกันของการแยกวัตถุ การประยุกต์ใช้ฟังก์ชัน และการรวมผลลัพธ์ cuDF ใช้การจัดกลุ่มเรคคอร์ดในลักษณะที่เทียบเคียงได้กับ Pandas แต่มีความแตกต่างที่น่าสังเกตบางประการ\n",
    "\n",
    "<p><img src='images/groupby.png' width=720></p>\n",
    "\n",
    "cuDF รองรับการคำนวณและสถิติเชิงพรรณนา `DataFrameGroupBy` ทั่วไปหลายอย่าง เช่น `.size()`, `.mean()`, `.count()`, `.cov()`, `.cumprod()`, `.cumsum()`, `.max()`, `.min()`, `.nunique()`\n",
    "\n",
    "**หมายเหตุ**: สามารถดูข้อมูลเพิ่มเติมเกี่ยวกับพฤติกรรมของ `.groupby()` สำหรับ pandas และความแตกต่างจาก cuDF ได้จากลิงก์ด้านล่าง:\n",
    "* [pandas](https://pandas.pydata.org/docs/user_guide/groupby.html)\n",
    "* [cuDF](https://docs.rapids.ai/api/cudf/stable/user_guide/groupby/)\n",
    "\n",
    "ด้านล่างนี้ เราจะหาจำนวนคนในแต่ละมณฑล"
   ]
  },
  {
   "cell_type": "code",
   "execution_count": null,
   "id": "72b646d3-b175-4a4e-804f-43afcb6910a2",
   "metadata": {
    "scrolled": true
   },
   "outputs": [],
   "source": [
    "# DO NOT CHANGE THIS CELL\n",
    "df.groupby('county').size()"
   ]
  },
  {
   "cell_type": "markdown",
   "id": "a4775215-c6d4-49b0-ba8d-4d10a7e9f434",
   "metadata": {},
   "source": [
    "**หมายเหตุ**: ผลลัพธ์ไม่ได้เรียงลำดับ เราสามารถเรียงลำดับผลลัพธ์ได้โดยใช้เมธอด `.sort_index()` หรือ `.sort_values()`\n",
    "\n",
    "ด้านล่างนี้ เราจะนับจำนวนคนที่มีชื่อที่ได้รับความนิยมมากที่สุดและน้อยที่สุด\n"
   ]
  },
  {
   "cell_type": "code",
   "execution_count": null,
   "id": "6b22bb2b-8b86-45cb-ba26-3b845be5ac00",
   "metadata": {
    "scrolled": true
   },
   "outputs": [],
   "source": [
    "# DO NOT CHANGE THIS CELL\n",
    "df.groupby('name').size().sort_values()"
   ]
  },
  {
   "cell_type": "markdown",
   "id": "fb83bfcd-d9b2-434d-a0b3-d8d435901ece",
   "metadata": {},
   "source": [
    "ด้านล่างนี้ เราจะหาจุดศูนย์กลางโดยประมาณของแต่ละมณฑลโดยใช้ `.groupby().mean()` ในการดำเนินการ groupby เราควรจะ **รวมเฉพาะ** คอลัมน์ที่ถูกใช้งานเท่านั้น\n"
   ]
  },
  {
   "cell_type": "code",
   "execution_count": null,
   "id": "9f0efddf-7c0a-4fbc-8c88-b0fad245b05f",
   "metadata": {
    "scrolled": true
   },
   "outputs": [],
   "source": [
    "%%cudf.pandas.line_profile\n",
    "# DO NOT CHANGE THIS CELL\n",
    "\n",
    "county_center_df=df[['county', 'lat', 'long']].groupby('county')[['lat', 'long']].mean()\n",
    "display(county_center_df)"
   ]
  },
  {
   "cell_type": "code",
   "execution_count": null,
   "id": "b99556b3-b75d-4755-9b03-141d4addb023",
   "metadata": {},
   "outputs": [],
   "source": [
    "# DO NOT CHANGE THIS CELL\n",
    "county_center_df.columns=['lat_county_center', 'long_county_center']\n",
    "county_center_df.to_csv('county_centroid.csv')"
   ]
  },
  {
   "cell_type": "markdown",
   "id": "49a498f4-b298-446c-8255-60def6d3b0ed",
   "metadata": {},
   "source": [
    "### แบบฝึกหัดที่ 1 - อายุเฉลี่ยต่อมณฑล (Average Age Per County) ###\n",
    "\n",
    "เราต้องการหาอายุเฉลี่ยสำหรับแต่ละมณฑล เราจะต้องใช้ทั้ง `.groupby()` และ `.sort_values()` โดยใช้เมธอด `.mean()` กับข้อมูลที่จัดกลุ่มตาม `county` ระบุมณฑล 5 อันดับแรกที่มีอายุเฉลี่ยสูงสุด\n",
    "\n",
    "**คำแนะนำ**:\n",
    "* แก้ไขเฉพาะส่วน `<FIXME>` เท่านั้น และรันเซลล์ด้านล่างเพื่อหาอายุเฉลี่ยสำหรับแต่ละมณฑล\n"
   ]
  },
  {
   "cell_type": "code",
   "execution_count": null,
   "id": "0bdd55da-814b-4ea4-9ba5-ccc1abbf7941",
   "metadata": {},
   "outputs": [],
   "source": [
    "df[['county', 'age']].groupby(<<<<FIXME>>>>)['age']\\\n",
    "                     .<<<<FIXME>>>>()\\\n",
    "                     .sort_values(ascending=False)\\\n",
    "                     .head()"
   ]
  },
  {
   "cell_type": "raw",
   "id": "e0e38e06-3d7d-4b99-adc7-916fa6b18b2f",
   "metadata": {
    "jupyter": {
     "source_hidden": true
    },
    "scrolled": true
   },
   "source": [
    "\n",
    "%%cudf.pandas.line_profile\n",
    "# DO NOT CHANGE THIS CELL\n",
    "display(\n",
    "    df[['county', 'age']].groupby('county')['age']\\\n",
    "                         .mean()\\\n",
    "                         .sort_values(ascending=False)\\\n",
    "                         .head()\n",
    ")"
   ]
  },
  {
   "cell_type": "markdown",
   "id": "0c4a3e80-c5cb-410f-a5ba-fde705594c66",
   "metadata": {},
   "source": [
    "Click ... for solution. "
   ]
  },
  {
   "cell_type": "markdown",
   "id": "73fc5851-33dc-42a2-b086-6b5d7d2d65bb",
   "metadata": {},
   "source": [
    "## การแบ่งกลุ่ม (Binning) ##\n",
    "\n",
    "เมื่อจัดกลุ่มข้อมูลตัวเลขต่อเนื่อง บางครั้งการจัดกลุ่มตัวเลขให้อยู่ในช่วงหรือถังเก็บข้อมูลแบบไม่ต่อเนื่องก็มีประโยชน์ มีวิธีการแบ่งกลุ่มหลักๆ สองวิธี:\n",
    "\n",
    "* การแบ่งกลุ่มแบบเท่ากัน: แบ่งช่วงออกเป็นช่วงขนาดเท่ากัน\n",
    "* การแบ่งกลุ่มแบบกำหนดเอง: กำหนดถังเก็บข้อมูลแบบกำหนดเองตามความรู้ในโดเมนหรือเกณฑ์เฉพาะ\n",
    "\n",
    "ฟังก์ชัน `.cut()` สามารถใช้เพื่อจัดกลุ่มค่าให้อยู่ในช่วงที่ไม่ต่อเนื่อง"
   ]
  },
  {
   "cell_type": "code",
   "execution_count": null,
   "id": "5274991e-521f-44f7-bda7-427e7ecee8c0",
   "metadata": {
    "scrolled": true
   },
   "outputs": [],
   "source": [
    "%%cudf.pandas.line_profile\n",
    "# DO NOT CHANGE THIS CELL\n",
    "\n",
    "bins=[0, 10, 20, 30, 40, 50, 60, 70, 80, 90, 100]\n",
    "df['age_bucket']=pd.cut(df['age'].values, bins=bins, right=True, include_lowest=True, labels=False)\n",
    "display(df.groupby('age_bucket').size())"
   ]
  },
  {
   "cell_type": "markdown",
   "id": "db8ec7e5-f6f4-4041-8187-578a15c73808",
   "metadata": {},
   "source": [
    "### แบบฝึกหัดที่ 2 - การใช้ Profiler ###\n",
    "\n",
    "cuDF pandas จะพยายามใช้ GPU เมื่อเป็นไปได้และจะกลับไปใช้ CPU สำหรับการดำเนินการบางอย่าง การรันโค้ดด้วยคำสั่ง magic command `cudf.pandas.line_profile` จะสร้างรายงานที่แสดงว่าการดำเนินการใดใช้ GPU และการดำเนินการใดใช้ CPU\n",
    "\n",
    "**คำแนะนำ**:\n",
    "* สังเกตว่าเซลล์ด้านล่างนี้เป็นการดำเนินการที่คล้ายกับเมื่อก่อนมาก ยกเว้นว่ามันใช้ฟังก์ชัน `range()` สำหรับพารามิเตอร์ `bins` ในสถานะปัจจุบัน สิ่งนี้ไม่ได้รับการสนับสนุนใน cuDF\n",
    "* รันเซลล์ด้านล่างเพื่อรันการดำเนินการ binning บน CPU\n",
    "* เปรียบเทียบเวลาที่ใช้ในการรันการดำเนินการที่คล้ายกันด้านบน"
   ]
  },
  {
   "cell_type": "code",
   "execution_count": null,
   "id": "991c437f-afee-408e-9144-006c4313f9f3",
   "metadata": {
    "scrolled": true
   },
   "outputs": [],
   "source": [
    "%%cudf.pandas.line_profile\n",
    "# DO NOT CHANGE THIS CELL\n",
    "\n",
    "df['age_bucket']=pd.cut(df['age'].values, bins=range(0, 100, 10), right=True, include_lowest=True, labels=False)\n",
    "display(df.groupby('age_bucket').size())"
   ]
  },
  {
   "cell_type": "markdown",
   "id": "95ef539b-6ab4-4f28-b84e-8b83f32d0c0c",
   "metadata": {},
   "source": [
    "**หมายเหตุ**: ตัวโปรไฟล์สามารถช่วยเราระบุส่วนของโค้ดที่สามารถเขียนใหม่ให้เหมาะกับ GPU ได้มากขึ้น"
   ]
  },
  {
   "cell_type": "markdown",
   "id": "7c76d718-693c-4550-8eec-3de742565a9d",
   "metadata": {},
   "source": [
    "## การดำเนินการ Groupby ขั้นสูง ##\n",
    "\n",
    "เรายังสามารถใช้ตัวช่วยการประยุกต์ใช้ฟังก์ชันบนอินสแตนซ์ `DataFrameGroupBy` ได้ดังนี้:\n",
    "\n",
    "* `DataFrameGroupby.aggregate()` / `Groupby.agg()` (นามแฝง): ใช้เมื่อเรามีการคำนวณเฉพาะสำหรับคอลัมน์ที่แตกต่างกัน หรือมีการคำนวณมากกว่าหนึ่งรายการบนคอลัมน์เดียวกัน\n",
    "* `DataFrameGroupby.apply()`: ใช้เมื่อเราต้องการเรียกใช้ฟังก์ชันที่ผู้ใช้กำหนด (user-defined function) เฉพาะสำหรับแต่ละกลุ่ม\n",
    "* `DataFrameGroupby.transform()`: ใช้เมื่อค่าผลลัพธ์ควรถูกกระจายไปทั่วทั้งกลุ่มและส่งคืน DataFrame ที่มีดัชนีเดียวกัน"
   ]
  },
  {
   "cell_type": "markdown",
   "id": "059bded6-fb78-4129-b723-6fa1de7ed8f0",
   "metadata": {},
   "source": [
    "\n",
    "### `.apply()` ###\n",
    "\n",
    "เมธอด `.apply()` จะประยุกต์ใช้ฟังก์ชันตามกลุ่ม **ตามลำดับ** และรวมผลลัพธ์เข้าด้วยกัน เราสามารถส่งฟังก์ชัน callable เพื่อดำเนินการกับ DataFrame ทั้งหมดสำหรับแต่ละกลุ่มได้\n",
    "\n",
    "ด้านล่างนี้ เราจะคำนวณระยะห่างของแต่ละบุคคลจากจุดศูนย์กลางของมณฑลของตน"
   ]
  },
  {
   "cell_type": "code",
   "execution_count": null,
   "id": "6906dc46-32fd-45f4-8be1-ff30d944d226",
   "metadata": {},
   "outputs": [],
   "source": [
    "# DO NOT CHANGE THIS CELL\n",
    "\n",
    "# define distance function\n",
    "def distance(lat_1, long_1, lat_2, long_2): \n",
    "    return ((lat_2-lat_1)**2+(long_2-long_1)**2)**0.5"
   ]
  },
  {
   "cell_type": "code",
   "execution_count": null,
   "id": "63906fdc-10a5-4239-951e-e9551ff8d60b",
   "metadata": {
    "scrolled": true
   },
   "outputs": [],
   "source": [
    "%%cudf.pandas.line_profile\n",
    "# DO NOT CHANGE THIS CELL\n",
    "\n",
    "distance_df=df.groupby('county')[['lat', 'long']].apply(lambda x: distance(x['lat'], x['long'], x['lat'].mean(), x['long'].mean()))\n",
    "df['R_1']=distance_df.reset_index(level=0, drop=True)"
   ]
  },
  {
   "cell_type": "markdown",
   "id": "447dcea4-3fc7-4501-9f67-17801f914875",
   "metadata": {},
   "source": [
    "เราสามารถกำหนดฟังก์ชันแบบอินไลน์ได้ด้วย"
   ]
  },
  {
   "cell_type": "code",
   "execution_count": null,
   "id": "97a963d9-e61c-4af6-bd32-89a5b892b09b",
   "metadata": {
    "scrolled": true
   },
   "outputs": [],
   "source": [
    "%%cudf.pandas.line_profile\n",
    "# DO NOT CHANGE THIS CELL\n",
    "\n",
    "df['R_2']=df.groupby('county')[['lat', 'long']].apply(lambda x: ((x['lat'].mean()-x['lat'])**2+(x['long'].mean()-x['long'])**2)**0.5).reset_index(level=0, drop=True)"
   ]
  },
  {
   "cell_type": "markdown",
   "id": "e15cfd17-9b05-4de4-9c9a-fa9167f2d05f",
   "metadata": {},
   "source": [
    "**หมายเหตุ**: การดำเนินการนี้ค่อนข้างช้าเนื่องจากลักษณะการทำงานแบบวนซ้ำของเมธอด `.apply()`"
   ]
  },
  {
   "cell_type": "markdown",
   "id": "7b7dc9d6-8c1d-4e1f-a6c3-85d036c62c26",
   "metadata": {},
   "source": [
    "\n",
    "### `.transform()` ###\n",
    "\n",
    "เมธอด `.transform()` จะทำการรวมข้อมูลแต่ละกลุ่ม และกระจายผลลัพธ์ไปยังขนาดของกลุ่ม ทำให้ได้ DataFrame ที่มีขนาดและดัชนีเท่ากับ DataFrame ต้นฉบับ ภายใต้การทำงานภายใน เมธอด `.transform()` จะส่งแต่ละคอลัมน์ทีละคอลัมน์เป็น Series ไปยังฟังก์ชัน\n",
    "\n",
    "ด้านล่างนี้ เราจะจัดกลุ่ม DataFrame ตาม `county` และแปลงคอลัมน์ `lat` และ `long` โดยใช้ `mean` เราจะลบค่าเฉลี่ยที่แปลงแล้วออกจากคอลัมน์ต้นฉบับ จากนั้นใช้สูตรระยะทางเพื่อคำนวณระยะทางที่ได้ โดยการรักษารูปร่างของ DataFrame ให้เหมือนเดิม เราสามารถดำเนินการ cuDF ได้อย่างรวดเร็ว ส่งผลให้ประสิทธิภาพเพิ่มขึ้น"
   ]
  },
  {
   "cell_type": "code",
   "execution_count": null,
   "id": "b1a3b520-1da5-4486-b024-ff9c4d3e1df3",
   "metadata": {
    "scrolled": true
   },
   "outputs": [],
   "source": [
    "# DO NOT CHANGE THIS CELL\n",
    "# make data types more precise\n",
    "df[['lat', 'long']]=df[['lat', 'long']].astype('float64')"
   ]
  },
  {
   "cell_type": "code",
   "execution_count": null,
   "id": "d6aa82c0-e7df-4f6a-837a-a9bdd3657787",
   "metadata": {
    "scrolled": true
   },
   "outputs": [],
   "source": [
    "%%cudf.pandas.line_profile\n",
    "# DO NOT CHANGE THIS CELL\n",
    "\n",
    "c=['lat', 'long']\n",
    "df['R_3']=((df[c] - df.groupby('county')[c].transform('mean')) ** 2).sum(axis=1) ** 0.5"
   ]
  },
  {
   "cell_type": "code",
   "execution_count": null,
   "id": "4b322745-245f-4d04-83cc-dd5089debf74",
   "metadata": {
    "scrolled": true
   },
   "outputs": [],
   "source": [
    "df.head()"
   ]
  },
  {
   "cell_type": "markdown",
   "id": "858b309c-4533-4798-a22c-fe6858257cbc",
   "metadata": {},
   "source": [
    "\n",
    "แม้ว่าเมธอด `.apply()` จะมีความยืดหยุ่นมากกว่าและสามารถจัดการการดำเนินการที่ซับซ้อนได้ แต่โดยทั่วไปแล้วจะช้ากว่า ในทางกลับกัน เมธอด `.transform()` สามารถทำงานได้เร็วกว่ามาก เมื่อเราออกแบบขั้นตอนเพื่อใช้การดำเนินการแบบเวกเตอร์ เราจะได้รับประโยชน์ด้านประสิทธิภาพอย่างมาก\n",
    "\n",
    "**หมายเหตุ**: `Groupby.apply()` ไม่ได้ปรับขนาดได้ดีกับจำนวนกลุ่ม ดังนั้นความแตกต่างของประสิทธิภาพนี้จะเห็นได้ชัดเจนยิ่งขึ้นเมื่อมีจำนวนกลุ่มที่สูงขึ้น"
   ]
  },
  {
   "cell_type": "markdown",
   "id": "7bc715eb-e357-4a92-8778-a144007a9697",
   "metadata": {},
   "source": [
    "\n",
    "## ตาราง Pivot (Pivot Table) ##\n",
    "\n",
    "ตาราง Pivot ช่วยให้เราสามารถสรุปและรวมชุดข้อมูลขนาดใหญ่ให้อยู่ในรูปแบบที่จัดการได้ง่ายขึ้นสำหรับการวิเคราะห์ เมื่อใช้ `DataFrame.pivot_table()` เราจะระบุอาร์กิวเมนต์ `index`, `columns` และ `values` รวมถึง `aggfunc` สิ่งนี้จะจัดกลุ่มข้อมูลตาม `index` และ `columns` และดำเนินการรวมข้อมูลบน `values` เราสามารถใช้ฟังก์ชันการรวมข้อมูลหลายฟังก์ชัน ซึ่งโดยทั่วไปจะเร็วกว่าและประหยัดหน่วยความจำมากกว่าการจัดกลุ่มและรวมข้อมูลด้วยตนเองสำหรับชุดข้อมูลขนาดใหญ่\n",
    "\n",
    "ด้านล่างนี้ เราจะสร้างตาราง Pivot ที่นับจำนวนเพศแต่ละเพศในแต่ละมณฑล นอกจากนี้ เราจะหาเปอร์เซ็นต์ของจำนวนทั้งหมดสำหรับแต่ละมณฑล"
   ]
  },
  {
   "cell_type": "code",
   "execution_count": null,
   "id": "a6c8cd25-9892-458e-a9a0-8af10647f9c7",
   "metadata": {
    "scrolled": true
   },
   "outputs": [],
   "source": [
    "%%cudf.pandas.line_profile\n",
    "# DO NOT CHANGE THIS CELL\n",
    "\n",
    "pvt_tbl=df[['county', 'sex', 'name']].pivot_table(index=['county'], columns=['sex'], values='name', aggfunc='count')\n",
    "pvt_tbl=pvt_tbl.apply(lambda x: x/sum(x), axis=1)\n",
    "display(pvt_tbl)"
   ]
  },
  {
   "cell_type": "code",
   "execution_count": null,
   "id": "9ba52ec8-18bd-4f30-a3dd-ccbdface4bb4",
   "metadata": {},
   "outputs": [],
   "source": [
    "import IPython\n",
    "app = IPython.Application.instance()\n",
    "app.kernel.do_shutdown(True)"
   ]
  },
  {
   "cell_type": "markdown",
   "id": "9e99bf3f-be76-4ebf-aed3-624d4e8695ac",
   "metadata": {},
   "source": [
    "**เยี่ยมมาก!** ไปยัง [โน้ตบุ๊กถัดไป](1-06_data_visualization.ipynb) กันเลย"
   ]
  }
 ],
 "metadata": {
  "kernelspec": {
   "display_name": "Python 3 (ipykernel)",
   "language": "python",
   "name": "python3"
  },
  "language_info": {
   "codemirror_mode": {
    "name": "ipython",
    "version": 3
   },
   "file_extension": ".py",
   "mimetype": "text/x-python",
   "name": "python",
   "nbconvert_exporter": "python",
   "pygments_lexer": "ipython3",
   "version": "3.10.15"
  }
 },
 "nbformat": 4,
 "nbformat_minor": 5
}
