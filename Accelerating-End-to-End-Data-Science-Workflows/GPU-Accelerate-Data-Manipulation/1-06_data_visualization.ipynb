{
 "cells": [
  {
   "cell_type": "markdown",
   "id": "b53a7b12-538d-4459-b82a-a35c8c417849",
   "metadata": {},
   "source": [
    "<img src=\"images/nvidia_header.png\" style=\"margin-left: -30px; width: 300px; float: left;\">"
   ]
  },
  {
   "cell_type": "markdown",
   "id": "ae497b71-bc43-471e-8970-88a1878e7cf9",
   "metadata": {},
   "source": [
    "# Accelerating End-to-End Data Science Workflows # "
   ]
  },
  {
   "cell_type": "markdown",
   "id": "a149b6d1-1880-4a5d-9d71-f963d3097aa4",
   "metadata": {},
   "source": [
    "\n",
    "## 06 - การแสดงภาพข้อมูล (Data Visualization) ##\n",
    "\n",
    "**สารบัญ**\n",
    "\n",
    "โน้ตบุ๊กนี้จะสาธิตพื้นฐานของการแสดงภาพข้อมูลสำหรับชุดข้อมูลขนาดใหญ่ โน้ตบุ๊กนี้ครอบคลุมส่วนต่างๆ ดังนี้:\n",
    "\n",
    "1.  [การแสดงภาพข้อมูล (Data Visualization)](#Data-Visualization)\n",
    "2.  [แผนภูมิแท่ง (Bar Chart)](#Bar-Chart)\n",
    "    * [ฮิสโตแกรม (Histogram)](#Histogram)\n",
    "    * [แบบฝึกหัดที่ 1 - แผนภูมิแท่ง (Bar Chart)](#Exercise-#1---Bar-Chart)\n",
    "3.  [แผนภูมิ Scatter Plot (Scatter Plot)](#Scatter-Plot)\n",
    "4.  [แผนภูมิเส้น (Line Chart)](#Line-Chart)\n",
    "5.  [Datashader](#Datashader)\n",
    "    * [Datashader ที่เร่งความเร็วด้วย GPU (Datashader Accelerated by GPU)](#Datashader-Accelerated-by-GPU)\n",
    "6.  [การแสดงภาพแบบโต้ตอบ (Interactive Visualization)](#Interactive-Visualization)\n",
    "    * [cuxfilter และ Dashboard](#cuxfilter-and-Dashboard)\n",
    "7.  [ไลบรารีอื่น ๆ (Other Libraries)](#Other-Libraries)"
   ]
  },
  {
   "cell_type": "markdown",
   "id": "39f0f08f-92a2-4bfc-b8bc-5904aa70b5fc",
   "metadata": {},
   "source": [
    "\n",
    "\n",
    "## การแสดงภาพข้อมูล (Data Visualization) ##\n",
    "\n",
    "การแสดงภาพข้อมูลเป็นส่วนสำคัญของวิทยาศาสตร์ข้อมูลด้วยเหตุผลหลายประการ:\n",
    "\n",
    "* **การสำรวจข้อมูล**: ช่วยให้นักวิทยาศาสตร์ข้อมูลสามารถสำรวจข้อมูลและระบุรูปแบบ แนวโน้ม และค่าผิดปกติได้อย่างรวดเร็ว ซึ่งอาจไม่ปรากฏชัดเจนเมื่อดูข้อมูลดิบในรูปแบบตาราง\n",
    "* **การตีความ**: เปลี่ยนชุดข้อมูลขนาดใหญ่และซับซ้อนให้เป็นรูปแบบภาพที่เข้าใจง่ายขึ้น ทำให้เข้าใจข้อมูลจำนวนมหาศาลได้ง่ายขึ้น\n",
    "* **การสื่อสาร**: ช่วยให้นักวิทยาศาสตร์ข้อมูลสื่อสารข้อมูลเชิงลึกที่ซับซ้อนไปยังผู้มีส่วนได้ส่วนเสียในรูปแบบภาพที่เข้าใจง่าย ทำให้ข้อมูลเข้าถึงกลุ่มเป้าหมายที่ไม่ใช่เทคนิคได้ง่ายขึ้น\n",
    "\n",
    "ด้านล่างนี้คือแดชบอร์ดง่ายๆ ที่เราจะสร้างในโน้ตบุ๊กนี้:\n",
    "\n",
    "<p><img src='images/dashboard_1_sample.png' width=720></p>"
   ]
  },
  {
   "cell_type": "code",
   "execution_count": null,
   "id": "a33ee399",
   "metadata": {},
   "outputs": [],
   "source": [
    "from google.colab import drive\n",
    "drive.mount('/content/drive')"
   ]
  },
  {
   "cell_type": "code",
   "execution_count": null,
   "id": "3300e580-f39d-4147-8ad8-dfbf611ad323",
   "metadata": {
    "scrolled": true
   },
   "outputs": [],
   "source": [
    "%load_ext cudf.pandas\n",
    "# DO NOT CHANGE THIS CELL\n",
    "import pandas as pd\n",
    "\n",
    "dtype_dict={\n",
    "    'age': 'int8', \n",
    "    'sex': 'object', \n",
    "    'county': 'object', \n",
    "    'lat': 'float32', \n",
    "    'long': 'float32', \n",
    "    'name': 'object'\n",
    "}\n",
    "        \n",
    "df=pd.read_csv('./data/uk_pop.csv', dtype=dtype_dict)\n",
    "df.head()"
   ]
  },
  {
   "cell_type": "markdown",
   "id": "db58461b-5877-4768-8586-a46765381b6b",
   "metadata": {},
   "source": [
    "\n",
    "\n",
    "## แผนภูมิแท่ง (Bar Chart) ##\n",
    "\n",
    "แผนภูมิแท่งใช้เพื่อแสดงและเปรียบเทียบข้อมูลประเภทหมวดหมู่ โดยจะแสดงค่าตัวเลขด้วยแท่งสี่เหลี่ยม โดยความยาวหรือความสูงของแต่ละแท่งจะสอดคล้องกับค่าที่แสดง\n",
    "\n",
    "ด้านล่างนี้ เราจะแสดง 5 มณฑลแรกที่มีจำนวนประชากรมากที่สุด"
   ]
  },
  {
   "cell_type": "code",
   "execution_count": null,
   "id": "a0acbf39-b10c-4998-96d7-dde142d844e1",
   "metadata": {},
   "outputs": [],
   "source": [
    "# DO NOT CHANGE THIS CELL\n",
    "df.groupby('county').size().sort_values(ascending=False).head().plot(kind='bar')"
   ]
  },
  {
   "cell_type": "markdown",
   "id": "8b6d94bc-7006-4e73-accb-2649d7dec596",
   "metadata": {},
   "source": [
    "\n",
    "### ฮิสโตแกรม (Histogram) ###\n",
    "\n",
    "แผนภูมิแท่งยังสามารถใช้เพื่อแสดงการกระจายของจุดข้อมูลในกลุ่มย่อยต่างๆ ได้อีกด้วย ซึ่งเรียกว่า ฮิสโตแกรม (histogram) ซึ่งทำได้โดยการนับจำนวนการเกิดซ้ำ (การกระจายความถี่) ของแต่ละค่าที่ไม่ซ้ำกันในชุดข้อมูล ใช้เพื่อแสดงภาพรูปร่าง ศูนย์กลาง และการกระจายตัวของชุดข้อมูล"
   ]
  },
  {
   "cell_type": "code",
   "execution_count": null,
   "id": "b804a51e-63b7-4389-8dd5-3beea5a5950b",
   "metadata": {},
   "outputs": [],
   "source": [
    "# DO NOT CHANGE THIS CELL\n",
    "bins=[0, 10, 20, 30, 40, 50, 60, 70, 80, 90, 100]\n",
    "df['age_bucket']=pd.cut(df['age'], bins=bins, right=True, include_lowest=True, labels=False)\n",
    "df.groupby('age_bucket').size().plot(kind='bar')"
   ]
  },
  {
   "cell_type": "markdown",
   "id": "88341062-8ecc-4264-8c42-bee7ae173c05",
   "metadata": {},
   "source": [
    "### แบบฝึกหัดที่ 1 - แผนภูมิแท่ง (Bar Chart) ###\n",
    "\n",
    "เราต้องการหาการกระจายตัวของเพศในประชากร\n",
    "\n",
    "**คำแนะนำ**:\n",
    "* แก้ไขเฉพาะส่วน `<FIXME>` เท่านั้น และรันเซลล์ด้านล่างเพื่อพล็อตจำนวนของแต่ละเพศในชุดข้อมูลของเรา"
   ]
  },
  {
   "cell_type": "code",
   "execution_count": null,
   "id": "c2419219-4afc-4bd6-81eb-db5597d665fa",
   "metadata": {},
   "outputs": [],
   "source": [
    "df.groupby(<<<<FIXME>>>>).size().plot(kind=<<<<FIXME>>>>)"
   ]
  },
  {
   "cell_type": "raw",
   "id": "c11607d9-1079-43ab-b151-b710a9c4666d",
   "metadata": {
    "jupyter": {
     "source_hidden": true
    }
   },
   "source": [
    "\n",
    "df.groupby('sex').size().plot(kind='bar')"
   ]
  },
  {
   "cell_type": "markdown",
   "id": "5e49a376-90f6-4ae1-9a47-fae469a5d1da",
   "metadata": {},
   "source": [
    "Click ... for solution. "
   ]
  },
  {
   "cell_type": "markdown",
   "id": "676bd687-b998-4724-bda5-e1d68307bb24",
   "metadata": {},
   "source": [
    "\n",
    "## แผนภูมิ Scatter Plot ##\n",
    "\n",
    "แผนภูมิ Scatter Plot ใช้เพื่อแสดงความสัมพันธ์ระหว่างตัวแปรสองตัวในชุดข้อมูล นอกจากนี้ยังสามารถใช้เพื่อแสดงพิกัดของแต่ละจุดข้อมูลเพื่อช่วยระบุค่าผิดปกติหรือกลุ่ม"
   ]
  },
  {
   "cell_type": "code",
   "execution_count": null,
   "id": "e170e8ba-5dbf-428d-b00a-0880d8bdcfad",
   "metadata": {},
   "outputs": [],
   "source": [
    "# DO NOT CHANGE THIS CELL\n",
    "# sample a very small percentage of the data\n",
    "small_df=df.sample(1000)\n",
    "\n",
    "small_df.plot(kind='scatter', x='lat', y='long')"
   ]
  },
  {
   "cell_type": "markdown",
   "id": "8e0dbf2c-9bbf-4621-bce6-661ede296af9",
   "metadata": {},
   "source": [
    "\n",
    "## แผนภูมิเส้น (Line Chart) ##\n",
    "\n",
    "แผนภูมิเส้นเหมาะสำหรับการเชื่อมโยงจุดข้อมูลแต่ละจุดเพื่อแสดงแนวโน้ม มีประโยชน์สำหรับการแสดงการเปลี่ยนแปลง แนวโน้ม และรูปแบบเมื่อเวลาผ่านไป\n",
    "\n",
    "แผนภูมิ Scatter Plot ไม่สามารถปรับขนาดได้ดีกับจำนวนจุดข้อมูล เมื่อข้อมูลมีขนาดใหญ่ แผนภูมิ Scatter Plot จะใช้เวลานานในการสร้าง ด้านล่างนี้คือแผนภูมิเส้นของเวลาในการคำนวณสำหรับขนาดข้อมูลที่แตกต่างกัน\n",
    "\n",
    "<p><img src='images/scatter_time.png', width=480></p>\n",
    "\n",
    "**หมายเหตุ**: ด้านล่างนี้คือโค้ดที่ใช้สร้างภาพนี้"
   ]
  },
  {
   "cell_type": "code",
   "execution_count": null,
   "id": "ce18692d-b36f-4275-b056-fd1ec1170abc",
   "metadata": {},
   "outputs": [],
   "source": [
    "# import time\n",
    "# import matplotlib.pyplot as plt\n",
    "\n",
    "# fig, ax=plt.subplots()\n",
    "# exec_times={}\n",
    "\n",
    "# for size in (5*(10**i) for i in range(1, 8)): \n",
    "#     start=time.time()\n",
    "#     df.sample(size).plot(kind='scatter', x='long', y='lat', ax=ax)\n",
    "#     duration=time.time()-start\n",
    "#     exec_times[size]=duration\n",
    "#     ax.clear()\n",
    "\n",
    "# ax.plot(exec_times.keys(), exec_times.values(), marker='o')\n",
    "# ax.set_xscale('log')\n",
    "# ax.set_xlabel('Data Size')\n",
    "# ax.set_ylabel('Execution Time')\n",
    "# ax.set_title(\"Scatter Plot Doesn't Scale Well With Data Size\")"
   ]
  },
  {
   "cell_type": "code",
   "execution_count": null,
   "id": "44e65ae7-f223-455f-a463-10f1e193ef64",
   "metadata": {},
   "outputs": [],
   "source": [
    "# DO NOT CHANGE THIS CELL\n",
    "import IPython\n",
    "app = IPython.Application.instance()\n",
    "app.kernel.do_shutdown(True)"
   ]
  },
  {
   "cell_type": "markdown",
   "id": "b26686d7-fb05-49a0-9006-036810d86160",
   "metadata": {},
   "source": [
    "\n",
    "## Datashader ##\n",
    "\n",
    "[Datashader](https://datashader.org/#) เป็นไลบรารี Python แบบโอเพนซอร์สสำหรับการวิเคราะห์และแสดงภาพชุดข้อมูลขนาดใหญ่ โดยเฉพาะอย่างยิ่ง Datashader ได้รับการออกแบบมาเพื่อ \"rasterize\" หรือ \"aggregate\" ชุดข้อมูลให้เป็นกริดปกติที่สามารถวิเคราะห์เพิ่มเติมหรือดูเป็นรูปภาพได้ ทำให้ง่ายและรวดเร็วในการดูคุณสมบัติและรูปแบบของข้อมูล\n",
    "\n",
    "การพล็อตสำหรับข้อมูลขนาดใหญ่เป็นเรื่องที่ท้าทาย เนื่องจากใช้เวลานานในการเรนเดอร์จุดจำนวนมาก Datashader เปลี่ยนภาระของการแสดงภาพจากการเรนเดอร์เป็นการคำนวณ ภายใต้การทำงานภายใน มันเปลี่ยนรายการจุด (x, y) ที่ยาวให้เป็นฮิสโตแกรม 2D แทนที่จะพล็อตแต่ละจุดแยกกัน นอกจากนี้ การรวมข้อมูลนี้สามารถเร่งความเร็วได้ผ่านการประมวลผลแบบขนาน โครงสร้างข้อมูลแบบกริดที่ได้จะถูกแปลงเป็นรูปภาพ โดยใช้สีเพื่อแสดงขนาด ก่อนที่จะฝังลงในโปรแกรมการพล็อต\n",
    "\n",
    "Datashader สร้างพล็อตโดยใช้ [ไพพ์ไลน์](https://datashader.org/getting_started/Pipeline.html) ห้าขั้นตอน:\n",
    "\n",
    "<p><img src='images/ds_pipeline.png' width=720></p>\n",
    "\n",
    "ด้านล่างนี้ เราจะสาธิตวิธีการใช้ Datashader"
   ]
  },
  {
   "cell_type": "code",
   "execution_count": null,
   "id": "a7bd466f-0e40-4b40-bd50-82c9fdc17e2f",
   "metadata": {},
   "outputs": [],
   "source": [
    "# DO NOT CHANGE THIS CELL\n",
    "import time\n",
    "import matplotlib.pyplot as plt\n",
    "\n",
    "import datashader as ds\n",
    "import datashader.transfer_functions as tf"
   ]
  },
  {
   "cell_type": "code",
   "execution_count": null,
   "id": "813eb18b-5234-4a1f-ae05-58bcf8750e9f",
   "metadata": {
    "scrolled": true
   },
   "outputs": [],
   "source": [
    "# DO NOT CHANGE THIS CELL\n",
    "import pandas as pd\n",
    "\n",
    "dtype_dict={\n",
    "    'age': 'int8', \n",
    "    'sex': 'object', \n",
    "    'county': 'object', \n",
    "    'lat': 'float32', \n",
    "    'long': 'float32', \n",
    "    'name': 'object'\n",
    "}\n",
    "        \n",
    "df=pd.read_csv('./data/uk_pop.csv', dtype=dtype_dict)\n",
    "df.head()"
   ]
  },
  {
   "cell_type": "code",
   "execution_count": null,
   "id": "5f0085a4-97fa-494f-a525-792f2b65593e",
   "metadata": {},
   "outputs": [],
   "source": [
    "# DO NOT CHANGE THIS CELL\n",
    "start=time.time()\n",
    "\n",
    "# get points\n",
    "ds_points_pandas=ds.Canvas().points(df,'long','lat')\n",
    "display(ds_points_pandas)\n",
    "\n",
    "# plot points\n",
    "plt.imshow(tf.shade(ds_points_pandas))\n",
    "\n",
    "print(f'Duration: {round(time.time()-start, 2)} seconds')"
   ]
  },
  {
   "cell_type": "markdown",
   "id": "09268b18-7e81-46e7-978b-964fe56cda2e",
   "metadata": {},
   "source": [
    "\n",
    "### Datashader ที่เร่งความเร็วด้วย GPU (Datashader Accelerated by GPU) ###\n",
    "\n",
    "Datashader สามารถเร่งความเร็วได้โดยการมอบหมายการคำนวณไปยัง GPU ดังที่กล่าวไปแล้ว GPU โดยทั่วไปมีคอร์มากกว่า CPU อย่างมาก (แม้ว่าแต่ละคอร์จะมีประสิทธิภาพน้อยกว่า) และสำหรับการคำนวณที่สามารถขนานกันได้สูง เช่น ใน Datashader GPU มักจะสามารถทำประสิทธิภาพได้เร็วกว่ามากในราคาที่กำหนดเมื่อเทียบกับ CPU หรือกลุ่ม CPU แบบกระจาย DataFrame จาก cuDF สามารถใช้แทนการทำ rasterization ได้ ประโยชน์ด้านประสิทธิภาพมีนัยสำคัญเนื่องจากกระบวนการประมวลผลข้อมูลทั้งหมดดำเนินการบน GPU และไม่มีคอขวดจากการถ่ายโอนข้อมูล"
   ]
  },
  {
   "cell_type": "code",
   "execution_count": null,
   "id": "557e70e8-9eaf-4d6b-9048-8a1b433943bd",
   "metadata": {
    "scrolled": true
   },
   "outputs": [],
   "source": [
    "# DO NOT CHANGE THIS CELL\n",
    "import cudf\n",
    "\n",
    "dtype_dict={\n",
    "    'age': 'int8', \n",
    "    'sex': 'object', \n",
    "    'county': 'object', \n",
    "    'lat': 'float32', \n",
    "    'long': 'float32', \n",
    "    'name': 'object'\n",
    "}\n",
    "        \n",
    "gdf=cudf.read_csv('./data/uk_pop.csv', dtype=dtype_dict)\n",
    "gdf.head()"
   ]
  },
  {
   "cell_type": "code",
   "execution_count": null,
   "id": "6a5b3eb3-40f2-46fb-a45b-5450f45ff398",
   "metadata": {},
   "outputs": [],
   "source": [
    "# DO NOT CHANGE THIS CELL\n",
    "start=time.time()\n",
    "\n",
    "# get points\n",
    "ds_points_cudf=ds.Canvas().points(gdf,'long','lat')\n",
    "display(ds_points_cudf)\n",
    "\n",
    "# plot points\n",
    "plt.imshow(tf.shade(ds_points_cudf))\n",
    "\n",
    "print(f'Duration: {round(time.time()-start, 2)} seconds')"
   ]
  },
  {
   "cell_type": "markdown",
   "id": "98b1c4a7-9b60-4970-859f-b9ffedd4315c",
   "metadata": {},
   "source": [
    "**หมายเหตุ**: โปรดรันเซลล์ด้านบนซ้ำอีกครั้งหากใช้เวลานานกว่าสองสามวินาที เพื่อให้ได้เวลาคำนวณที่แม่นยำยิ่งขึ้น"
   ]
  },
  {
   "cell_type": "markdown",
   "id": "2e664fb6-7482-49d0-bc60-efaefd2184d3",
   "metadata": {},
   "source": [
    "## การแสดงภาพแบบโต้ตอบ (Interactive Visualization) ##\n",
    "\n",
    "การแสดงภาพข้อมูลเป็นสิ่งสำคัญในวิทยาศาสตร์ข้อมูล เนื่องจากเชื่อมช่องว่างระหว่างข้อมูลที่ซับซ้อนกับความเข้าใจของมนุษย์ ทำให้ข้อมูลเชิงลึกเข้าถึงได้ง่ายขึ้น นำไปปฏิบัติได้ และมีผลกระทบมากขึ้นตลอดกระบวนการวิทยาศาสตร์ข้อมูล การนำการโต้ตอบมาใช้ในการแสดงภาพข้อมูลช่วยให้:\n",
    "\n",
    "* **การค้นพบ**: ช่วยให้ค้นพบรูปแบบ แนวโน้ม และค่าผิดปกติที่อาจไม่ปรากฏชัดในการแสดงภาพแบบคงที่\n",
    "* **ความเข้าใจที่เพิ่มขึ้น**: ช่วยให้ผู้ใช้สามารถดูข้อมูลจากหลายมุมมองและระดับรายละเอียด\n",
    "* **การปรับแต่ง**: ให้ความสามารถในการกรอง จัดเรียง และรวมข้อมูลได้อย่างรวดเร็ว นำเสนอข้อมูลได้อย่างมีประสิทธิภาพมากขึ้น"
   ]
  },
  {
   "cell_type": "markdown",
   "id": "084911da-fb99-43e8-bff6-e11f032b4c9e",
   "metadata": {},
   "source": [
    "### cuxfilter และ Dashboard ###\n",
    "\n",
    "cuxfilter ช่วยให้สร้างแดชบอร์ด cross-filtering ที่เร่งความเร็วด้วย GPU ซึ่งเหมาะสำหรับการวิเคราะห์ข้อมูลเชิงสำรวจแบบหลายแผนภูมิ การกรองข้ามช่วยให้ผู้ใช้สามารถโต้ตอบกับแผนภูมิหนึ่งและนำการโต้ตอบนั้นไปใช้เป็นตัวกรองกับแผนภูมิอื่นๆ ในแดชบอร์ดได้\n",
    "\n",
    "cuxfilter ทำหน้าที่เป็นไลบรารีตัวเชื่อมต่อ ซึ่งให้การเชื่อมต่อระหว่างไลบรารีการแสดงภาพที่แตกต่างกันและ GPU DataFrame โดยไม่ยุ่งยากมากนัก นอกจากนี้ยังช่วยให้ผู้ใช้สามารถใช้แผนภูมิจากไลบรารีที่แตกต่างกันในแดชบอร์ดเดียว พร้อมทั้งให้การโต้ตอบด้วย ปัจจุบัน cuxfilter รองรับ:\n",
    "* [แผนภูมิ Bokeh](https://bokeh.org/)\n",
    "    * แผนภูมิแท่ง (Bar chart)\n",
    "    * แผนภูมิเส้น (Line chart)\n",
    "    * แผนที่ Choropleth\n",
    "* [แผนภูมิ Datashader](https://datashader.org/)\n",
    "    * แผนภูมิเส้น (Line)\n",
    "    * แผนภูมิ Scatter\n",
    "* [Panel Widgets](https://panel.holoviz.org/api/panel.widgets.html)\n",
    "    * Range\n",
    "    * Float\n",
    "    * Int\n",
    "    * Dropdown\n",
    "    * Multiselect"
   ]
  },
  {
   "cell_type": "code",
   "execution_count": null,
   "id": "f1777e6a-a717-49d4-9b38-e855d987ca92",
   "metadata": {},
   "outputs": [],
   "source": [
    "import cuxfilter as cxf\n",
    "\n",
    "# factorize county for multiselect widget\n",
    "gdf['county'], county_names = gdf['county'].factorize()\n",
    "county_map = dict(zip(list(range(len(county_names))), county_names.to_arrow()))"
   ]
  },
  {
   "cell_type": "code",
   "execution_count": null,
   "id": "680c06ed-f8c6-4de5-b366-78f0c1092aeb",
   "metadata": {},
   "outputs": [],
   "source": [
    "# create cuxfilter DataFrame\n",
    "cxf_data = cxf.DataFrame.from_dataframe(gdf)\n",
    "\n",
    "# create Datashader scatter plot\n",
    "scatter_chart = cxf.charts.scatter(x='long', y='lat')"
   ]
  },
  {
   "cell_type": "code",
   "execution_count": null,
   "id": "c2d8a372-6e14-442c-a61d-f5ea44fc7f6c",
   "metadata": {},
   "outputs": [],
   "source": [
    "# create Bokeh bar charts\n",
    "chart_3=cxf.charts.bar('age')\n",
    "chart_2=cxf.charts.bar('sex')"
   ]
  },
  {
   "cell_type": "code",
   "execution_count": null,
   "id": "fb700802-45b8-4558-b58b-c2a96cfda78b",
   "metadata": {},
   "outputs": [],
   "source": [
    "# define layout\n",
    "layout_array=[[1, 2, 2], \n",
    "              [3, 2, 2]]"
   ]
  },
  {
   "cell_type": "code",
   "execution_count": null,
   "id": "a7964e08-1e77-4431-83b1-ef0e798d32f5",
   "metadata": {},
   "outputs": [],
   "source": [
    "# create multiselect widget\n",
    "county_widget = cxf.charts.panel_widgets.multi_select('county', label_map=county_map)\n",
    "\n",
    "# define layout\n",
    "dash = cxf_data.dashboard(charts=[chart_2, scatter_chart, chart_3],sidebar=[county_widget], theme=cxf.themes.dark, data_size_widget=True, layout_array=layout_array)\n",
    "\n",
    "dash.app()"
   ]
  },
  {
   "cell_type": "markdown",
   "id": "08b9ca80-2469-4f49-8781-1910bdce41bd",
   "metadata": {},
   "source": [
    "## ไลบรารีอื่นๆ (Other Libraries) ##\n",
    "\n",
    "* Plotly:\n",
    "    * https://dash.plotly.com/holoviews#gpu-accelerating-datashader-and-linked-selections-with-rapids\n",
    "    * https://developer.nvidia.com/blog/making-a-plotly-dash-census-viz-powered-by-rapids/"
   ]
  },
  {
   "cell_type": "code",
   "execution_count": null,
   "id": "e9d7f104-879d-4784-bf47-541fa4cda445",
   "metadata": {},
   "outputs": [],
   "source": [
    "import IPython\n",
    "app = IPython.Application.instance()\n",
    "app.kernel.do_shutdown(True)"
   ]
  },
  {
   "cell_type": "markdown",
   "id": "9dc3b5a1-051f-4e4c-b830-1dbf066eb622",
   "metadata": {},
   "source": [
    "**เยี่ยมมาก!** ไปยัง [โน้ตบุ๊กถัดไป](1-07_etl.ipynb) กันเลย"
   ]
  },
  {
   "cell_type": "markdown",
   "id": "89ffb0bd-9cbf-4f75-affd-0f614e4074e3",
   "metadata": {},
   "source": [
    "<img src=\"images/nvidia_header.png\" style=\"margin-left: -30px; width: 300px; float: left;\">"
   ]
  }
 ],
 "metadata": {
  "kernelspec": {
   "display_name": "Python 3 (ipykernel)",
   "language": "python",
   "name": "python3"
  },
  "language_info": {
   "codemirror_mode": {
    "name": "ipython",
    "version": 3
   },
   "file_extension": ".py",
   "mimetype": "text/x-python",
   "name": "python",
   "nbconvert_exporter": "python",
   "pygments_lexer": "ipython3",
   "version": "3.10.15"
  }
 },
 "nbformat": 4,
 "nbformat_minor": 5
}
