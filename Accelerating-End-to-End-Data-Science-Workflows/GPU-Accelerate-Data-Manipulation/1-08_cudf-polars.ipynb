{
 "cells": [
  {
   "cell_type": "markdown",
   "id": "6dbb572c-1291-4011-9ed4-120eb2ec7b29",
   "metadata": {},
   "source": [
    "# Accelerating End-to-End Data Science Workflows # "
   ]
  },
  {
   "cell_type": "markdown",
   "id": "377ba9f0-0acc-4574-9a43-c475cfd52dd5",
   "metadata": {},
   "source": [
    "\n",
    "## 08 - แนะนำ cuDF Polars ##\n",
    "\n",
    "**สารบัญ**\n",
    "\n",
    "โน้ตบุ๊กนี้จะแนะนำ Polars โดยสังเขปและครอบคลุมเอ็นจิ้น GPU ใหม่ โน้ตบุ๊กนี้ครอบคลุมส่วนต่างๆ ดังนี้:\n",
    "\n",
    "1.  [แนะนำ Polars](#Introduction-to-Polars)\n",
    "    * [การติดตั้ง](#Installation)\n",
    "    * [การสร้าง DataFrame](#Creating-a-DataFrame)\n",
    "    * [การรันการดำเนินการพื้นฐาน](#Running-Basic-Operations)\n",
    "    * [การเปรียบเทียบกับ Pandas](#Pandas-Comparison)\n",
    "    * [การเปรียบเทียบกับ cuDF Pandas](#cuDF-Pandas-Comparison)\n",
    "2.  [การดำเนินการ Polars พื้นฐาน](#Basic-Polars-Operations)\n",
    "    * [Polars Eager Execution API Reference](#Polars-Eager-Execution-API-Reference)\n",
    "    * [แบบฝึกหัดที่ 1 - โหลดข้อมูล](#Exercise-#1---Load-Data)\n",
    "    * [แบบฝึกหัดที่ 2 - คำนวณอายุเฉลี่ยของประชากร](#Exercise-#2---Calculate-Average-Age-of-Population)\n",
    "    * [แบบฝึกหัดที่ 3 - Group By และ Aggregation](#Exercise-#3---Group-By-and-Aggregation)\n",
    "    * [แบบฝึกหัดที่ 4 - การกระจายเพศ](#Exercise-#4---Gender-Distribution)\n",
    "3.  [การดำเนินการแบบ Lazy (Lazy Execution)](#Lazy-Execution)\n",
    "    * [Polars Lazy Execution API Reference](#Polars-Lazy-Execution-API-Reference)\n",
    "    * [กราฟการดำเนินการ (Execution Graph)](#Execution-Graph)\n",
    "    * [แบบฝึกหัดที่ 5 - การสร้าง Lazy Dataframe](#Exercise-#5---Creating-a-Lazy-Dataframe)\n",
    "    * [แบบฝึกหัดที่ 6 - การสร้าง Query](#Exercise-#6---Query-Creation)\n",
    "4.  [cuDF Polars](#cuDF-Polars)\n",
    "    * [เร่งความเร็วโค้ดก่อนหน้า](#Accelerate-Previous-Code)\n",
    "    * [ตรวจสอบผลลัพธ์ข้ามเอ็นจิ้น](#Verify-Results-Across-Engines)\n",
    "    * [Fallback](#Fallback)\n",
    "    * [แบบฝึกหัดที่ 7 - เปิดใช้งาน GPU Engine](#Exercise-#7---Enable-GPU-Engine)"
   ]
  },
  {
   "cell_type": "markdown",
   "id": "e7dd978a-a785-4b67-822e-048d56e231e2",
   "metadata": {},
   "source": [
    "## บทนำสู่ Polars ##\n",
    "\n",
    "Polars เป็นไลบรารีสำหรับการวิเคราะห์และจัดการข้อมูลที่ออกแบบมาสำหรับการประมวลผลข้อมูลขนาดใหญ่ (10-100GB) บน GPU ตัวเดียว และเป็นที่รู้จักในด้านความเร็วและประสิทธิภาพหน่วยความจำ แม้ว่า Pandas จะใช้การดำเนินการแบบ Eager Execution แต่ Polars ยังมีความสามารถในการดำเนินการแบบ Lazy Execution ผ่านเครื่องมือเพิ่มประสิทธิภาพคิวรีในตัว และใช้เทคนิคการเพิ่มประสิทธิภาพแบบ Zero-copy ด้วยการปรับปรุงเหล่านี้ Polars มักจะดำเนินการทั่วไปได้เร็วกว่า Pandas 5-10 เท่า และต้องการ RAM น้อยกว่า 2-4 เท่า NVIDIA นำเสนอการเร่งฮาร์ดแวร์ให้กับ Polars ผ่านเอ็นจิ้น GPU ใหม่ชื่อ cuDF Polars ซึ่งพร้อมใช้งานสำหรับการติดตั้งผ่าน pip"
   ]
  },
  {
   "cell_type": "markdown",
   "id": "a2187687-9a53-44f9-ba55-ba9e1081cac6",
   "metadata": {},
   "source": [
    "### การสร้าง DataFrame ###\n",
    "\n",
    "ตอนนี้เรามาดูไวยากรณ์กัน! เราจะสร้าง DataFrame เพื่อใช้ใน Polars\n"
   ]
  },
  {
   "cell_type": "code",
   "execution_count": null,
   "id": "2f186053",
   "metadata": {},
   "outputs": [],
   "source": [
    "from google.colab import drive\n",
    "drive.mount('/content/drive')"
   ]
  },
  {
   "cell_type": "code",
   "execution_count": null,
   "id": "be96aa2e-f1fc-4521-bf11-89505a2981ac",
   "metadata": {},
   "outputs": [],
   "source": [
    "import polars as pl\n",
    "import time\n",
    "\n",
    "start_time = time.time()\n",
    "\n",
    "polars_df = pl.read_csv('./data/uk_pop.csv')\n",
    "\n",
    "polars_time = time.time() - start_time\n",
    "\n",
    "print(f\"Time Taken: {polars_time:.4f} seconds\")"
   ]
  },
  {
   "cell_type": "code",
   "execution_count": null,
   "id": "90dedd84-0792-4a54-9380-4b3a020bccd1",
   "metadata": {},
   "outputs": [],
   "source": [
    "polars_df.head()"
   ]
  },
  {
   "cell_type": "markdown",
   "id": "12c66adc-5ac0-49a1-95fe-dc78fbb3950a",
   "metadata": {},
   "source": [
    "### การรันการดำเนินการพื้นฐาน ###\n",
    "\n",
    "นั่นง่ายมาก ตอนนี้ลองรันการดำเนินการบางอย่างกับชุดข้อมูลกัน! เราจะโหลดชุดข้อมูลอีกครั้งเพื่อเปรียบเทียบอย่างยุติธรรมกับ Pandas ในภายหลัง\n"
   ]
  },
  {
   "cell_type": "code",
   "execution_count": null,
   "id": "7fc2280f-a89c-42dd-befc-39ffce2f01ec",
   "metadata": {
    "scrolled": true
   },
   "outputs": [],
   "source": [
    "start_time = time.time()\n",
    "\n",
    "#load data\n",
    "polars_df = pl.read_csv('./data/uk_pop.csv')\n",
    "\n",
    "# Filter for ages above 0\n",
    "filtered_df = polars_df.filter(pl.col('age') > 0.0)\n",
    "\n",
    "#Sort by name\n",
    "sorted_df = filtered_df.sort('name', descending=True)\n",
    "\n",
    "print(sorted_df.head())\n",
    "polars_time = time.time() - start_time\n",
    "print(f\"Time Taken: {polars_time:.4f} seconds\")"
   ]
  },
  {
   "cell_type": "markdown",
   "id": "bf06893b-a772-4c15-a867-e4cf6aa0984b",
   "metadata": {},
   "source": [
    "### Pandas Comparison ###\n",
    "\n",
    "มาดูกันว่าใช้เวลานานแค่ไหนใน Pandas\n"
   ]
  },
  {
   "cell_type": "code",
   "execution_count": null,
   "id": "99468ce0-ecb1-4da2-9e96-44c41c73605a",
   "metadata": {},
   "outputs": [],
   "source": [
    "import pandas as pd\n",
    "import time\n",
    "start_time = time.time()\n",
    "pandas_df = pd.read_csv('./data/uk_pop.csv')\n",
    "\n",
    "filtered_df = pandas_df[pandas_df['age'] > 0.0]\n",
    "\n",
    "sorted_df = filtered_df.sort_values(by=['name'], ascending=False)\n",
    "\n",
    "pandas_time = time.time() - start_time\n",
    "print(f\"Time Taken: {pandas_time:.4f} seconds\\n\")"
   ]
  },
  {
   "cell_type": "markdown",
   "id": "d5f25cae-1ee8-462e-a487-68af7d9004ce",
   "metadata": {},
   "source": [
    "### cuDF Pandas Comparison ###\n",
    "\n",
    "ว้าว! ใช้เวลาดำเนินการค่อนข้างนานเลย มาดูกันว่าเราจะรันให้เร็วขึ้นได้ไหมด้วย cuDF Pandas\n"
   ]
  },
  {
   "cell_type": "code",
   "execution_count": null,
   "id": "23484488-4d35-4359-804d-80bb60463d2e",
   "metadata": {},
   "outputs": [],
   "source": [
    "# Activate cuDF Pandas\n",
    "%load_ext cudf.pandas\n",
    "import pandas as pd"
   ]
  },
  {
   "cell_type": "code",
   "execution_count": null,
   "id": "714b14dd-0ebd-4814-a341-75cbf8e44fd5",
   "metadata": {},
   "outputs": [],
   "source": [
    "import pandas as pd\n",
    "import time\n",
    "start_time = time.time()\n",
    "pandas_df = pd.read_csv('./data/uk_pop.csv')\n",
    "\n",
    "filtered_df = pandas_df[pandas_df['age'] > 0.0]\n",
    "\n",
    "sorted_df = filtered_df.sort_values(by=['name'], ascending=False)\n",
    "\n",
    "pandas_time = time.time() - start_time\n",
    "print(f\"Time Taken for cuDF Pandas: {pandas_time:.4f} seconds\\n\")"
   ]
  },
  {
   "cell_type": "markdown",
   "id": "d9a3692e-fe36-4bb2-bf1d-84ce5d4834f7",
   "metadata": {},
   "source": [
    "แม้แต่กับ cuDF Pandas เราจะเห็นว่าประสิทธิภาพช้ากว่า Polars อย่างมีนัยสำคัญ"
   ]
  },
  {
   "cell_type": "markdown",
   "id": "dd499b82-9b82-472b-934c-5d7e34743458",
   "metadata": {},
   "source": [
    "## การดำเนินการ Polars พื้นฐาน ##\n",
    "\n",
    "โปรดอ้างอิงคู่มือ API ต่อไปนี้เพื่อทำแบบฝึกหัดด้านล่างให้เสร็จสิ้น\n",
    "\n",
    "1. โหลดข้อมูล\n",
    "2. คำนวณอายุเฉลี่ยของประชากร\n",
    "3. จัดกลุ่มตามและรวมข้อมูล\n",
    "4. การกระจายเพศ"
   ]
  },
  {
   "cell_type": "markdown",
   "id": "b3972070-b02e-4870-90c2-bcae0c43f82e",
   "metadata": {},
   "source": [
    "\n",
    "### Polars Eager Execution API Reference ###\n",
    "\n",
    "**DataFrame**\n",
    "\n",
    "โครงสร้างข้อมูลหลักสำหรับการดำเนินการแบบ Eager Execution ใน Polars\n",
    "\n",
    "- `pl.DataFrame(data)`: สร้าง DataFrame จากข้อมูล\n",
    "- `pl.read_csv(file)`: อ่านไฟล์ CSV เข้าสู่ DataFrame\n",
    "- `pl.read_parquet(file)`: อ่านไฟล์ Parquet เข้าสู่ DataFrame\n",
    "\n",
    "**เมธอดหลัก (Key Methods)**\n",
    "\n",
    "- `filter(mask)`: กรองแถวตาม boolean mask\n",
    "- `select(columns)`: เลือกคอลัมน์ที่ระบุ\n",
    "- `with_columns(expressions)`: เพิ่มหรือแก้ไขคอลัมน์\n",
    "- `group_by(columns)`: จัดกลุ่มตามคอลัมน์ที่ระบุ\n",
    "- `agg(aggregations)`: ดำเนินการ Aggregations กับข้อมูลที่ถูกจัดกลุ่ม\n",
    "- `sort(columns)`: เรียงลำดับข้อมูลตามคอลัมน์ที่ระบุ\n",
    "- `join(other, on)`: Join กับ DataFrame อื่น\n",
    "\n",
    "**นิพจน์ (Expressions)**\n",
    "\n",
    "ใช้เพื่อกำหนดการดำเนินการบนคอลัมน์:\n",
    "\n",
    "- `pl.col(\"column\")`: อ้างอิงคอลัมน์\n",
    "- `pl.lit(value)`: สร้างค่า Literal\n",
    "- `pl.when(predicate).then(value).otherwise(other)`: นิพจน์แบบมีเงื่อนไข\n",
    "\n",
    "**การดำเนินการ Series (Series Operations)**\n",
    "\n",
    "- `series.sum()`: คำนวณผลรวมของ Series\n",
    "- `series.mean()`: คำนวณค่าเฉลี่ยของ Series\n",
    "- `series.max()`: ค้นหาค่าสูงสุดใน Series\n",
    "- `series.min()`: ค้นหาค่าต่ำสุดใน Series\n",
    "- `series.sort()`: เรียงลำดับค่าใน Series\n",
    "\n",
    "**ประเภทข้อมูล (Data Types)**\n",
    "\n",
    "- `pl.Int64`: จำนวนเต็ม 64 บิต\n",
    "- `pl.Float64`: จำนวนทศนิยม 64 บิต\n",
    "- `pl.Utf8`: สตริง\n",
    "- `pl.Boolean`: บูลีน\n",
    "- `pl.Date`: วันที่\n",
    "\n",
    "**ยูทิลิตี้ (Utilities)**\n",
    "\n",
    "- `pl.concat([df1, df2])`: รวม DataFrame\n",
    "- `df.describe()`: สร้างสถิติสรุป\n",
    "- `df.to_csv(file)`: เขียน DataFrame ไปยัง CSV\n",
    "- `df.to_parquet(file)`: เขียน DataFrame ไปยัง Parquet\n",
    "\n",
    "API แบบ Eager Execution จะดำเนินการทันที ทำให้สามารถเข้าถึงผลลัพธ์ได้โดยตรง เหมาะสำหรับการสำรวจข้อมูลแบบโต้ตอบและชุดข้อมูลขนาดเล็ก"
   ]
  },
  {
   "cell_type": "markdown",
   "id": "d87e5c16-46df-4a5b-8454-64fc7bb761a4",
   "metadata": {},
   "source": [
    "\n",
    "### แบบฝึกหัดที่ 1 - โหลดข้อมูล ###\n",
    "\n",
    "โหลดไฟล์ csv เข้าสู่ Dataframe โดยใช้ Polars"
   ]
  },
  {
   "cell_type": "code",
   "execution_count": null,
   "id": "e138575b-8817-44e0-981c-128b07d6bf8f",
   "metadata": {},
   "outputs": [],
   "source": []
  },
  {
   "cell_type": "raw",
   "id": "02d03ff2-cb1e-40ba-8f9d-a6ccd3b48d7d",
   "metadata": {
    "jupyter": {
     "source_hidden": true
    }
   },
   "source": [
    "\n",
    "df = pl.read_csv('./data/uk_pop.csv')\n",
    "\n",
    "print(df.head())"
   ]
  },
  {
   "cell_type": "markdown",
   "id": "d7833215-ea20-4b6b-bcd1-be4c8ca983ca",
   "metadata": {},
   "source": [
    "Click ... for solution. "
   ]
  },
  {
   "cell_type": "markdown",
   "id": "51b230dd-7c17-46fb-be96-1dd11dfbf90d",
   "metadata": {},
   "source": [
    "### แบบฝึกหัดที่ 2 - คำนวณอายุเฉลี่ยของประชากร ###\n",
    "\n",
    "ตอนนี้ ให้กรองหาบุคคลที่มีอายุ 65 ปีขึ้นไป และเรียงลำดับตามอายุจากน้อยไปมาก"
   ]
  },
  {
   "cell_type": "code",
   "execution_count": null,
   "id": "d22e37d3-a0c0-4b05-891a-c74086a79e59",
   "metadata": {},
   "outputs": [],
   "source": []
  },
  {
   "cell_type": "raw",
   "id": "be2beead-0406-476b-8e4f-2071d7e9fde6",
   "metadata": {
    "jupyter": {
     "source_hidden": true
    }
   },
   "source": [
    "\n",
    "filtered = (\n",
    "    df.filter(pl.col(\"age\") >= 65)\n",
    "    .sort(\"age\", descending=False)\n",
    ")\n",
    "\n",
    "print(filtered)"
   ]
  },
  {
   "cell_type": "markdown",
   "id": "dd6a015f-d086-4856-972a-510d4073f614",
   "metadata": {},
   "source": [
    "Click ... for solution. "
   ]
  },
  {
   "cell_type": "markdown",
   "id": "2af1bb9b-91bc-4665-a371-699b66067cd2",
   "metadata": {},
   "source": [
    "### แบบฝึกหัดที่ 3 - การจัดกลุ่มและการรวมข้อมูล (Group By and Aggregation) ###\n",
    "\n",
    "ถัดไป ให้จัดกลุ่มตามมณฑลและคำนวณจำนวนประชากรทั้งหมดและอายุเฉลี่ย\n"
   ]
  },
  {
   "cell_type": "code",
   "execution_count": null,
   "id": "191a03a2-f420-4669-96ed-ddb290ce09f7",
   "metadata": {},
   "outputs": [],
   "source": []
  },
  {
   "cell_type": "raw",
   "id": "de77e4a4-46ea-48f2-b9a3-73170e12a428",
   "metadata": {
    "jupyter": {
     "source_hidden": true
    }
   },
   "source": [
    "\n",
    "agg = (\n",
    "    df.group_by(\"county\")\n",
    "    .agg([\n",
    "        pl.len().alias(\"population\"),\n",
    "        pl.mean(\"age\").alias(\"average_age\")\n",
    "    ])\n",
    "    .sort(\"population\", descending=True)\n",
    ")\n",
    "\n",
    "print(agg.head())"
   ]
  },
  {
   "cell_type": "markdown",
   "id": "59956d51-c6e1-4129-aa5f-11e29ab44a9a",
   "metadata": {},
   "source": [
    "Click ... for solution. "
   ]
  },
  {
   "cell_type": "markdown",
   "id": "fb6e2475-3823-43a7-b75b-460e971da230",
   "metadata": {},
   "source": [
    "### แบบฝึกหัดที่ 4 - การกระจายเพศ ###\n",
    "\n",
    "สุดท้ายนี้ เรามาคำนวณเปอร์เซ็นต์ของผู้ชายเทียบกับผู้หญิงในข้อมูลตัวอย่างกัน\n"
   ]
  },
  {
   "cell_type": "code",
   "execution_count": null,
   "id": "1fa57226-f174-4967-a75a-b11d9df8765f",
   "metadata": {},
   "outputs": [],
   "source": []
  },
  {
   "cell_type": "raw",
   "id": "0c71b756-d126-41fe-91cf-55528b076dd5",
   "metadata": {
    "jupyter": {
     "source_hidden": true
    }
   },
   "source": [
    "\n",
    "gender = (\n",
    "    df.group_by(\"sex\")\n",
    "    .agg(pl.len().alias(\"count\"))\n",
    "    .with_columns(\n",
    "        (pl.col(\"count\") / df.shape[0] * 100).alias(\"percentage\")\n",
    "    )\n",
    ")\n",
    "\n",
    "print(gender)"
   ]
  },
  {
   "cell_type": "markdown",
   "id": "799cf9d3-1805-4a82-8d78-b780c73ab25e",
   "metadata": {},
   "source": [
    "Click ... for solution. "
   ]
  },
  {
   "cell_type": "markdown",
   "id": "3b44f79a-a542-492d-ae01-b1ee6f9203dc",
   "metadata": {},
   "source": [
    "## การดำเนินการแบบ Lazy (Lazy Execution) ##\n",
    "\n",
    "Polars ใช้เทคนิคที่เรียกว่า Lazy Execution ในการดำเนินการ ต่างจากการดำเนินการแบบ Eager Execution ที่การดำเนินการจะทำทันที Polars จะกำหนดและจัดเก็บการดำเนินการในกราฟการคำนวณ ซึ่งจะไม่ถูกดำเนินการจนกว่าจะมีการร้องขออย่างชัดเจน สิ่งนี้ช่วยให้ Polars สามารถเพิ่มประสิทธิภาพลำดับการดำเนินการเพื่อลดค่าใช้จ่ายในการคำนวณ และใช้เทคนิคการเพิ่มประสิทธิภาพ เช่น การใช้ตัวกรองก่อน (Predicate Pushdown), การเลือกเฉพาะคอลัมน์ที่จำเป็น (Projection Pushdown) และการดำเนินการแบบขนาน เพื่อใช้ประโยชน์จากการดำเนินการแบบ Lazy Execution ใน Polars จะใช้โครงสร้างข้อมูล \"LazyFrame\"\n",
    "\n",
    "ตอนนี้ ลองรันการดำเนินการเดียวกันด้วย Lazy Execution และแสดงกราฟกัน!\n"
   ]
  },
  {
   "cell_type": "markdown",
   "id": "0a709c71-6fae-4eca-8236-853e3d97e12a",
   "metadata": {},
   "source": [
    "\n",
    "### Polars Lazy Execution API Reference ###\n",
    "\n",
    "**LazyFrame**\n",
    "\n",
    "จุดเริ่มต้นหลักสำหรับการดำเนินการแบบ Lazy Execution ใน Polars สร้างขึ้นจาก DataFrame หรือแหล่งข้อมูล\n",
    "\n",
    "- `pl.LazyFrame(data)`: สร้าง LazyFrame จากข้อมูล\n",
    "- `df.lazy()`: แปลง DataFrame เป็น LazyFrame\n",
    "\n",
    "**เมธอดหลัก (Key Methods)**\n",
    "\n",
    "- `filter(predicate)`: กรองแถวตามเงื่อนไข\n",
    "- `select(columns)`: เลือกคอลัมน์ที่ระบุ\n",
    "- `with_columns(expressions)`: เพิ่มหรือแก้ไขคอลัมน์\n",
    "- `group_by(columns)`: จัดกลุ่มตามคอลัมน์ที่ระบุ\n",
    "- `agg(aggregations)`: ดำเนินการ Aggregations กับข้อมูลที่ถูกจัดกลุ่ม\n",
    "- `sort(columns)`: เรียงลำดับข้อมูลตามคอลัมน์ที่ระบุ\n",
    "- `join(other, on)`: Join กับ LazyFrame อื่น\n",
    "- `collect()`: ดำเนินการคิวรีแบบ Lazy และส่งคืน DataFrame\n",
    "\n",
    "**นิพจน์ (Expressions)**\n",
    "\n",
    "ใช้เพื่อกำหนดการดำเนินการบนคอลัมน์:\n",
    "\n",
    "- `pl.col(\"column\")`: อ้างอิงคอลัมน์\n",
    "- `pl.lit(value)`: สร้างค่า Literal\n",
    "- `pl.when(predicate).then(value).otherwise(other)`: กำหนดนิพจน์แบบมีเงื่อนไข\n",
    "\n",
    "**การดำเนินการ (Execution)**\n",
    "\n",
    "- `collect()`: ดำเนินการและส่งคืน DataFrame\n",
    "- `fetch(n)`: ดำเนินการและส่งคืน n แถวแรก\n",
    "- `describe_plan()`: แสดงแผนคิวรีสำหรับข้อมูลเชิงลึกการเพิ่มประสิทธิภาพ\n",
    "- `explain()`: อธิบายกระบวนการดำเนินการคิวรี\n",
    "\n",
    "**การเพิ่มประสิทธิภาพ (Optimization)**\n",
    "\n",
    "- `cache()`: แคชผลลัพธ์ระหว่างกลางเพื่อการเข้าถึงที่เร็วขึ้น\n",
    "- `optimize()`: ใช้การเพิ่มประสิทธิภาพคิวรีเพื่อปรับปรุงประสิทธิภาพ\n",
    "\n",
    "API แบบ Lazy ช่วยให้สามารถสร้างคิวรีที่ซับซ้อนซึ่งได้รับการเพิ่มประสิทธิภาพก่อนการดำเนินการ ทำให้ได้ประสิทธิภาพที่ดีขึ้นสำหรับชุดข้อมูลขนาดใหญ่"
   ]
  },
  {
   "cell_type": "code",
   "execution_count": null,
   "id": "f183fa43-99e2-45dc-930c-44fee40d9135",
   "metadata": {},
   "outputs": [],
   "source": [
    "import polars as pl\n",
    "import time\n",
    "\n",
    "start_time = time.time()\n",
    "\n",
    "# Create a lazy DataFrame\n",
    "lazy_df = pl.scan_csv('./data/uk_pop.csv')\n",
    "\n",
    "# Define the lazy operations\n",
    "lazy_result = (\n",
    "    lazy_df\n",
    "    .filter(pl.col('age') > 0.0)\n",
    "    .sort('name', descending=True)\n",
    ")\n",
    "\n",
    "# Execute the lazy query and collect the results\n",
    "result = lazy_result.collect()\n",
    "\n",
    "print(result.head())\n",
    "polars_time = time.time() - start_time\n",
    "print(f\"Time Taken: {polars_time:.4f} seconds\")"
   ]
  },
  {
   "cell_type": "markdown",
   "id": "0ae1e01f-da85-453f-a708-37afca4753f6",
   "metadata": {},
   "source": [
    "### กราฟการดำเนินการ (Execution Graph) ###\n"
   ]
  },
  {
   "cell_type": "markdown",
   "id": "4affd1a7-80b2-4f9b-88d8-26a7008f6dc9",
   "metadata": {},
   "source": [
    "มาดูกราฟการดำเนินการแบบไม่ปรับให้เหมาะสมกัน"
   ]
  },
  {
   "cell_type": "code",
   "execution_count": null,
   "id": "d43e9843-ef8e-48aa-b49c-482454d6e93f",
   "metadata": {},
   "outputs": [],
   "source": [
    "# Show unoptimized Graph\n",
    "lazy_result.show_graph(optimized=False)"
   ]
  },
  {
   "cell_type": "code",
   "execution_count": null,
   "id": "6f5883f3-6238-4f98-970b-f06adabfb50e",
   "metadata": {},
   "outputs": [],
   "source": [
    "# Show optimized Graph\n",
    "lazy_result.show_graph(optimized=True)"
   ]
  },
  {
   "cell_type": "markdown",
   "id": "7d0f6912-9b19-4473-80d3-4223271efe26",
   "metadata": {},
   "source": [
    "อย่างที่เราเห็น ระหว่างการดำเนินการ Polars ได้รันตัวกรองอายุควบคู่ไปกับการอ่านไฟล์ CSV เพื่อประหยัดเวลา! การปรับปรุงประสิทธิภาพประเภทนี้เป็นส่วนหนึ่งของเหตุผลที่ทำให้ Polars เป็นเครื่องมือ Data Science ที่ทรงพลัง"
   ]
  },
  {
   "cell_type": "markdown",
   "id": "5301bcfb-634e-4659-b413-e8279c9bc2ce",
   "metadata": {},
   "source": [
    "\n",
    "### แบบฝึกหัดที่ 5 - การสร้าง Lazy Dataframe ###\n",
    "\n",
    "อันดับแรก มาโหลดไฟล์ CSV เป็น Lazy Dataframe กัน"
   ]
  },
  {
   "cell_type": "code",
   "execution_count": null,
   "id": "f096b49a-1395-4ddb-bf28-f6e04fb8b4f1",
   "metadata": {},
   "outputs": [],
   "source": []
  },
  {
   "cell_type": "raw",
   "id": "504bc73a-93a1-46fb-90b5-f76af0113cf0",
   "metadata": {
    "jupyter": {
     "source_hidden": true
    }
   },
   "source": [
    "\n",
    "lazy_df = pl.scan_csv('./data/uk_pop.csv')"
   ]
  },
  {
   "cell_type": "markdown",
   "id": "5e287242-6d01-4848-a795-3f434ae1901a",
   "metadata": {},
   "source": [
    "Click ... for solution. "
   ]
  },
  {
   "cell_type": "markdown",
   "id": "3581e118-7902-4d04-b4b4-9887c6ff73ba",
   "metadata": {},
   "source": [
    "### แบบฝึกหัดที่ 6 - การสร้าง Query ###\n",
    "\n",
    "ตอนนี้ มาสร้างคิวรีเพื่อค้นหา 5 ชื่อที่พบบ่อยที่สุดสำหรับบุคคลที่มีอายุต่ำกว่า 30 ปี"
   ]
  },
  {
   "cell_type": "code",
   "execution_count": null,
   "id": "1615956e-c6b5-485c-85d3-c0cf89cedbca",
   "metadata": {},
   "outputs": [],
   "source": []
  },
  {
   "cell_type": "raw",
   "id": "3b8ad975-18eb-4210-80dc-e44d09c9aad9",
   "metadata": {
    "jupyter": {
     "source_hidden": true
    }
   },
   "source": [
    "\n",
    "result = (\n",
    "    lazy_df.filter(pl.col(\"age\") < 30)\n",
    "    .group_by(\"name\")\n",
    "    .agg(pl.len().alias(\"count\"))\n",
    "    .sort(\"count\", descending=True)\n",
    "    .limit(5)\n",
    "    .select([\"name\", \"count\"])\n",
    ")\n",
    "\n",
    "top_5_names=result.collect()\n",
    "print(top_5_names)"
   ]
  },
  {
   "cell_type": "markdown",
   "id": "e2832dcd-9f2e-4970-932b-8d0732f9c4ab",
   "metadata": {},
   "source": [
    "Click ... for solution. "
   ]
  },
  {
   "cell_type": "markdown",
   "id": "07cf331d-0e3d-407c-9990-c7c0873565da",
   "metadata": {},
   "source": [
    "## cuDF Polars ##\n",
    "\n",
    "cuDF Polars ถูกสร้างขึ้นโดยตรงใน Polars Lazy API ข้อกำหนดเดียวคือการส่ง `engine=\"gpu\"` ไปยังการดำเนินการ `collect` Polars ยังอนุญาตให้กำหนดอินสแตนซ์ของ GPU Engine เพื่อการปรับแต่งที่มากขึ้น!\n"
   ]
  },
  {
   "cell_type": "code",
   "execution_count": null,
   "id": "9c6506b1-5c96-4b43-9d53-5826b5a8a44d",
   "metadata": {},
   "outputs": [],
   "source": [
    "lazy_df = pl.scan_csv('./data/uk_pop.csv').collect(engine=\"gpu\")"
   ]
  },
  {
   "cell_type": "markdown",
   "id": "676d16d0-9da0-48a1-a9cc-dc60bde2b223",
   "metadata": {},
   "source": [
    "ตอนนี้เรามาลองกำหนดอ็อบเจกต์เอ็นจิ้นของเราเองกัน!"
   ]
  },
  {
   "cell_type": "code",
   "execution_count": null,
   "id": "66672414-a47d-48c4-9ad9-5329ae159765",
   "metadata": {},
   "outputs": [],
   "source": [
    "import polars as pl\n",
    "import time\n",
    "\n",
    "gpu_engine = pl.GPUEngine(\n",
    "    device=0, # This is the default\n",
    "    raise_on_fail=True, # Fail loudly if we can't run on the GPU.\n",
    ")"
   ]
  },
  {
   "cell_type": "code",
   "execution_count": null,
   "id": "a939efd7-6c74-456b-baf0-8a2d9905956f",
   "metadata": {},
   "outputs": [],
   "source": [
    "lazy_df = pl.scan_csv('./data/uk_pop.csv').collect(engine=gpu_engine)"
   ]
  },
  {
   "cell_type": "markdown",
   "id": "7eafdfb6-92b0-4f0e-a2ea-90a2ee8a222c",
   "metadata": {},
   "source": [
    "เมื่อ GPU ได้รับการวอร์มอัพแล้ว มาลองเร่งความเร็วโค้ดเดิมกัน! สังเกตว่าเราได้เพิ่มพารามิเตอร์ `engine` ในการเรียกใช้ `.collect()`\n"
   ]
  },
  {
   "cell_type": "markdown",
   "id": "52995c50-bf64-44be-a22e-ba41c778f509",
   "metadata": {},
   "source": [
    "### เร่งความเร็วโค้ดก่อนหน้า ###"
   ]
  },
  {
   "cell_type": "code",
   "execution_count": null,
   "id": "69e5074d-d15b-471a-a9dd-e1f7a52013a5",
   "metadata": {},
   "outputs": [],
   "source": [
    "start_time = time.time()\n",
    "\n",
    "# Create a lazy DataFrame\n",
    "lazy_df = pl.scan_csv('./data/uk_pop.csv')\n",
    "\n",
    "# Define the lazy operations\n",
    "lazy_result = (\n",
    "    lazy_df\n",
    "    .filter(pl.col('age') > 0.0)\n",
    "    .sort('name', descending=True)\n",
    ")\n",
    "\n",
    "# Switch to gpu_engine\n",
    "result = lazy_result.collect(engine=gpu_engine)\n",
    "\n",
    "print(result.head())\n",
    "polars_time = time.time() - start_time\n",
    "print(f\"Time Taken: {polars_time:.4f} seconds\")"
   ]
  },
  {
   "cell_type": "markdown",
   "id": "025606e3-9d16-416b-9501-b4cf702fb317",
   "metadata": {},
   "source": [
    "### ตรวจสอบผลลัพธ์ข้ามเอ็นจิ้น ###\n",
    "\n",
    "เราจะรู้ได้อย่างไรว่าผลลัพธ์ที่ได้จากเอ็นจิ้น CPU และ GPU นั้นเหมือนกัน? โชคดีที่ Polars มีโมดูลการทดสอบในตัว เราสามารถรันคิวรีเดียวกันบนทั้งสองเอ็นจิ้นและเปรียบเทียบผลลัพธ์ได้!\n"
   ]
  },
  {
   "cell_type": "code",
   "execution_count": null,
   "id": "759ad96e-6bc1-4c79-bc50-ab89430fdb42",
   "metadata": {},
   "outputs": [],
   "source": [
    "from polars.testing import assert_frame_equal\n",
    "\n",
    "# Run on the CPU\n",
    "result_cpu = lazy_result.collect()\n",
    "\n",
    "# Run on the GPU\n",
    "result_gpu = lazy_result.collect(engine=\"gpu\")\n",
    "\n",
    "# assert both result are equal - Will error if not equal, return None otherwise\n",
    "if (assert_frame_equal(result_gpu, result_cpu) == None):\n",
    "    print(\"The test frames are equal\")"
   ]
  },
  {
   "cell_type": "markdown",
   "id": "5b4325cd-0e2d-4cae-8f71-83967708c7b9",
   "metadata": {},
   "source": [
    "### Fallback ###\n",
    "\n",
    "จะเกิดอะไรขึ้นเมื่อการดำเนินการไม่ได้รับการรองรับ?\n"
   ]
  },
  {
   "cell_type": "code",
   "execution_count": null,
   "id": "30401f1d-45ad-4365-a00f-e5e79e01412f",
   "metadata": {},
   "outputs": [],
   "source": [
    "result = (\n",
    "    lazy_df\n",
    "    .with_columns(pl.col('age').rolling_mean(window_size=7).alias('age_rolling_mean'))\n",
    "    .filter(pl.col('age') > 0.0)  \n",
    "    .collect(engine=gpu_engine)\n",
    ")\n",
    "print(result[::7])"
   ]
  },
  {
   "cell_type": "markdown",
   "id": "bad531f3-ecfc-4214-b3c7-6506a3321e11",
   "metadata": {},
   "source": [
    "เราเริ่มต้นสร้าง GPU engine ด้วย `raise_on_fail=True` เพื่อให้แน่ใจว่าการดำเนินการทั้งหมดทำงานบน GPU แต่ดังที่เราเห็น การดำเนินการ `rolling_mean` ไม่รองรับในปัจจุบัน ซึ่งทำให้คิวรีไม่สามารถดำเนินการได้ หากต้องการเปิดใช้งานการกลับไปใช้ (fallback) เราสามารถเปลี่ยนพารามิเตอร์ `raise_on_fail` เป็น `False` ได้"
   ]
  },
  {
   "cell_type": "code",
   "execution_count": null,
   "id": "96b95c34-d3ea-494a-95b9-5d2fd8d49938",
   "metadata": {},
   "outputs": [],
   "source": [
    "gpu_engine_with_fallback = pl.GPUEngine(\n",
    "    device=0, # This is the default\n",
    "    raise_on_fail=False, # Fallback to CPU if we can't run on the GPU (this is the default)\n",
    ")"
   ]
  },
  {
   "cell_type": "markdown",
   "id": "a7e15a86-dad3-4b71-8ccb-c03b61a35e3c",
   "metadata": {},
   "source": [
    "ตอนนี้เรามาลองคิวรีนี้อีกครั้ง"
   ]
  },
  {
   "cell_type": "code",
   "execution_count": null,
   "id": "73c30f3c-4075-44aa-8715-648b49fec1e9",
   "metadata": {},
   "outputs": [],
   "source": [
    "result = (\n",
    "    lazy_df\n",
    "    .with_columns(pl.col('age').rolling_mean(window_size=7).alias('age_rolling_mean'))\n",
    "    .filter(pl.col('age') > 0.0)  \n",
    "    .collect(engine=gpu_engine_with_fallback)\n",
    ")\n",
    "print(result[::7])"
   ]
  },
  {
   "cell_type": "markdown",
   "id": "19be5382-ba87-4bc3-8862-df73049598f7",
   "metadata": {},
   "source": [
    "### แบบฝึกหัดที่ 7 - เปิดใช้งาน GPU Engine ###\n",
    "\n",
    "โค้ดด้านล่างคำนวณค่าเฉลี่ยของละติจูดและลองจิจูดสำหรับแต่ละมณฑล ลองเปิดใช้งาน GPU Engine สำหรับคิวรีนี้กัน!\n"
   ]
  },
  {
   "cell_type": "code",
   "execution_count": null,
   "id": "94243bde-3a3a-4ce9-887c-13d0b0875750",
   "metadata": {},
   "outputs": [],
   "source": [
    "# Create the lazy query with column pruning\n",
    "lazy_query = (\n",
    "    lazy_df\n",
    "    .select([\"county\", \"lat\", \"long\"])  # Column pruning: select only necessary columns\n",
    "    .group_by(\"county\")\n",
    "    .agg([\n",
    "        pl.col(\"lat\").mean().alias(\"avg_latitude\"),\n",
    "        pl.col(\"long\").mean().alias(\"avg_longitude\")\n",
    "    ])\n",
    "    .sort(\"county\")\n",
    ")\n",
    "\n",
    "# Execute the query\n",
    "result = lazy_query.collect()\n",
    "\n",
    "print(\"\\nAverage latitude and longitude for each county:\")\n",
    "print(result.head())  # Display first few rows"
   ]
  },
  {
   "cell_type": "raw",
   "id": "c00e1680-bcd4-4d0a-b6bc-6bdc8e7829aa",
   "metadata": {
    "jupyter": {
     "source_hidden": true
    }
   },
   "source": [
    "\n",
    "# Create the lazy query with column pruning\n",
    "lazy_query = (\n",
    "    lazy_df\n",
    "    .select([\"county\", \"lat\", \"long\"])  # Column pruning: select only necessary columns\n",
    "    .group_by(\"county\")\n",
    "    .agg([\n",
    "        pl.col(\"lat\").mean().alias(\"avg_latitude\"),\n",
    "        pl.col(\"long\").mean().alias(\"avg_longitude\")\n",
    "    ])\n",
    "    .sort(\"county\")\n",
    ")\n",
    "\n",
    "# Execute the query\n",
    "result = lazy_query.collect(engine=\"gpu\")\n",
    "\n",
    "print(\"\\nAverage latitude and longitude for each county:\")\n",
    "print(result.head())  # Display first few rows"
   ]
  },
  {
   "cell_type": "markdown",
   "id": "b942cf78-b3cc-4fa1-8d62-b355e20dd2ae",
   "metadata": {},
   "source": [
    "Click ... for solution. "
   ]
  },
  {
   "cell_type": "code",
   "execution_count": null,
   "id": "cf1158c3-8429-4637-a9c2-e8ca91a59965",
   "metadata": {},
   "outputs": [],
   "source": [
    "import IPython\n",
    "app = IPython.Application.instance()\n",
    "app.kernel.do_shutdown(True)"
   ]
  },
  {
   "cell_type": "markdown",
   "id": "cdecd196-8e0d-4b36-a428-4411bd480778",
   "metadata": {},
   "source": [
    "**เยี่ยมมาก!** ไปยัง [โน้ตบุ๊กถัดไป](1-09_dask-cudf.ipynb) กันเลย"
   ]
  }
 ],
 "metadata": {
  "kernelspec": {
   "display_name": "Python 3 (ipykernel)",
   "language": "python",
   "name": "python3"
  },
  "language_info": {
   "codemirror_mode": {
    "name": "ipython",
    "version": 3
   },
   "file_extension": ".py",
   "mimetype": "text/x-python",
   "name": "python",
   "nbconvert_exporter": "python",
   "pygments_lexer": "ipython3",
   "version": "3.10.15"
  }
 },
 "nbformat": 4,
 "nbformat_minor": 5
}
