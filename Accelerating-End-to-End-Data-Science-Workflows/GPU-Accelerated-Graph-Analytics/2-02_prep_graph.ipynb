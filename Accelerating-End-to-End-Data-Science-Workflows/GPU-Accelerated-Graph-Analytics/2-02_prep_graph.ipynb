{
 "cells": [
  {
   "cell_type": "markdown",
   "metadata": {
    "tags": []
   },
   "source": [
    "<img src=\"images/nvidia_header.png\" style=\"margin-left: -30px; width: 300px; float: left;\">"
   ]
  },
  {
   "cell_type": "markdown",
   "metadata": {},
   "source": [
    "# Accelerating End-to-End Data Science Workflows # "
   ]
  },
  {
   "cell_type": "markdown",
   "metadata": {},
   "source": [
    "## 02 - การเตรียมข้อมูลสำหรับการสร้างกราฟ ##\n",
    "\n",
    "**สารบัญ**\n",
    "\n",
    "โน้ตบุ๊กนี้จะแนะนำพื้นฐานของการแทนและสร้างกราฟ โน้ตบุ๊กนี้ครอบคลุมส่วนต่างๆ ดังนี้:\n",
    "\n",
    "1.  [พื้นหลัง (Background)](#Background)\n",
    "2.  [สภาพแวดล้อม (Environment)](#Environment)\n",
    "3.  [อ่านข้อมูล (Read Data)](#Read-Data)\n",
    "    * [โหนดถนนในสหราชอาณาจักร (UK Road Nodes)](#UK-Road-Nodes)\n",
    "    * [ขอบถนนในสหราชอาณาจักร (UK Road Edges)](#UK-Road-Edges)\n",
    "    * [แบบฝึกหัดที่ 1 - ทำให้ ID เข้ากันได้ (Make IDs Compatible)](#Exercise-#1---Make-IDs-Compatible)\n",
    "4.  [สรุปข้อมูล (Data Summary)](#Data-Summary)\n",
    "5.  [การสร้างกราฟเครือข่ายถนน (Building the Road Network Graph)](#Building-the-Road-Network-Graph)\n",
    "    * [จัดเรียงดัชนี `road_nodes` ใหม่ (Reindex `road_nodes`)](#Reindex-road_nodes)\n",
    "    * [การวิเคราะห์กราฟ (Analyzing the Graph)](#Analyzing-the-Graph)\n",
    "6.  [สร้างกราฟถนนด้วยน้ำหนักเวลา (Construct a Graph of Roads with Time Weights)](#Construct-a-Graph-of-Roads-with-Time-Weights)\n",
    "    * [การแปลงประเภทถนนเป็นความเร็ว (Road Type to Speed Conversion)](#Road-Type-to-Speed-Conversion)\n",
    "    * [ขั้นตอนที่ 1: รวม `speed_gdf` เข้ากับ `road_edges` (Merge `speed_gdf` into `road_edges`)](#Step-1:-Merge-speed_gdf-into-road_edges)\n",
    "    * [แบบฝึกหัดที่ 2 - ขั้นตอนที่ 2: เพิ่มคอลัมน์ความยาวเป็นวินาที (Add Length in Seconds Column)](#Exercse-#2---Step-2:-Add-Length-in-Seconds-Column)\n",
    "    * [แบบฝึกหัดที่ 3 - ขั้นตอนที่ 3: สร้างกราฟ (Construct the Graph)](#Exercise-#3---Step-3:-Construct-the-Graph)"
   ]
  },
  {
   "cell_type": "markdown",
   "metadata": {},
   "source": [
    "## Background ##\n",
    "ส่วนหนึ่งของเป้าหมายด้านวิทยาศาสตร์ข้อมูลที่ใหญ่ขึ้นสำหรับเวิร์กช็อปนี้ เราจะทำงานกับข้อมูลที่สะท้อนถึงเครือข่ายถนนทั้งหมดของบริเตนใหญ่ เรามีข้อมูลถนนที่แยกออกมาในรูปแบบ CSV แบบตารางจากไฟล์ [GML](https://en.wikipedia.org/wiki/Geography_Markup_Language) อย่างเป็นทางการเป็นจุดเริ่มต้น สุดท้ายนี้ เราต้องการใช้ cuGraph เพื่อทำการวิเคราะห์กราฟที่เร่งความเร็วด้วย GPU บนข้อมูลนี้ แต่ในการทำเช่นนั้น เราจำเป็นต้องทำการประมวลผลล่วงหน้าบางอย่างเพื่อเตรียมข้อมูลให้พร้อมสำหรับการสร้างกราฟ\n",
    "\n",
    "ในโน้ตบุ๊กนี้ คุณจะได้เรียนรู้เทคนิคการแปลงข้อมูล cuDF เพิ่มเติมในการสาธิตการเตรียมข้อมูลสำหรับการนำเข้าโดย cuGraph ถัดไป คุณจะได้ทำแบบฝึกหัดชุดหนึ่งเพื่อทำการแปลงข้อมูลที่คล้ายกันสำหรับการสร้างกราฟที่มีน้ำหนักขอบที่แตกต่างกัน\n",
    "\n",
    "\n",
    "\n",
    "\n",
    "\n",
    "\n"
   ]
  },
  {
   "cell_type": "markdown",
   "metadata": {},
   "source": [
    "## Environment ##"
   ]
  },
  {
   "cell_type": "markdown",
   "metadata": {},
   "source": [
    "นอกเหนือจาก `cudf` แล้ว ในโน้ตบุ๊กนี้เราจะนำเข้า `cugraph` ซึ่งเราจะใช้ (หลังจากเตรียมข้อมูลแล้ว) เพื่อสร้างกราฟที่เร่งความเร็วด้วย GPU เรายังนำเข้า `networkx` สำหรับการเปรียบเทียบประสิทธิภาพสั้นๆ ในภายหลัง"
   ]
  },
  {
   "cell_type": "code",
   "execution_count": null,
   "metadata": {},
   "outputs": [],
   "source": [
    "import warnings\n",
    "warnings.filterwarnings('ignore')\n",
    "\n",
    "import cudf\n",
    "import cugraph as cg\n",
    "\n",
    "import networkx as nx"
   ]
  },
  {
   "cell_type": "markdown",
   "metadata": {},
   "source": [
    "## Read Data ##"
   ]
  },
  {
   "cell_type": "markdown",
   "metadata": {},
   "source": [
    "ในหน้านี้ (notebook) เราจะใช้ข้อมูล 2 แหล่ง เพื่อสร้างกราฟแสดงเครือข่ายถนนของสหราชอาณาจักร (UK) ครับ"
   ]
  },
  {
   "cell_type": "markdown",
   "metadata": {},
   "source": [
    "### UK Road Nodes ###"
   ]
  },
  {
   "cell_type": "markdown",
   "metadata": {},
   "source": [
    "ตารางข้อมูลแรกจะอธิบายถึง **จุดเชื่อม (nodes)** ในเครือข่ายถนน ได้แก่ **จุดปลายทาง (endpoints)**, **ทางแยก (junctions)** (รวมถึงวงเวียน), และ **จุดที่แบ่งถนนโค้งยาวๆ** เพื่อให้สามารถสร้างแผนที่ได้อย่างถูกต้อง (แทนที่จะเป็นเส้นตรง)\n",
    "\n",
    "พิกัดสำหรับแต่ละจุดอยู่ในรูปแบบ **OSGB36** ซึ่งเราได้ศึกษาไปแล้วในหัวข้อ 1-05\n"
   ]
  },
  {
   "cell_type": "code",
   "execution_count": null,
   "metadata": {},
   "outputs": [],
   "source": [
    "road_nodes = cudf.read_csv('./data/road_nodes.csv')\n",
    "road_nodes.head()"
   ]
  },
  {
   "cell_type": "code",
   "execution_count": null,
   "metadata": {},
   "outputs": [],
   "source": [
    "road_nodes.dtypes"
   ]
  },
  {
   "cell_type": "code",
   "execution_count": null,
   "metadata": {},
   "outputs": [],
   "source": [
    "road_nodes.shape"
   ]
  },
  {
   "cell_type": "code",
   "execution_count": null,
   "metadata": {},
   "outputs": [],
   "source": [
    "road_nodes['type'].unique()"
   ]
  },
  {
   "cell_type": "markdown",
   "metadata": {},
   "source": [
    "### UK Road Edges ###"
   ]
  },
  {
   "cell_type": "markdown",
   "metadata": {},
   "source": [
    "ตารางข้อมูลที่สองจะอธิบายถึง **ส่วนของถนน (road segments)** ซึ่งรวมถึง **จุดเริ่มต้นและจุดสิ้นสุด (start and end points)**, **ความยาว (how long they are)**, และ **ประเภทของถนน (what kind of road they are)** นั้น ๆ ครับ"
   ]
  },
  {
   "cell_type": "code",
   "execution_count": null,
   "metadata": {},
   "outputs": [],
   "source": [
    "road_edges = cudf.read_csv('./data/road_edges.csv')\n",
    "road_edges.head()"
   ]
  },
  {
   "cell_type": "code",
   "execution_count": null,
   "metadata": {},
   "outputs": [],
   "source": [
    "road_edges.dtypes"
   ]
  },
  {
   "cell_type": "code",
   "execution_count": null,
   "metadata": {},
   "outputs": [],
   "source": [
    "road_edges.shape"
   ]
  },
  {
   "cell_type": "code",
   "execution_count": null,
   "metadata": {},
   "outputs": [],
   "source": [
    "road_edges['type'].unique()"
   ]
  },
  {
   "cell_type": "code",
   "execution_count": null,
   "metadata": {},
   "outputs": [],
   "source": [
    "road_edges['form'].unique()"
   ]
  },
  {
   "cell_type": "markdown",
   "metadata": {},
   "source": [
    "### Exercise #1 - Make IDs Compatible ###"
   ]
  },
  {
   "cell_type": "markdown",
   "metadata": {},
   "source": [
    "ไฟล์ CSV ของเราได้มาจากไฟล์ [GML](https://en.wikipedia.org/wiki/Geography_Markup_Language) ต้นฉบับ และอย่างที่คุณเห็นจากข้อมูลข้างต้น ทั้ง `road_edges['src_id']` และ `road_edges['dst_id']` มีอักขระ `#` นำหน้า ซึ่ง `road_nodes['node_id']` ไม่มี เพื่อให้ ID สามารถใช้งานร่วมกันได้ระหว่าง edges (เส้นเชื่อม) และ nodes (จุดเชื่อม), ให้ใช้ **เมธอดสตริง** ของ cuDF คือ `.str.lstrip` เพื่อแทนที่คอลัมน์ `src_id` และ `dst_id` ใน `road_edges` ด้วยค่าที่ถูกลบอักขระ `#` ที่นำหน้าออกไปแล้ว\n"
   ]
  },
  {
   "cell_type": "code",
   "execution_count": null,
   "metadata": {},
   "outputs": [],
   "source": []
  },
  {
   "cell_type": "raw",
   "metadata": {
    "jupyter": {
     "source_hidden": true
    }
   },
   "source": [
    "road_edges['src_id'] = road_edges['src_id'].str.lstrip('#')\n",
    "road_edges['dst_id'] = road_edges['dst_id'].str.lstrip('#')\n",
    "road_edges[['src_id', 'dst_id']].head()\n"
   ]
  },
  {
   "cell_type": "markdown",
   "metadata": {},
   "source": [
    "Click ... for solution. "
   ]
  },
  {
   "cell_type": "markdown",
   "metadata": {},
   "source": [
    "## Data Summary ##"
   ]
  },
  {
   "cell_type": "markdown",
   "metadata": {},
   "source": [
    "เมื่อข้อมูลได้รับการทำความสะอาดแล้ว เราจะเห็นจำนวนถนนและจุดปลายทาง/ทางแยก/จุดโค้งที่เราจะใช้งาน รวมถึงปริมาณการใช้หน่วยความจำบน GPU ของเราด้วย GPU ที่เราใช้อยู่สามารถจัดเก็บและวิเคราะห์กราฟที่ใหญ่กว่านี้ได้มาก!"
   ]
  },
  {
   "cell_type": "code",
   "execution_count": null,
   "metadata": {},
   "outputs": [],
   "source": [
    "print(f'{road_edges.shape[0]} edges, {road_nodes.shape[0]} nodes')"
   ]
  },
  {
   "cell_type": "code",
   "execution_count": null,
   "metadata": {},
   "outputs": [],
   "source": [
    "!nvidia-smi"
   ]
  },
  {
   "cell_type": "markdown",
   "metadata": {},
   "source": [
    "## Building the Road Network Graph ##"
   ]
  },
  {
   "cell_type": "markdown",
   "metadata": {},
   "source": [
    "เราไม่มีข้อมูลทิศทางการจราจรของถนน (บางเส้นเป็นเดินรถทางเดียว) ดังนั้น **เพื่อความง่าย** เราจะถือว่าถนนทุกสายเป็นแบบ **สองทาง (two-way)** ทั้งหมด การทำเช่นนี้ทำให้กราฟของเราเป็น **\"undirected\" (ไม่มีทิศทาง)** ดังนั้นเราจะสร้าง **cuGraph `Graph`** แทนที่จะเป็น directed graph หรือ `DiGraph` ครับ\n",
    "\n",
    "เราจะเริ่มต้น (initialize) กราฟด้วยข้อมูล **แหล่งกำเนิด (edge sources)**, **ปลายทาง (destinations)**, และ **คุณสมบัติ (attributes)** ซึ่งในข้อมูลของเราก็คือ **ความยาวของถนน (length of the roads)** นั่นเองครับ"
   ]
  },
  {
   "cell_type": "code",
   "execution_count": null,
   "metadata": {},
   "outputs": [],
   "source": [
    "G = cg.Graph()\n",
    "%time G.from_cudf_edgelist(road_edges, source='src_id', destination='dst_id', edge_attr='length')"
   ]
  },
  {
   "cell_type": "markdown",
   "metadata": {},
   "source": [
    "เพื่อใช้เปรียบเทียบ เราจะสร้างกราฟที่เทียบเท่ากันใน **NetworkX** จาก Pandas dataframe ที่ผ่านการทำความสะอาดและเตรียมข้อมูลมาแล้วด้วยครับ"
   ]
  },
  {
   "cell_type": "code",
   "execution_count": null,
   "metadata": {},
   "outputs": [],
   "source": [
    "road_edges_cpu = road_edges.to_pandas()\n",
    "%time G_cpu = nx.convert_matrix.from_pandas_edgelist(road_edges_cpu, source='src_id', target='dst_id', edge_attr='length')"
   ]
  },
  {
   "cell_type": "markdown",
   "metadata": {},
   "source": [
    "### Reindex `road_nodes` ###"
   ]
  },
  {
   "cell_type": "markdown",
   "metadata": {},
   "source": [
    "เพื่อการค้นหาที่มีประสิทธิภาพในภายหลัง เราจะ **จัดเรียงดัชนี (reindex)** ของ `road_nodes` ใหม่ให้ใช้ **`node_id` เป็นดัชนี** ของมัน — จำไว้ว่าโดยทั่วไปแล้วเราจะได้ผลลัพธ์จากการวิเคราะห์กราฟในรูปของ `node_id` ดังนั้นวิธีนี้จะช่วยให้เราดึงข้อมูลอื่น ๆ เกี่ยวกับโหนด (เช่น ตำแหน่ง) ได้อย่างง่ายดาย จากนั้นเราจะ **เรียงลำดับ (sort)** DataFrame ตามดัชนีใหม่นี้"
   ]
  },
  {
   "cell_type": "code",
   "execution_count": null,
   "metadata": {},
   "outputs": [],
   "source": [
    "road_nodes = road_nodes.set_index('node_id', drop=True)\n",
    "%time road_nodes = road_nodes.sort_index()\n",
    "road_nodes.head()"
   ]
  },
  {
   "cell_type": "markdown",
   "metadata": {},
   "source": [
    "### Analyzing the Graph ###"
   ]
  },
  {
   "cell_type": "markdown",
   "metadata": {},
   "source": [
    "เมื่อเราสร้างกราฟเสร็จแล้ว เราสามารถวิเคราะห์**จำนวนโหนด (nodes)** และ**เส้นเชื่อม (edges)** ในกราฟได้ดังนี้:"
   ]
  },
  {
   "cell_type": "code",
   "execution_count": null,
   "metadata": {},
   "outputs": [],
   "source": [
    "G.number_of_nodes()"
   ]
  },
  {
   "cell_type": "code",
   "execution_count": null,
   "metadata": {},
   "outputs": [],
   "source": [
    "G.number_of_edges()"
   ]
  },
  {
   "cell_type": "markdown",
   "metadata": {},
   "source": [
    "ข้อสังเกตเกี่ยวกับการลดจำนวน Edge\n",
    "\n",
    "จะสังเกตเห็นว่าจำนวน **edges (เส้นเชื่อม)** มีจำนวนน้อยกว่าจำนวน edges ใน `road_edges` ที่แสดงไว้ข้างต้นเล็กน้อย นั่นเป็นเพราะข้อมูลต้นฉบับมาจาก **map tiles (แผ่นแผนที่)** และถนนที่พาดผ่านขอบของแผ่นแผนที่นั้นจะถูกแสดงอยู่ในทั้งสองแผ่น ทำให้ cuGraph ทำการ **กำจัดข้อมูลซ้ำซ้อน (de-duplicated)** ออกไป หากเรากำลังสร้าง `MultiGraph` หรือ `MultiDiGraph` ซึ่งเป็นกราฟที่สามารถมีหลายเส้นเชื่อมไปในทิศทางเดียวกันระหว่างจุดเชื่อมได้ ข้อมูลที่ซ้ำซ้อนกันนั้นก็จะถูกเก็บรักษาไว้\n",
    "\n",
    "\n",
    "\n",
    "\n",
    "\n",
    "\n"
   ]
  },
  {
   "cell_type": "markdown",
   "metadata": {},
   "source": [
    "เราสามารถวิเคราะห์ degrees ของ node ในกราฟของเราได้ด้วย:"
   ]
  },
  {
   "cell_type": "code",
   "execution_count": null,
   "metadata": {},
   "outputs": [],
   "source": [
    "deg_df = G.degree()"
   ]
  },
  {
   "cell_type": "markdown",
   "metadata": {},
   "source": [
    "ในกราฟที่ **ไม่มีทิศทาง (undirected graph)** เส้นเชื่อม (edge) ทุกเส้นที่ **เข้าสู่ (entering)** โหนด (node) จะถือเป็นเส้นเชื่อมที่ **ออกจาก (leaving)** โหนดนั้นไปพร้อมกัน ดังนั้นเราจึงคาดว่าโหนดควรมี **ดีกรี (degree)** อย่างน้อย 2 ครับ"
   ]
  },
  {
   "cell_type": "code",
   "execution_count": null,
   "metadata": {},
   "outputs": [],
   "source": [
    "deg_df['degree'].describe()[1:]"
   ]
  },
  {
   "cell_type": "markdown",
   "metadata": {},
   "source": [
    "คุณจะได้ใช้กราฟที่ประมวลผลด้วย GPU นี้มากขึ้นในภายหลังของเวิร์คช็อปครับ"
   ]
  },
  {
   "cell_type": "markdown",
   "metadata": {},
   "source": [
    "## Construct a Graph of Roads with Time Weights ##"
   ]
  },
  {
   "cell_type": "markdown",
   "metadata": {},
   "source": [
    "สำหรับแบบฝึกหัดชุดนี้ คุณจะได้สร้างและวิเคราะห์กราฟใหม่ของถนนในประเทศอังกฤษ (Great Britain) โดยใช้เทคนิคที่เพิ่งสาธิตไป แต่คราวนี้ แทนที่จะใช้ระยะทางดิบเป็นค่าน้ำหนักของเส้นเชื่อม (edges' weights) คุณจะใช้ **เวลาที่ใช้ในการเดินทาง** ระหว่างจุดเชื่อม (nodes) สองจุด โดยอ้างอิงจากความเร็วจำกัดที่กำหนด\n",
    "\n",
    "คุณจะเริ่มแบบฝึกหัดนี้ด้วย DataFrame `road_edges` ที่ใช้ไปก่อนหน้านี้"
   ]
  },
  {
   "cell_type": "code",
   "execution_count": null,
   "metadata": {},
   "outputs": [],
   "source": [
    "road_edges.dtypes"
   ]
  },
  {
   "cell_type": "markdown",
   "metadata": {},
   "source": [
    "### Road Type to Speed Conversion ###"
   ]
  },
  {
   "cell_type": "markdown",
   "metadata": {},
   "source": [
    "เพื่อที่จะคำนวณว่าควรใช้เวลาเดินทางบนถนนเส้นหนึ่งนานเท่าใด เราจำเป็นต้องทราบ **ขีดจำกัดความเร็ว (speed limit)** ของถนนนั้น เราจะทำสิ่งนี้โดยใช้ประโยชน์จาก `road_edges['type']` พร้อมกับกฎสำหรับขีดจำกัดความเร็วของถนนแต่ละประเภท\n",
    "\n",
    "นี่คือประเภทถนนที่ไม่ซ้ำกันในข้อมูลของเรา:"
   ]
  },
  {
   "cell_type": "code",
   "execution_count": null,
   "metadata": {},
   "outputs": [],
   "source": [
    "road_edges['type'].unique()"
   ]
  },
  {
   "cell_type": "markdown",
   "metadata": {},
   "source": [
    "และนี่คือตารางที่แสดง **ข้อสมมติฐานเกี่ยวกับความเร็วสูงสุด (speed limits)** ที่เราจะใช้สำหรับการแปลงข้อมูลของเราครับ:"
   ]
  },
  {
   "cell_type": "code",
   "execution_count": null,
   "metadata": {},
   "outputs": [],
   "source": [
    "# https://www.rac.co.uk/drive/advice/legal/speed-limits/\n",
    "# Technically, speed limits depend on whether a road is in a built-up area and the form of carriageway,\n",
    "# but we can use road type as a proxy for built-up areas.\n",
    "# Values are in mph.\n",
    "\n",
    "speed_limits = {'Motorway': 70,\n",
    "               'A Road': 60,\n",
    "               'B Road': 60,\n",
    "               'Local Road': 30,\n",
    "               'Local Access Road': 30,\n",
    "               'Minor Road': 30,\n",
    "               'Restricted Local Access Road': 30,\n",
    "               'Secondary Access Road': 30}"
   ]
  },
  {
   "cell_type": "markdown",
   "metadata": {},
   "source": [
    "เรามาเริ่มต้นด้วยการสร้าง `speed_gdf` เพื่อเก็บข้อมูล **ประเภทถนน** แต่ละชนิดพร้อมกับ **การจำกัดความเร็ว** ของมันครับ"
   ]
  },
  {
   "cell_type": "code",
   "execution_count": null,
   "metadata": {},
   "outputs": [],
   "source": [
    "speed_gdf = cudf.DataFrame()\n",
    "\n",
    "speed_gdf['type'] = speed_limits.keys()\n",
    "speed_gdf['limit_mph'] = [speed_limits[key] for key in speed_limits.keys()]\n",
    "speed_gdf"
   ]
  },
  {
   "cell_type": "markdown",
   "metadata": {},
   "source": [
    "ถัดไป เราจะเพิ่มคอลัมน์ใหม่ชื่อ `limit_m/s` ซึ่งจะบอก **ความเร็วสูงสุดที่สามารถเดินทางบนถนนแต่ละประเภทได้ในหน่วยเมตรต่อวินาที**"
   ]
  },
  {
   "cell_type": "code",
   "execution_count": null,
   "metadata": {},
   "outputs": [],
   "source": [
    "# We will have road distances in meters (m), so to get road distances in seconds (s), we need to multiply by meters/mile and divide by seconds/hour\n",
    "# 1 mile ~ 1609.34 m\n",
    "speed_gdf['limit_m/s'] = speed_gdf['limit_mph'] * 1609.34 / 3600\n",
    "speed_gdf"
   ]
  },
  {
   "cell_type": "markdown",
   "metadata": {},
   "source": [
    "### Step 1: Merge `speed_gdf` into `road_edges` ###"
   ]
  },
  {
   "cell_type": "markdown",
   "metadata": {},
   "source": [
    "cuDF มีฟังก์ชันการรวมข้อมูลเหมือนกับ Pandas เลยครับ เนื่องจากเราจะใช้ค่าใน `road_edges` เพื่อสร้างกราฟของเรา เราจึงจำเป็นต้อง **รวม (merge)** `speed_gdf` เข้ากับ `road_edges` (คล้ายกับการ join ในฐานข้อมูล) คุณสามารถรวมข้อมูลโดยใช้คอลัมน์ `type` ซึ่งเป็นคอลัมน์ที่มีร่วมกันในทั้งสอง DataFrame นี้ครับ"
   ]
  },
  {
   "cell_type": "code",
   "execution_count": null,
   "metadata": {},
   "outputs": [],
   "source": [
    "%time road_edges = road_edges.merge(speed_gdf, on='type')"
   ]
  },
  {
   "cell_type": "markdown",
   "metadata": {},
   "source": [
    "### Exercse #2 - Step 2: Add Length in Seconds Column ###"
   ]
  },
  {
   "cell_type": "markdown",
   "metadata": {},
   "source": [
    "คุณต้องคำนวณจำนวนวินาทีที่จะใช้ในการเดินทางบนถนนที่กำหนดด้วยความเร็วสูงสุดที่อนุญาต สามารถทำได้โดยการนำ **ความยาวของถนนในหน่วยเมตร (m)** หารด้วย **ความเร็วสูงสุดในหน่วยเมตรต่อวินาที (m/s)** ทำการคำนวณนี้กับ `road_edges` และเก็บผลลัพธ์ไว้ในคอลัมน์ใหม่ชื่อ `length_s`"
   ]
  },
  {
   "cell_type": "code",
   "execution_count": null,
   "metadata": {},
   "outputs": [],
   "source": []
  },
  {
   "cell_type": "raw",
   "metadata": {
    "jupyter": {
     "source_hidden": true
    }
   },
   "source": [
    "road_edges['length_s'] = road_edges['length'] / road_edges['limit_m/s']\n",
    "road_edges['length_s'].head()\n",
    "\n"
   ]
  },
  {
   "cell_type": "markdown",
   "metadata": {},
   "source": [
    "Click ... for solution. "
   ]
  },
  {
   "cell_type": "markdown",
   "metadata": {},
   "source": [
    "### Exercise #3 - Step 3: Construct the Graph ###"
   ]
  },
  {
   "cell_type": "markdown",
   "metadata": {},
   "source": [
    "สร้าง `Graph` ของ cuGraph ที่ชื่อว่า `G_ex` โดยใช้จุดเริ่มต้นและจุดสิ้นสุดที่อยู่ใน `road_edges` พร้อมกับค่าน้ำหนักของเส้นเชื่อม (edges) เป็นความยาวในหน่วยวินาที"
   ]
  },
  {
   "cell_type": "code",
   "execution_count": null,
   "metadata": {},
   "outputs": [],
   "source": []
  },
  {
   "cell_type": "raw",
   "metadata": {
    "jupyter": {
     "source_hidden": true
    }
   },
   "source": [
    "G_ex = cg.Graph()\n",
    "G_ex.from_cudf_edgelist(road_edges, source='src_id', destination='dst_id', edge_attr='length_s')\n"
   ]
  },
  {
   "cell_type": "markdown",
   "metadata": {},
   "source": [
    "Click ... for solution. "
   ]
  },
  {
   "cell_type": "code",
   "execution_count": null,
   "metadata": {},
   "outputs": [],
   "source": [
    "import IPython\n",
    "app = IPython.Application.instance()\n",
    "app.kernel.do_shutdown(True)"
   ]
  },
  {
   "cell_type": "markdown",
   "metadata": {},
   "source": [
    "**ทำได้ดีมาก!** ไปยัง [สมุดบันทึกถัดไป](2-03_cugraph.ipynb) กัน"
   ]
  }
 ],
 "metadata": {
  "kernelspec": {
   "display_name": "Python 3 (ipykernel)",
   "language": "python",
   "name": "python3"
  },
  "language_info": {
   "codemirror_mode": {
    "name": "ipython",
    "version": 3
   },
   "file_extension": ".py",
   "mimetype": "text/x-python",
   "name": "python",
   "nbconvert_exporter": "python",
   "pygments_lexer": "ipython3",
   "version": "3.10.15"
  }
 },
 "nbformat": 4,
 "nbformat_minor": 4
}
