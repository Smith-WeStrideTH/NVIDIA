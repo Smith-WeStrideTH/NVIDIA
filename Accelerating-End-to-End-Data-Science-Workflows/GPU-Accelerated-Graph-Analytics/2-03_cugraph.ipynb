{
 "cells": [
  {
   "cell_type": "markdown",
   "metadata": {},
   "source": [
    "# Accelerating End-to-End Data Science Workflows # "
   ]
  },
  {
   "cell_type": "markdown",
   "metadata": {},
   "source": [
    "## 03 - เส้นทางที่สั้นที่สุดจากแหล่งเดียวด้วย cuGraph ##\n",
    "\n",
    "**cuGraph Single Source Shortest Path** \n",
    "\n",
    "**สารบัญ**\n",
    "<br>\n",
    "ในสมุดบันทึกนี้ เราจะใช้การวิเคราะห์กราฟที่เร่งด้วย GPU โดยใช้ cuGraph เพื่อระบุ **เส้นทางที่สั้นที่สุดจากจุดเชื่อมหนึ่งในเครือข่ายถนนไปยังทุกจุดเชื่อมอื่น** ทั้งตามระยะทาง ซึ่งเราจะสาธิตให้ดู และตามเวลา ซึ่งคุณจะต้องดำเนินการเอง คุณยังจะได้แสดงผลลัพธ์จากการค้นพบของคุณด้วย สมุดบันทึกนี้ครอบคลุมส่วนต่างๆ ดังต่อไปนี้:\n",
    "1. [สภาพแวดล้อม (Environment)](#Environment)\n",
    "2. [การโหลดข้อมูล (Loading Data)](#Loading-Data)\n",
    "3. [การสร้างกราฟด้วย cuGraph (Construct Graph with cuGraph)](#Construct-Graph-with-cuGraph)\n",
    "4. [การวิเคราะห์กราฟ (Analyzing the Graph)](#Analyzing-the-Graph)\n",
    "5. [เส้นทางที่สั้นที่สุดจากแหล่งกำเนิดเดียว (Single Source Shortest Path)](#Single-Source-Shortest-Path)\n",
    "6. [การวิเคราะห์กราฟด้วยน้ำหนักเวลา (Analyze a Graph with Time Weights)](#Analyze-a-Graph-with-Time-Weights)\n",
    "    * [แบบฝึกหัดที่ 1 - ขั้นตอนที่ 1: การสร้างกราฟ (Exercise #1 - Step 1: Construct the Graph)](#Exercise-#1---Step-1:-Construct-the-Graph)\n",
    "    * [แบบฝึกหัดที่ 2 - ขั้นตอนที่ 2: การหาระยะเวลาการเดินทางจากจุดเชื่อมหนึ่งไปยังจุดเชื่อมอื่นๆ ทั้งหมด (Exercise #2 - Step 2: Get Travel Times From a Node to All Others)](#Exercise-#2---Step-2:-Get-Travel-Times-From-a-Node-to-All-Others)\n",
    "    * [การแสดงผลด้วยภาพของระยะเวลาการเดินทางของจุดเชื่อม (Visualize the Node Travel Times)](#Visualize-the-Node-Travel-Times)\n"
   ]
  },
  {
   "cell_type": "markdown",
   "metadata": {},
   "source": [
    "## Environment ##"
   ]
  },
  {
   "cell_type": "code",
   "execution_count": null,
   "metadata": {},
   "outputs": [],
   "source": [
    "import warnings\n",
    "warnings.filterwarnings('ignore')\n",
    "\n",
    "import cudf\n",
    "import cugraph as cg\n",
    "\n",
    "import cuxfilter as cxf\n",
    "from bokeh.palettes import Magma, Turbo256, Plasma256, Viridis256"
   ]
  },
  {
   "cell_type": "markdown",
   "metadata": {},
   "source": [
    "## Loading Data ##"
   ]
  },
  {
   "cell_type": "markdown",
   "metadata": {},
   "source": [
    "เราจะเริ่มต้นด้วยการโหลดข้อมูลกราฟถนนที่คุณเตรียมไว้สำหรับการสร้างกราฟด้วย cuGraph โดยที่ **`nodeid`** แบบยาวที่ไม่ซ้ำกันจะถูกแทนที่ด้วยจำนวนเต็มที่เรียบง่าย (และประหยัดหน่วยความจำ) ซึ่งเราเรียกว่า **`graph_id`**"
   ]
  },
  {
   "cell_type": "code",
   "execution_count": null,
   "metadata": {},
   "outputs": [],
   "source": [
    "road_graph = cudf.read_csv('./data/road_graph.csv', dtype=['int32', 'int32', 'float32'])\n",
    "road_graph.head()"
   ]
  },
  {
   "cell_type": "markdown",
   "metadata": {},
   "source": [
    "ต่อไป เราจะโหลดข้อมูลที่พร้อมสำหรับสร้างกราฟ ซึ่งคุณได้เตรียมไว้แล้ว โดยข้อมูลนี้จะใช้ ระยะเวลาที่ใช้ในการเดินทาง เป็น ค่าน้ำหนัก (edge weight) ของเส้นเชื่อม (edge) ในกราฟ"
   ]
  },
  {
   "cell_type": "code",
   "execution_count": null,
   "metadata": {},
   "outputs": [],
   "source": [
    "speed_graph = cudf.read_csv('./data/road_graph_speed.csv', dtype=['int32', 'int32', 'float32'])\n",
    "speed_graph.head()"
   ]
  },
  {
   "cell_type": "markdown",
   "metadata": {},
   "source": [
    "สุดท้ายนี้ เราจะนำเข้าชุดข้อมูล `road_nodes` ทั้งหมด ซึ่งจะนำไปใช้ในการแสดงผลด้านล่าง\n"
   ]
  },
  {
   "cell_type": "code",
   "execution_count": null,
   "metadata": {},
   "outputs": [],
   "source": [
    "road_nodes = cudf.read_csv('./data/road_nodes.csv', dtype=['str', 'float32', 'float32', 'str'])\n",
    "road_nodes = road_nodes.drop_duplicates() # again, some road nodes appeared on multiple map tiles in the original source\n",
    "road_nodes.head()"
   ]
  },
  {
   "cell_type": "code",
   "execution_count": null,
   "metadata": {},
   "outputs": [],
   "source": [
    "road_nodes.shape"
   ]
  },
  {
   "cell_type": "code",
   "execution_count": null,
   "metadata": {},
   "outputs": [],
   "source": [
    "speed_graph.src.max()"
   ]
  },
  {
   "cell_type": "markdown",
   "metadata": {},
   "source": [
    "## Construct Graph with cuGraph ##"
   ]
  },
  {
   "cell_type": "markdown",
   "metadata": {},
   "source": [
    "เมื่อเราเตรียมข้อมูล `road_graph` เรียบร้อยแล้ว เราจะส่งข้อมูลนี้ไปยัง cuGraph เพื่อสร้าง **โครงสร้างข้อมูลกราฟ (graph data structure)** ซึ่งเราสามารถนำไปใช้ในการวิเคราะห์ที่รวดเร็วได้ ในการดำเนินการดังกล่าว ขั้นแรกเราจะใช้ cuGraph เพื่อสร้าง **อินสแตนซ์ (instance)** ของ `Graph` ขึ้นมา จากนั้นจึงส่งค่า **ต้นทางของเส้นเชื่อม (edge sources)**, **ปลายทางของเส้นเชื่อม (edge destinations)** และ **น้ำหนักของเส้นเชื่อม (edge weights)** ซึ่งปัจจุบันคือน้ำหนักของถนน ไปยังอินสแตนซ์นั้น\n"
   ]
  },
  {
   "cell_type": "code",
   "execution_count": null,
   "metadata": {},
   "outputs": [],
   "source": [
    "G = cg.Graph()\n",
    "%time G.from_cudf_edgelist(road_graph, source='src', destination='dst', edge_attr='length')"
   ]
  },
  {
   "cell_type": "markdown",
   "metadata": {},
   "source": [
    "## Analyzing the Graph ##"
   ]
  },
  {
   "cell_type": "markdown",
   "metadata": {},
   "source": [
    "ขั้นแรก เราจะตรวจสอบจำนวน **โหนด (nodes)** และ **เส้นเชื่อม (edges)** ในกราฟของเรา:"
   ]
  },
  {
   "cell_type": "code",
   "execution_count": null,
   "metadata": {},
   "outputs": [],
   "source": [
    "G.number_of_nodes()"
   ]
  },
  {
   "cell_type": "code",
   "execution_count": null,
   "metadata": {},
   "outputs": [],
   "source": [
    "G.number_of_edges()"
   ]
  },
  {
   "cell_type": "markdown",
   "metadata": {},
   "source": [
    "เราสามารถวิเคราะห์ **ดีกรี (degrees)** ของโหนดในกราฟของเราได้ด้วย เช่นเคย เราคาดว่าทุกโหนดจะมีดีกรี 2 หรือสูงกว่า เนื่องจากเส้นเชื่อมแบบไม่มีทิศทาง (undirected edges) จะนับเป็นสองเส้นเชื่อม (หนึ่งเข้า, หนึ่งออก) สำหรับแต่ละโหนดที่เชื่อมต่อ"
   ]
  },
  {
   "cell_type": "code",
   "execution_count": null,
   "metadata": {},
   "outputs": [],
   "source": [
    "deg_df = G.degree()\n",
    "deg_df['degree'].describe()[1:]"
   ]
  },
  {
   "cell_type": "markdown",
   "metadata": {},
   "source": [
    "เราคาดหวังว่าทุก ดีกรี (degree) จะต้องเป็น พหุคูณของ 2 ด้วยเหตุผลเดียวกัน เราจะตรวจสอบว่าไม่มีโหนดใดที่มี ดีกรีเป็นเลขคี่ (odd degrees) (นั่นคือ ดีกรีที่มีค่าเป็น 1 เมื่อหารด้วย 2)"
   ]
  },
  {
   "cell_type": "code",
   "execution_count": null,
   "metadata": {},
   "outputs": [],
   "source": [
    "deg_df[deg_df['degree'].mod(2) == 1]"
   ]
  },
  {
   "cell_type": "markdown",
   "metadata": {},
   "source": [
    "สังเกตเพื่อเป็นข้อมูลอ้างอิงว่าถนนบางสายวนจากจุดหนึ่งกลับมาที่จุดเดิม"
   ]
  },
  {
   "cell_type": "code",
   "execution_count": null,
   "metadata": {},
   "outputs": [],
   "source": [
    "road_graph.loc[road_graph.src == road_graph.dst]"
   ]
  },
  {
   "cell_type": "markdown",
   "metadata": {},
   "source": [
    "## Single Source Shortest Path ##"
   ]
  },
  {
   "cell_type": "markdown",
   "metadata": {},
   "source": [
    "เพื่อสาธิตอัลกอริทึม **Single Source Shortest Path (SSSP)** เราจะเริ่มต้นที่โหนดที่มี **ระดับสูงสุด (highest degree)** ก่อนอื่น เราจะดึงค่า `graph_id` ของโหนดนั้น ซึ่งถูกรายงานโดยเมธอด `degree` ในชื่อ `vertex`"
   ]
  },
  {
   "cell_type": "code",
   "execution_count": null,
   "metadata": {},
   "outputs": [],
   "source": [
    "demo_node = deg_df.nlargest(1, 'degree')\n",
    "demo_node_graph_id = demo_node['vertex'].iloc[0]\n",
    "demo_node_graph_id"
   ]
  },
  {
   "cell_type": "markdown",
   "metadata": {},
   "source": [
    "ตอนนี้เราสามารถเรียกใช้ `cg.sssp` ได้ โดยส่งกราฟ `G` ทั้งหมด และ `graph_id` สำหรับจุดยอดที่เราเลือกเข้าไป การทำเช่นนี้จะคำนวณ **เส้นทางที่สั้นที่สุด** โดยใช้น้ำหนักความยาวถนนที่เราให้ไว้ ไปยัง **ทุกๆ โหนดอื่นในกราฟ** — เส้นทางนับล้านเส้นทาง จะคำนวณเสร็จสิ้นภายในไม่กี่วินาที"
   ]
  },
  {
   "cell_type": "code",
   "execution_count": null,
   "metadata": {},
   "outputs": [],
   "source": [
    "%time shortest_distances_from_demo_node = cg.sssp(G, demo_node_graph_id)\n",
    "shortest_distances_from_demo_node.head()"
   ]
  },
  {
   "cell_type": "code",
   "execution_count": null,
   "metadata": {},
   "outputs": [],
   "source": [
    "# Limiting to those nodes that were connected (within ~4.3 billion meters because\n",
    "# cg.sssp uses the max int value for unreachable nodes, such as those on different islands)\n",
    "shortest_distances_from_demo_node['distance'].loc[shortest_distances_from_demo_node['distance'] < 2**32].describe()[1:]"
   ]
  },
  {
   "cell_type": "markdown",
   "metadata": {},
   "source": [
    "## Analyze a Graph with Time Weights ##"
   ]
  },
  {
   "cell_type": "markdown",
   "metadata": {},
   "source": [
    "สำหรับการฝึกฝนนี้ คุณจะวิเคราะห์กราฟถนนของสหราชอาณาจักร (GB) แต่คราวนี้ แทนที่จะใช้ระยะทางดิบเป็นน้ำหนักของถนน คุณจะใช้ **ระยะเวลาที่ใช้ในการเดินทาง** ไปตามถนนนั้นๆ"
   ]
  },
  {
   "cell_type": "markdown",
   "metadata": {},
   "source": [
    "### Exercise #1 - Step 1: Construct the Graph ###"
   ]
  },
  {
   "cell_type": "markdown",
   "metadata": {},
   "source": [
    "สร้างกราฟ cuGraph ชื่อ **G_ex** โดยใช้แหล่งที่มา (sources) และปลายทาง (destinations) ที่พบใน `speed_graph` พร้อมกับค่าความยาวเป็นวินาทีสำหรับน้ำหนัก (weights) ของเส้นเชื่อม (edges)"
   ]
  },
  {
   "cell_type": "code",
   "execution_count": null,
   "metadata": {},
   "outputs": [],
   "source": []
  },
  {
   "cell_type": "raw",
   "metadata": {
    "jupyter": {
     "source_hidden": true
    }
   },
   "source": [
    "G_ex = cg.Graph()\n",
    "G_ex.from_cudf_edgelist(speed_graph, source='src', destination='dst', edge_attr='length_s')\n"
   ]
  },
  {
   "cell_type": "markdown",
   "metadata": {},
   "source": [
    "Click ... for solution. "
   ]
  },
  {
   "cell_type": "markdown",
   "metadata": {},
   "source": [
    "### Exercise #2 - Step 2: Get Travel Times From a Node to All Others ###"
   ]
  },
  {
   "cell_type": "markdown",
   "metadata": {},
   "source": [
    "เลือก **node (จุดเชื่อม)** ใดจุดหนึ่ง แล้วคำนวณเวลาที่ใช้ในการเดินทางจากจุดนั้นไปยัง node อื่นๆ ทั้งหมดด้วยวิธี **SSSP (Shortest Single-Source Path)** โดยตั้งชื่อผลลัพธ์ว่า `ex_dist`"
   ]
  },
  {
   "cell_type": "code",
   "execution_count": null,
   "metadata": {},
   "outputs": [],
   "source": []
  },
  {
   "cell_type": "raw",
   "metadata": {
    "jupyter": {
     "source_hidden": true
    }
   },
   "source": [
    "# If you have time, see what the SSSP visualization looks like starting from nodes at different extreme coordinates,\n",
    "# or one of the end nodes of an especially long edge, or even one of the nodes unreachable from the main road network.\n",
    "ex_deg = G_ex.degree()\n",
    "ex_node = ex_deg.nlargest(1, 'degree')\n",
    "\n",
    "%time ex_dist = cg.sssp(G_ex, ex_node['vertex'].iloc[0])\n",
    "\n",
    "# limiting to those nodes that were connected (within ~4.3 billion seconds; .sssp uses the max int value for unconnected nodes)\n",
    "ex_dist['distance'].loc[ex_dist['distance'] < 2**32].describe()[1:]\n"
   ]
  },
  {
   "cell_type": "markdown",
   "metadata": {},
   "source": [
    "Click ... for solution. "
   ]
  },
  {
   "cell_type": "markdown",
   "metadata": {},
   "source": [
    "### Visualize the Node Travel Times ###"
   ]
  },
  {
   "cell_type": "markdown",
   "metadata": {},
   "source": [
    "เพื่อสร้างกราฟแสดงเครือข่ายถนนโดยใช้เวลาเดินทางจากโหนดที่เลือก ขั้นแรกเราต้องจัดเรียงระยะทางที่คำนวณได้เมื่อสักครู่นี้ให้ตรงกับโหนดดั้งเดิมของมัน ในการทำเช่นนั้น เราจะใช้การแมปจากสตริง **`node_id`** ไปยังจำนวนเต็ม **`graph_id`** ของพวกมัน"
   ]
  },
  {
   "cell_type": "code",
   "execution_count": null,
   "metadata": {},
   "outputs": [],
   "source": [
    "mapping = cudf.read_csv('./data/node_graph_map.csv')\n",
    "mapping.head()"
   ]
  },
  {
   "cell_type": "markdown",
   "metadata": {},
   "source": [
    "เราจะเห็นว่าอัลกอริทึม `sssp` ได้นำ **`graph_id`** ไปใส่ไว้ในคอลัมน์ **`vertex`** ดังนั้นเราจะทำการ **รวม (merge)** ข้อมูลโดยใช้คอลัมน์นั้น"
   ]
  },
  {
   "cell_type": "code",
   "execution_count": null,
   "metadata": {},
   "outputs": [],
   "source": [
    "ex_dist.head()"
   ]
  },
  {
   "cell_type": "code",
   "execution_count": null,
   "metadata": {},
   "outputs": [],
   "source": [
    "road_nodes = road_nodes.merge(mapping, on='node_id')\n",
    "road_nodes = road_nodes.merge(ex_dist, left_on='graph_id', right_on='vertex')\n",
    "road_nodes.head()"
   ]
  },
  {
   "cell_type": "markdown",
   "metadata": {},
   "source": [
    "ต่อไป เราจะเลือกคอลัมน์ที่เราจะใช้สำหรับการแสดงผลข้อมูล (visualization)\n",
    "\n",
    "สำหรับวัตถุประสงค์ในการปรับสเกลสี (color-scaling) เราจะกำจัด **โหนดที่ไม่สามารถเข้าถึงได้ (unreachable nodes)** ซึ่งมีค่าระยะทางที่สูงมาก และเราจะ **กลับค่าตัวเลขระยะทาง (invert the distance numbers)** เพื่อให้พิกเซลที่สว่างกว่าบ่งบอกถึงตำแหน่งที่ใกล้กว่า"
   ]
  },
  {
   "cell_type": "code",
   "execution_count": null,
   "metadata": {},
   "outputs": [],
   "source": [
    "gdf = road_nodes[['east', 'north', 'distance']]\n",
    "gdf = gdf[gdf['distance'] < 2**32]\n",
    "gdf['distance'] = gdf['distance'].pow(1/2).mul(-1)"
   ]
  },
  {
   "cell_type": "markdown",
   "metadata": {},
   "source": [
    "นอกเหนือจากนี้ การแสดงผลข้อมูลนี้จะคล้ายคลึงกับ **แผนภาพการกระจาย (scatter plots)** ที่เราสร้างขึ้นเพื่อแสดงภาพรวมของจำนวนประชากร แต่แทนที่จะระบายสีตามความหนาแน่นของจุด (point density) เหมือนในกรณีเหล่านั้น เราจะระบายสีตาม **เวลาเดินทางเฉลี่ย (mean travel time)** ไปยังโหนดต่างๆ ภายในพิกเซลนั้นๆ"
   ]
  },
  {
   "cell_type": "code",
   "execution_count": null,
   "metadata": {},
   "outputs": [],
   "source": [
    "cxf_data = cxf.DataFrame.from_dataframe(gdf)"
   ]
  },
  {
   "cell_type": "code",
   "execution_count": null,
   "metadata": {},
   "outputs": [],
   "source": [
    "heatmap_chart = cxf.charts.datashader.scatter(x='east', y='north', \n",
    "                                              # color_palette=Plasma256, # try also Turbo256, Viridis256, Magma, Plasma256\n",
    "                                              # pixel_shade_type='linear', # can also be log, cbrt, linear\n",
    "                                              aggregate_col='distance',\n",
    "                                              aggregate_fn='mean',\n",
    "                                              # point_shape='square',\n",
    "                                              point_size=1)"
   ]
  },
  {
   "cell_type": "code",
   "execution_count": null,
   "metadata": {},
   "outputs": [],
   "source": [
    "dash = cxf_data.dashboard([heatmap_chart], theme=cxf.themes.dark, data_size_widget=True)\n",
    "\n",
    "dash.app()"
   ]
  },
  {
   "cell_type": "code",
   "execution_count": null,
   "metadata": {},
   "outputs": [],
   "source": [
    "import IPython\n",
    "app = IPython.Application.instance()\n",
    "app.kernel.do_shutdown(True)"
   ]
  },
  {
   "cell_type": "markdown",
   "metadata": {},
   "source": [
    "**เยี่ยมมาก!** ไปยัง [สมุดบันทึกถัดไป](2-04_networkx_cugraph.ipynb) กันเลย"
   ]
  },
  {
   "cell_type": "markdown",
   "metadata": {
    "tags": []
   },
   "source": [
    "<img src=\"images/nvidia_header.png\" style=\"margin-left: -30px; width: 300px; float: left;\">"
   ]
  }
 ],
 "metadata": {
  "kernelspec": {
   "display_name": "Python 3 (ipykernel)",
   "language": "python",
   "name": "python3"
  },
  "language_info": {
   "codemirror_mode": {
    "name": "ipython",
    "version": 3
   },
   "file_extension": ".py",
   "mimetype": "text/x-python",
   "name": "python",
   "nbconvert_exporter": "python",
   "pygments_lexer": "ipython3",
   "version": "3.10.15"
  }
 },
 "nbformat": 4,
 "nbformat_minor": 4
}
