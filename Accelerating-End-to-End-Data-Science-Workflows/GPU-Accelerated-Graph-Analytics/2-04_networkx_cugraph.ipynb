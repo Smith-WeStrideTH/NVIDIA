{
 "cells": [
  {
   "cell_type": "markdown",
   "id": "8a2c4abf-6278-4edd-83f8-f0afac4c834f",
   "metadata": {},
   "source": [
    "# Accelerating End-to-End Data Science Workflows # "
   ]
  },
  {
   "cell_type": "markdown",
   "id": "e1e78ef4-c0de-433e-8616-bd946f69d30e",
   "metadata": {},
   "source": [
    "## 04 - cuGraph ในฐานะแบ็คเอนด์ของ NetworkX  ##\n",
    "**cuGraph as a NetworkX backend**"
   ]
  },
  {
   "cell_type": "markdown",
   "id": "0828e0b4-7935-4b77-95ef-e06b72f0319e",
   "metadata": {},
   "source": [
    "**สารบัญ**\n",
    "<br>\n",
    "สมุดบันทึก (notebook) นี้จะแนะนำวิธีการใช้งาน cuGraph backend สำหรับ NetworkX และรันอัลกอริทึม centrality กับชุดข้อมูล สมุดบันทึกนี้ครอบคลุมส่วนต่างๆ ดังนี้:\n",
    "1. [ความเป็นมา](#Background)\n",
    "2. [การติดตั้ง](#Installation)\n",
    "3. [การใช้งาน nx-cugraph](#Utilizing-nx-cugraph)\n",
    "    * [ตัวแปรสภาพแวดล้อมรันไทม์ (Runtime Environment Variable)](#Runtime-Environment-Variable)\n",
    "    * [อาร์กิวเมนต์คีย์เวิร์ด Backend (Backend Keyword Argument)](#Backend-Keyword-Argument)\n",
    "    * [การจัดส่งตามประเภท (Type-Based Dispatching)](#Type-Based-Dispatching)\n",
    "4. [การคำนวณ Centrality](#Computing-Centrality)\n",
    "    * [การสร้างกราฟ (Creating Graph)](#Creating-Graph)\n",
    "    * [การรันอัลกอริทึม Centrality (Running Centrality Algorithms)](#Running-Centrality-Algorithms)\n",
    "    * [Betweenness Centrality](#Betweenness-Centrality)\n",
    "    * [Degree Centrality](#Degree-Centrality)\n",
    "    * [Katz Centrality](#Katz-Centrality)\n",
    "    * [Pagerank Centrality](#Pagerank-Centrality)\n",
    "    * [Eigenvector Centrality](#Eigenvector-Centrality)\n",
    "    * [การแสดงผลลัพธ์ (Visualize Results)](#Visualize-Results)\n",
    "    * [แบบฝึกหัด #1 - การจัดส่งตามประเภท (Type Dispatch)](#Exercise-#1---Type-Dispatch)"
   ]
  },
  {
   "cell_type": "markdown",
   "id": "c57b79ba-c7c7-49d2-9e21-c388bbe6ca98",
   "metadata": {},
   "source": [
    "## ความเป็นมา ##\n",
    "RAPIDS เพิ่งเปิดตัวแบ็กเอนด์ใหม่สำหรับ NetworkX ที่เรียกว่า **nx-cugraph** ด้วยแบ็กเอนด์นี้ คุณสามารถเร่งความเร็วอัลกอริทึมที่รองรับได้โดยอัตโนมัติ ในหน้านี้ (notebook) เราจะกล่าวถึงวิธีการต่างๆ ในการเปิดใช้งานแบ็กเอนด์ cugraph และใช้แบ็กเอนด์นี้เพื่อเรียกใช้อัลกอริทึม centrality ที่แตกต่างกัน"
   ]
  },
  {
   "cell_type": "markdown",
   "id": "697ea4c9-b416-43d5-9d2c-28aa41ef2561",
   "metadata": {},
   "source": [
    "## การติดตั้ง ##\n",
    "เราได้เตรียมสภาพแวดล้อมโดยติดตั้ง **nx-cugraph** ไว้เรียบร้อยแล้ว หากคุณใช้งานในสภาพแวดล้อมของคุณเอง คำสั่งสำหรับติดตั้งจะอยู่ด้านล่างนี้"
   ]
  },
  {
   "cell_type": "code",
   "execution_count": null,
   "id": "225af099",
   "metadata": {
    "vscode": {
     "languageId": "plaintext"
    }
   },
   "outputs": [],
   "source": [
    "from google.colab import drive\n",
    "drive.mount('/content/drive')"
   ]
  },
  {
   "cell_type": "raw",
   "id": "2fe07200-4f66-4604-9950-40ade1938f4c",
   "metadata": {},
   "source": [
    "pip install nx-cugraph-cu12 --no-deps --extra-index-url https://pypi.anaconda.org/rapidsai-wheels-nightly/simple"
   ]
  },
  {
   "cell_type": "markdown",
   "id": "a9ea09f4-6c93-4785-bcc3-44c6f040dfc6",
   "metadata": {},
   "source": [
    "## การใช้งาน nx-cugraph ##\n",
    "มี 3 วิธีในการใช้งาน nx-cugraph:\n",
    "\n",
    "1.  **Environment Variable at Runtime**\n",
    "2.  **Backend keyword argument**\n",
    "3.  **Type-Based dispatching**\n",
    "\n",
    "เรามาเจาะลึกแต่ละวิธีกันเลย\n"
   ]
  },
  {
   "cell_type": "markdown",
   "id": "8b4322fd-9f56-4cbc-a00c-8fac4b2b2fe1",
   "metadata": {},
   "source": [
    "### ตัวแปรสภาพแวดล้อมรันไทม์ ###\n",
    "สามารถใช้ตัวแปรสภาพแวดล้อม `NETWORKX_AUTOMATIC_BACKENDS` เพื่อให้ NetworkX เลือกใช้แบ็กเอนด์ที่ระบุโดยอัตโนมัติได้ ตั้งค่า `NETWORKX_AUTOMATIC_BACKENDS=cugraph` เพื่อใช้ `nx-cugraph` ในการเร่งความเร็ว API ที่รองรับด้วย GPU โดยไม่ต้องแก้ไขโค้ด เราจะโหลดโมดูล cuDF pandas เพื่อช่วยเร่งความเร็วในการโหลดไฟล์ CSV ด้วย"
   ]
  },
  {
   "cell_type": "code",
   "execution_count": null,
   "id": "b41fef7f-5d43-4481-98a7-d9f3cb54066c",
   "metadata": {},
   "outputs": [],
   "source": [
    "!NETWORKX_AUTOMATIC_BACKENDS=cugraph python -m cudf.pandas scripts/networkx.py"
   ]
  },
  {
   "cell_type": "markdown",
   "id": "5ffb6c4b-a03a-4bfb-9b92-14c59e6dcd75",
   "metadata": {},
   "source": [
    "### อาร์กิวเมนต์คีย์เวิร์ด Backend ###\n",
    "NetworkX ยังรองรับการระบุ **backend (แบ็กเอนด์)** ที่เฉพาะเจาะจงสำหรับ API ที่รองรับด้วยอาร์กิวเมนต์ **`backend=`** อาร์กิวเมนต์นี้จะมีลำดับความสำคัญเหนือกว่าตัวแปรสภาพแวดล้อม `NETWORKX_AUTOMATIC_BACKENDS` วิธีนี้ยังกำหนดให้แบ็กเอนด์ที่ระบุต้องติดตั้งไว้แล้วด้วย"
   ]
  },
  {
   "cell_type": "code",
   "execution_count": null,
   "id": "8183ecc7-8544-4914-8c07-c904ba12225a",
   "metadata": {},
   "outputs": [],
   "source": [
    "import warnings\n",
    "warnings.filterwarnings('ignore')\n",
    "\n",
    "%load_ext cudf.pandas\n",
    "import networkx as nx\n",
    "import pandas as pd\n",
    "import matplotlib.pyplot as plt\n",
    "\n",
    "# Load the CSV file\n",
    "road_graph = pd.read_csv('./data/road_graph.csv', dtype=['int32', 'int32', 'float32'], nrows=1000)\n",
    "\n",
    "# Create an empty graph\n",
    "G = nx.from_pandas_edgelist(road_graph, source='src', target='dst', edge_attr='length')\n",
    "b = nx.betweenness_centrality(G, k=1000, backend=\"cugraph\")"
   ]
  },
  {
   "cell_type": "markdown",
   "id": "e588aa65-6281-4c19-a51c-42f044636ac0",
   "metadata": {},
   "source": [
    "### การจัดส่งตามประเภท (Type-Based Dispatching) ###\n",
    "สำหรับผู้ใช้ที่ต้องการให้แน่ใจว่าการทำงานเป็นไปตามที่ต้องการ โดยไม่มีการแปลงประเภทข้อมูลในขณะรันไทม์ (runtime conversions) นั้น **NetworkX มีการเลือกฟังก์ชันตามประเภท (type-based dispatching)** เพื่อใช้งานวิธีนี้ ผู้ใช้จะต้องนำเข้า (import) แบ็กเอนด์ (backend) ที่ต้องการ และสร้างอินสแตนซ์ของกราฟ (Graph instance) สำหรับแบ็กเอนด์นั้น"
   ]
  },
  {
   "cell_type": "code",
   "execution_count": null,
   "id": "5fea9300-8d75-443a-9ec0-ee65c8ccaf0f",
   "metadata": {},
   "outputs": [],
   "source": [
    "import networkx as nx\n",
    "import nx_cugraph as nxcg\n",
    "\n",
    "# Loading data from previous cell\n",
    "G = nx.from_pandas_edgelist(road_graph, source='src', target='dst', edge_attr='length') \n",
    "\n",
    "nxcg_G = nxcg.from_networkx(G)             # conversion happens once here\n",
    "b = nx.betweenness_centrality(nxcg_G, k=1000)  # nxcg Graph type causes cugraph backend to be used, no conversion necessary"
   ]
  },
  {
   "cell_type": "markdown",
   "id": "cb5a17e1-d886-4d20-8d4b-ce900280279c",
   "metadata": {},
   "source": [
    "## การคำนวณ Centrality ##\n",
    "ตอนนี้เราได้เรียนรู้วิธีการเปิดใช้งาน nx-cugraph แล้ว มาลองใช้มันในเวิร์กโฟลว์กันเถอะ! เราจะใช้ `backend` argument สำหรับตัวอย่างนี้ ขั้นแรก มาสร้างกราฟกันก่อน"
   ]
  },
  {
   "cell_type": "markdown",
   "id": "19bea37c-bccf-4815-81bd-aa1de553812d",
   "metadata": {},
   "source": [
    "### การสร้างกราฟ (Creating Graph) ###"
   ]
  },
  {
   "cell_type": "code",
   "execution_count": null,
   "id": "2b4420d7-7c89-4914-809f-4e323a12f47f",
   "metadata": {},
   "outputs": [],
   "source": [
    "# Create a graph from already loaded dataframe\n",
    "G = nx.from_pandas_edgelist(road_graph, source='src', target='dst', edge_attr='length')"
   ]
  },
  {
   "cell_type": "markdown",
   "id": "7dc1ad5b-8454-4277-9568-0cdacbebd9f1",
   "metadata": {},
   "source": [
    "### การรันอัลกอริทึม Centrality ###\n",
    "ตอนนี้ เรามาลองรันอัลกอริทึม centrality ต่างๆ กันเลย!"
   ]
  },
  {
   "cell_type": "markdown",
   "id": "1c52b7b3-6c23-45be-9ace-34a667f132aa",
   "metadata": {},
   "source": [
    "### Betweenness Centrality ###\n",
    "เป็นการหาปริมาณจำนวนครั้งที่ **จุดเชื่อม (node)** ทำหน้าที่เป็น **สะพาน (bridge)** บนเส้นทางที่สั้นที่สุดระหว่างจุดเชื่อมอื่นสองจุด ซึ่งจะเน้นย้ำถึงความสำคัญของจุดเชื่อมนั้นในการไหลของข้อมูล"
   ]
  },
  {
   "cell_type": "code",
   "execution_count": null,
   "id": "281374af-c7cf-4592-a34d-796c1158dab6",
   "metadata": {},
   "outputs": [],
   "source": [
    "b = nx.betweenness_centrality(G, backend=\"cugraph\")"
   ]
  },
  {
   "cell_type": "markdown",
   "id": "f98b2975-1f72-4bff-83c7-ace7aab65d98",
   "metadata": {},
   "source": [
    "### Degree Centrality ###\n",
    "วัดจำนวนการเชื่อมต่อโดยตรงที่ **จุดเชื่อม (node)** หนึ่งๆ มี ซึ่งบ่งชี้ว่าจุดนั้นมีการเชื่อมโยงที่ดีเพียงใดภายในเครือข่าย"
   ]
  },
  {
   "cell_type": "code",
   "execution_count": null,
   "id": "3e0c4460-6d25-4a2b-8b8f-8f8c6ef617b0",
   "metadata": {},
   "outputs": [],
   "source": [
    "d = nx.degree_centrality(G, backend=\"cugraph\")"
   ]
  },
  {
   "cell_type": "markdown",
   "id": "0665a659-16b1-48b4-b3bb-9aa5659ef91c",
   "metadata": {},
   "source": [
    "### Katz Centrality ###\n",
    "เป็นการวัด **ความเป็นศูนย์กลาง (centrality)** ของจุดเชื่อม (node) โดยพิจารณาจาก **อิทธิพลโดยรวม (global influence)** ในเครือข่าย ทั้งการเชื่อมต่อโดยตรงและโดยอ้อม"
   ]
  },
  {
   "cell_type": "code",
   "execution_count": null,
   "id": "8ce418d2-9eda-40bc-9733-b82d8d7556b1",
   "metadata": {},
   "outputs": [],
   "source": [
    "k = nx.katz_centrality(G, backend=\"cugraph\")"
   ]
  },
  {
   "cell_type": "markdown",
   "id": "0712cedb-87ba-4a08-a74d-24997d02a636",
   "metadata": {},
   "source": [
    "### Pagerank Centrality ###\n",
    "พิจารณาความสำคัญของ **โหนด (node)** โดยอิงตามปริมาณและคุณภาพของลิงก์ที่เชื่อมโยงมายังโหนดนั้น คล้ายคลึงกับอัลกอริทึม PageRank ดั้งเดิมของ Google"
   ]
  },
  {
   "cell_type": "code",
   "execution_count": null,
   "id": "a17ee15b-8758-484b-82b9-a158187231c5",
   "metadata": {},
   "outputs": [],
   "source": [
    "p = nx.pagerank(G, max_iter=10, tol=1.0e-3, backend=\"cugraph\")"
   ]
  },
  {
   "cell_type": "markdown",
   "id": "c5f57a5e-95e4-47f7-a9ec-04a99fa2c1dc",
   "metadata": {},
   "source": [
    "### Eigenvector Centrality ###\n",
    "ให้คะแนน **จุดเชื่อม (nodes)** โดยยึดหลักว่า การเชื่อมต่อกับ **จุดเชื่อมที่ได้คะแนนสูง (high-scoring nodes)** จะมีส่วนช่วยเพิ่มคะแนนของจุดเชื่อมนั้นๆ ได้มากกว่าการเชื่อมต่อกับ **จุดเชื่อมที่ได้คะแนนต่ำ (low-scoring nodes)**"
   ]
  },
  {
   "cell_type": "code",
   "execution_count": null,
   "id": "3eb1e358-ae8e-4399-bf45-90616b663e9d",
   "metadata": {},
   "outputs": [],
   "source": [
    "e = nx.eigenvector_centrality(G, max_iter=1000, tol=1.0e-3, backend=\"cugraph\")"
   ]
  },
  {
   "cell_type": "markdown",
   "id": "0bc9178c-e66a-4c75-bf91-0c5d668b5634",
   "metadata": {},
   "source": [
    "### การแสดงผลลัพธ์ ###\n",
    "ตอนนี้เรามาลองดูผลลัพธ์กัน! เราจะแสดงแค่ 5 แถวแรกเพื่อให้ง่ายต่อการอ่าน"
   ]
  },
  {
   "cell_type": "code",
   "execution_count": null,
   "id": "69b6c23d-78a0-4dbb-be19-913ad180fe94",
   "metadata": {},
   "outputs": [],
   "source": [
    "from IPython.display import display_html\n",
    "dc_top = pd.DataFrame(sorted(d.items(), key=lambda x:x[1], reverse=True)[:5], columns=[\"vertex\", \"degree_centrality\"])\n",
    "bc_top = pd.DataFrame(sorted(b.items(), key=lambda x:x[1], reverse=True)[:5], columns=[\"vertex\", \"betweenness_centrality\"])\n",
    "katz_top = pd.DataFrame(sorted(k.items(), key=lambda x:x[1], reverse=True)[:5], columns=[\"vertex\", \"katz_centrality\"])\n",
    "pr_top = pd.DataFrame(sorted(p.items(), key=lambda x:x[1], reverse=True)[:5], columns=[\"vertex\", \"pagerank\"])\n",
    "ev_top = pd.DataFrame(sorted(e.items(), key=lambda x:x[1], reverse=True)[:5], columns=[\"vertex\", \"eigenvector_centrality\"])\n",
    "\n",
    "df1_styler = dc_top.style.set_table_attributes(\"style='display:inline'\").set_caption('Degree').hide(axis='index')\n",
    "df2_styler = bc_top.style.set_table_attributes(\"style='display:inline'\").set_caption('Betweenness').hide(axis='index')\n",
    "df3_styler = katz_top.style.set_table_attributes(\"style='display:inline'\").set_caption('Katz').hide(axis='index')\n",
    "df4_styler = pr_top.style.set_table_attributes(\"style='display:inline'\").set_caption('PageRank').hide(axis='index')\n",
    "df5_styler = ev_top.style.set_table_attributes(\"style='display:inline'\").set_caption('EigenVector').hide(axis='index')\n",
    "\n",
    "display_html(df1_styler._repr_html_()+df2_styler._repr_html_()+df3_styler._repr_html_()+df4_styler._repr_html_()+df5_styler._repr_html_(), raw=True)"
   ]
  },
  {
   "cell_type": "markdown",
   "id": "1a653ca9-9448-4ba5-85b2-f6c885c273a9",
   "metadata": {},
   "source": [
    "### แบบฝึกหัด #1 - การจัดส่งตามประเภท (Type Dispatch) ###\n",
    "ใช้ **type dispatching method** เพื่อให้ได้ผลลัพธ์ **Pagerank centrality** โดยใช้ **cugraph backend**"
   ]
  },
  {
   "cell_type": "code",
   "execution_count": null,
   "id": "6eb90078-1479-4847-97b7-eb119e9d5478",
   "metadata": {},
   "outputs": [],
   "source": []
  },
  {
   "cell_type": "raw",
   "id": "1953ff67-91b5-4edc-b9fa-beb25d023c51",
   "metadata": {
    "jupyter": {
     "source_hidden": true
    }
   },
   "source": [
    "import networkx as nx\n",
    "import nx_cugraph as nxcg\n",
    "\n",
    "# Loading data from previous cell\n",
    "G = nx.from_pandas_edgelist(road_graph, source='src', target='dst', edge_attr='length') \n",
    "\n",
    "nxcg_G = nxcg.from_networkx(G)             # conversion happens once here\n",
    "p = nx.pagerank(nxcg_G, max_iter=10, tol=1.0e-3) # nxcg Graph type causes cugraph backend to be used, no conversion necessary\n",
    "\n",
    "pd.DataFrame(sorted(p.items(), key=lambda x:x[1], reverse=True)[:5], columns=[\"vertex\", \"pagerank\"])"
   ]
  },
  {
   "cell_type": "markdown",
   "id": "bcdee8d8-c8e0-4521-b7ec-1f85f014e3ca",
   "metadata": {},
   "source": [
    "Click ... for solution. "
   ]
  },
  {
   "cell_type": "code",
   "execution_count": null,
   "id": "d70c78b7-551d-4d9e-b428-32b26adcd3c4",
   "metadata": {},
   "outputs": [],
   "source": [
    "import IPython\n",
    "app = IPython.Application.instance()\n",
    "app.kernel.do_shutdown(True)"
   ]
  },
  {
   "cell_type": "markdown",
   "id": "2279fdf1-82c0-4c6e-ac8e-b952f4777562",
   "metadata": {},
   "source": [
    "**เยี่ยมมาก!**"
   ]
  }
 ],
 "metadata": {
  "kernelspec": {
   "display_name": "Python 3 (ipykernel)",
   "language": "python",
   "name": "python3"
  },
  "language_info": {
   "codemirror_mode": {
    "name": "ipython",
    "version": 3
   },
   "file_extension": ".py",
   "mimetype": "text/x-python",
   "name": "python",
   "nbconvert_exporter": "python",
   "pygments_lexer": "ipython3",
   "version": "3.10.15"
  }
 },
 "nbformat": 4,
 "nbformat_minor": 5
}
