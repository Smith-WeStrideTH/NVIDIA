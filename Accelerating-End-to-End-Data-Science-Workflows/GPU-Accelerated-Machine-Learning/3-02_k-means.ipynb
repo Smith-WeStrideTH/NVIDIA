{
 "cells": [
  {
   "cell_type": "markdown",
   "metadata": {},
   "source": [
    "# Accelerating End-to-End Data Science Workflows # "
   ]
  },
  {
   "cell_type": "markdown",
   "metadata": {},
   "source": [
    "## 02 - K-Means ##\n",
    "\n",
    "**สารบัญ**\n",
    "<br>\n",
    "สมุดบันทึก (notebook) นี้จะใช้ K-means ที่ประมวลผลด้วย GPU เพื่อค้นหาตำแหน่งที่ดีที่สุดสำหรับคลังเก็บเสบียงช่วยเหลือทางอากาศ (humanitarian supply airdrop depots) ที่มีจำนวนจำกัด สมุดบันทึกนี้ครอบคลุมส่วนต่างๆ ดังนี้:\n",
    "1. [สภาพแวดล้อม (Environment)](#Environment)\n",
    "2. [โหลดข้อมูล (Load Data)](#Load-Data)\n",
    "3. [การจัดกลุ่มด้วย K-Means (K-Means Clustering)](#K-Means-Clustering)\n",
    "    * [แบบฝึกหัด #1 - สร้างอินสแตนซ์ `KMeans` อีกครั้ง (Exercise #1 - Make Another `KMeans` Instance)](#Exercise-#1---Make-Another-KMeans-Instance)\n",
    "4. [แสดงผลกลุ่มข้อมูลด้วยภาพ (Visualize the Clusters)](#Visualize-the-Clusters)"
   ]
  },
  {
   "cell_type": "markdown",
   "metadata": {},
   "source": [
    "## สภาพเเวดล้อม ##\n",
    "ครั้งแรกที่เราจะนำเข้า `cuml` ซึ่งเป็นไลบรารีที่เร่งความเร็วด้วย GPU ของ RAPIDS ที่มีอัลกอริทึมแมชชีนเลิร์นนิงทั่วไปอยู่มากมาย เราจะแสดงผลลัพธ์ของงานของคุณในสมุดบันทึกนี้ด้วย ดังนั้นเราจึงนำเข้า `cuxfilter` ด้วย"
   ]
  },
  {
   "cell_type": "code",
   "execution_count": null,
   "metadata": {},
   "outputs": [],
   "source": [
    "# DO NOT CHANGE THIS CELL\n",
    "import cudf\n",
    "import cuml\n",
    "\n",
    "import cuxfilter as cxf"
   ]
  },
  {
   "cell_type": "markdown",
   "metadata": {},
   "source": [
    "## โหลดข้อมูล ##\n",
    "สำหรับโน้ตบุ๊กนี้ เราจะโหลดข้อมูลประชากรของสหราชอาณาจักร (UK) ที่ทำความสะอาดแล้วมาใช้อีกครั้ง ในกรณีนี้ เราไม่ได้ดูที่ข้อมูลระดับเทศมณฑลโดยเฉพาะ ดังนั้นเราจะละเว้นคอลัมน์นั้นไป และเก็บไว้เฉพาะคอลัมน์พิกัดกริดเท่านั้น"
   ]
  },
  {
   "cell_type": "code",
   "execution_count": null,
   "metadata": {},
   "outputs": [],
   "source": [
    "# DO NOT CHANGE THIS CELL\n",
    "gdf = cudf.read_csv('./data/clean_uk_pop.csv', usecols=['easting', 'northing'])\n",
    "print(gdf.dtypes)\n",
    "gdf.shape"
   ]
  },
  {
   "cell_type": "code",
   "execution_count": null,
   "metadata": {},
   "outputs": [],
   "source": [
    "gdf.head()"
   ]
  },
  {
   "cell_type": "markdown",
   "metadata": {},
   "source": [
    "<a name='#s2-3'></a>\n",
    "## K-Means Clustering ##\n",
    "อัลกอริทึมการจัดกลุ่มแบบ **K-means Clustering** ซึ่งเป็นแบบ **ไม่กำกับดูแล (unsupervised)** จะค้นหาจำนวน **จุดศูนย์กลาง (centroids)** ที่กำหนดไว้ `k` จุดในข้อมูล และจัดกลุ่มแต่ละจุดให้อยู่กับจุดศูนย์กลางที่ใกล้ที่สุด K-means มีประสิทธิภาพเมื่อทราบจำนวนกลุ่ม `k` หรือมีการประมาณค่าที่ดี (เช่น จากแบบจำลองกลไกพื้นฐานของปัญหา)\n",
    "\n",
    "สมมติว่านอกเหนือจากการทราบการกระจายตัวของประชากร ซึ่งเราทราบอยู่แล้ว เราต้องการประมาณตำแหน่งที่ดีที่สุดในการสร้างคลังเสบียงเพื่อมนุษยธรรมจำนวนหนึ่งที่เราสามารถทำการหย่อนทางอากาศ (airdrop) และเข้าถึงประชากรได้อย่างมีประสิทธิภาพสูงสุด เราสามารถใช้ K-means โดยกำหนด `k` ให้เท่ากับจำนวนคลังเสบียงที่มีอยู่ และทำการฟิตกับตำแหน่งของประชากรเพื่อระบุตำแหน่งที่เป็นไปได้\n",
    "\n",
    "K-means ที่เร่งความเร็วด้วย GPU นั้นใช้งานง่ายพอๆ กับ scikit-learn ที่ใช้ CPU เท่านั้น ในชุดแบบฝึกหัดนี้ คุณจะใช้มันเพื่อเพิ่มประสิทธิภาพตำแหน่งสำหรับคลังเสบียง 5 แห่ง\n",
    "\n",
    "`cuml.KMeans()` จะเริ่มต้นอินสแตนซ์ K-means ตอนนี้ให้ใช้มันเพื่อเริ่มต้นอินสแตนซ์ K-means ที่ชื่อว่า `km` โดยส่งอาร์กิวเมนต์ที่ระบุชื่อ `n_clusters` กำหนดให้เท่ากับจำนวนที่เราต้องการคือ `5` ใช้เมธอด `km.fit` เพื่อฟิต `km` กับตำแหน่งของประชากรโดยส่งข้อมูลประชากรเข้าไป หลังจากฟิตแล้ว ให้เพิ่ม **ป้ายกำกับกลุ่ม (cluster labels)** กลับไปยัง `gdf` ในคอลัมน์ใหม่ที่ชื่อว่า `cluster` สุดท้าย คุณสามารถใช้ `km.cluster_centers_` เพื่อดูว่าอัลกอริทึมสร้างจุดศูนย์กลางทั้ง 5 จุดไว้ที่ใด\n",
    "\n",
    "ด้านล่างนี้ เราจะฝึกอัลกอริทึม K-means clustering เพื่อค้นหา 5 กลุ่ม"
   ]
  },
  {
   "cell_type": "code",
   "execution_count": null,
   "metadata": {},
   "outputs": [],
   "source": [
    "# DO NOT CHANGE THIS CELL\n",
    "# instantaite\n",
    "km = cuml.KMeans(n_clusters=5)\n",
    "\n",
    "# fit\n",
    "km.fit(gdf)\n",
    "\n",
    "# assign cluster as new column\n",
    "gdf['cluster'] = km.labels_\n",
    "km.cluster_centers_"
   ]
  },
  {
   "cell_type": "markdown",
   "metadata": {},
   "source": [
    "<a name='#s2-e1'></a>\n",
    "### แบบฝึกหัด #1 - สร้าง KMeans อีกอัน ###\n",
    "**คำแนะนำ**:\n",
    "\n",
    "* แก้ไขเฉพาะส่วนที่ระบุ `<FIXME>` และรันเซลล์ด้านล่างเพื่อสร้าง K-means instance โดยมี 6 คลัสเตอร์\n",
    "* แก้ไขเฉพาะส่วนที่ระบุ `<FIXME>` และรันเซลล์ด้านล่างเพื่อทำการ fit ข้อมูล \n"
   ]
  },
  {
   "cell_type": "code",
   "execution_count": null,
   "metadata": {},
   "outputs": [],
   "source": [
    "km = cuml.KMeans(n_clusters=<<<<FIXME>>>>)"
   ]
  },
  {
   "cell_type": "code",
   "execution_count": null,
   "metadata": {},
   "outputs": [],
   "source": [
    "km.<<<<FIXME>>>>(gdf)\n",
    "gdf['cluster'] = km.labels_\n",
    "km.cluster_centers_"
   ]
  },
  {
   "cell_type": "raw",
   "metadata": {
    "jupyter": {
     "source_hidden": true
    }
   },
   "source": [
    "km = cuml.KMeans(n_clusters=6)\n",
    "\n",
    "km.fit(gdf)\n",
    "gdf['cluster'] = km.labels_\n",
    "km.cluster_centers_"
   ]
  },
  {
   "cell_type": "markdown",
   "metadata": {},
   "source": [
    "Click ... for solution. "
   ]
  },
  {
   "cell_type": "markdown",
   "metadata": {},
   "source": [
    "<a id='#s2-4'></a>\n",
    "## แสดงภาพคลัสเตอร์ (Visualize the Clusters)  ##\n",
    "เพื่อช่วยให้เราเข้าใจว่ากลุ่มข้อมูล (clusters) ตั้งอยู่ที่ใด เราจะสร้างภาพแสดงผลที่แยกกลุ่มเหล่านั้นออกจากกัน โดยใช้สามขั้นตอนเดิม\n",
    "\n",
    "ด้านล่างนี้เราจะพล็อตกลุ่มข้อมูลด้วย cuxfilter"
   ]
  },
  {
   "cell_type": "code",
   "execution_count": null,
   "metadata": {},
   "outputs": [],
   "source": [
    "# DO NOT CHANGE THIS CELL\n",
    "# associate a data source with cuXfilter\n",
    "cxf_data = cxf.DataFrame.from_dataframe(gdf)\n",
    "\n",
    "# define charts\n",
    "scatter_chart = cxf.charts.datashader.scatter(x='easting', y='northing')\n",
    "\n",
    "# define widget using the `cluster` column for multiselect\n",
    "# use the same technique to scale the scatterplot, then add a widget to let us select which cluster to look at\n",
    "cluster_widget = cxf.charts.panel_widgets.multi_select('cluster')"
   ]
  },
  {
   "cell_type": "code",
   "execution_count": null,
   "metadata": {},
   "outputs": [],
   "source": [
    "# create dashboard\n",
    "dash = cxf_data.dashboard(charts=[scatter_chart],sidebar=[cluster_widget], theme=cxf.themes.dark, data_size_widget=True)"
   ]
  },
  {
   "cell_type": "code",
   "execution_count": null,
   "metadata": {},
   "outputs": [],
   "source": [
    "dash.app()"
   ]
  },
  {
   "cell_type": "code",
   "execution_count": null,
   "metadata": {},
   "outputs": [],
   "source": [
    "import IPython\n",
    "app = IPython.Application.instance()\n",
    "app.kernel.do_shutdown(True)"
   ]
  },
  {
   "cell_type": "markdown",
   "metadata": {},
   "source": [
    "**เยี่ยมมาก!** ไปยัง [สมุดบันทึกถัดไป](3-03_dbscan.ipynb) กันเลย"
   ]
  }
 ],
 "metadata": {
  "kernelspec": {
   "display_name": "Python 3 (ipykernel)",
   "language": "python",
   "name": "python3"
  },
  "language_info": {
   "codemirror_mode": {
    "name": "ipython",
    "version": 3
   },
   "file_extension": ".py",
   "mimetype": "text/x-python",
   "name": "python",
   "nbconvert_exporter": "python",
   "pygments_lexer": "ipython3",
   "version": "3.10.15"
  }
 },
 "nbformat": 4,
 "nbformat_minor": 4
}
