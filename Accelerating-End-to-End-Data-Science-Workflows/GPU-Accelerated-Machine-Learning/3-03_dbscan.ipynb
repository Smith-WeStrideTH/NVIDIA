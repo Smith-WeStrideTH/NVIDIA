{
 "cells": [
  {
   "cell_type": "markdown",
   "metadata": {},
   "source": [
    "# Accelerating End-to-End Data Science Workflows # "
   ]
  },
  {
   "cell_type": "markdown",
   "metadata": {},
   "source": [
    "## 03 - DBSCAN ##\n",
    "\n",
    "**สารบัญ**\n",
    "<br>\n",
    "สมุดบันทึก (notebook) นี้ใช้ DBSCAN ที่เร่งความเร็วด้วย GPU เพื่อระบุกลุ่มของผู้ติดเชื้อ โดยครอบคลุมหัวข้อด้านล่างนี้:\n",
    "1. [สภาพแวดล้อม](#Environment)\n",
    "2. [โหลดข้อมูล](#Load-Data)\n",
    "3. [การจัดกลุ่มด้วย DBSCAN](#DBSCAN-Clustering)\n",
    "    * [แบบฝึกหัดที่ 1 - สร้างอินสแตนซ์ DBSCAN อีกตัว](#Exercise-#1---Make-Another-DBSCAN-Instance)\n",
    "4. [แสดงภาพกลุ่มข้อมูล](#Visualize-the-Clusters)\n"
   ]
  },
  {
   "cell_type": "markdown",
   "metadata": {},
   "source": [
    "## สภาพเเวดล้อม ##"
   ]
  },
  {
   "cell_type": "code",
   "execution_count": null,
   "metadata": {},
   "outputs": [],
   "source": [
    "import cudf\n",
    "import cuml\n",
    "\n",
    "import cuxfilter as cxf"
   ]
  },
  {
   "cell_type": "markdown",
   "metadata": {},
   "source": [
    "## โหลดข้อมูล ##\n",
    "สำหรับโน้ตบุ๊กนี้ เราจะโหลดข้อมูลประชากรมาอีกครั้ง โดยเลือกเฉพาะคอลัมน์ที่เราต้องการเท่านั้น และได้มีการเพิ่มคอลัมน์ `infected` เข้ามาในข้อมูล เพื่อระบุว่าบุคคลนั้น ๆ ติดเชื้อไวรัสจำลองของเราหรือไม่"
   ]
  },
  {
   "cell_type": "code",
   "execution_count": null,
   "metadata": {},
   "outputs": [],
   "source": [
    "gdf = cudf.read_csv('./data/pop_sample.csv', dtype=['float32', 'float32', 'float32'])\n",
    "print(gdf.dtypes)\n",
    "gdf.shape"
   ]
  },
  {
   "cell_type": "code",
   "execution_count": null,
   "metadata": {},
   "outputs": [],
   "source": [
    "gdf.head()"
   ]
  },
  {
   "cell_type": "code",
   "execution_count": null,
   "metadata": {},
   "outputs": [],
   "source": [
    "gdf['infected'].value_counts()"
   ]
  },
  {
   "cell_type": "markdown",
   "metadata": {},
   "source": [
    "## การจัดกลุ่มด้วย DBSCAN ##\n",
    "DBSCAN เป็นอีกหนึ่งอัลกอริทึมการจัดกลุ่มแบบไม่มีผู้สอน (unsupervised clustering algorithm) ที่มีประสิทธิภาพเป็นพิเศษเมื่อไม่ทราบจำนวนกลุ่มล่วงหน้า และกลุ่มอาจมีรูปร่างเว้าหรือรูปร่างผิดปกติอื่นๆ ซึ่งมักจะเกิดขึ้นในการวิเคราะห์เชิงภูมิสารสนเทศ (geospatial analytics)\n",
    "\n",
    "ในชุดแบบฝึกหัดนี้ คุณจะใช้ DBSCAN เพื่อระบุกลุ่มของผู้ติดเชื้อตามตำแหน่งที่ตั้ง ซึ่งอาจช่วยให้เราสามารถระบุกลุ่มที่ได้รับเชื้อจากผู้ป่วยต้นกำเนิดเดียวกัน และช่วยในการวางแผนรับมือ\n",
    "\n",
    "สร้างอินสแตนซ์ DBSCAN โดยใช้ `cuml.DBSCAN` กำหนดค่าอาร์กิวเมนต์ `eps` (ระยะทางสูงสุดที่จุดหนึ่งสามารถอยู่ห่างจากจุดที่ใกล้ที่สุดในคลัสเตอร์ เพื่อที่จะถือว่าอยู่ในคลัสเตอร์นั้น) ให้เป็น `5000` เนื่องจากค่า `northing` และ `easting` ที่เราสร้างขึ้นนั้นวัดเป็นเมตร นี่จะช่วยให้เราสามารถระบุกลุ่มของผู้ติดเชื้อที่แต่ละบุคคลอาจแยกจากส่วนที่เหลือของกลุ่มได้ไกลถึง 5 กิโลเมตร\n",
    "\n",
    "ด้านล่างนี้ เราจะฝึกอัลกอริทึม DBSCAN เราเริ่มต้นด้วยการสร้าง DataFrame ใหม่จากแถวของ DataFrame ต้นฉบับที่ `infected` เป็น `1` (จริง) และตั้งชื่อว่า `infected_df` – ตรวจสอบให้แน่ใจว่าได้รีเซ็ตดัชนีของ DataFrame หลังจากนั้น ใช้ `dbscan.fit_predict` เพื่อทำการจัดกลุ่มบนคอลัมน์ `northing` และ `easting` ของ `infected_df` และเปลี่ยน Series ผลลัพธ์ให้เป็นคอลัมน์ใหม่ใน `infected_gdf` ที่ชื่อว่า \"cluster\" สุดท้าย ให้คำนวณจำนวนคลัสเตอร์ที่ DBSCAN ระบุ"
   ]
  },
  {
   "cell_type": "code",
   "execution_count": null,
   "metadata": {},
   "outputs": [],
   "source": [
    "dbscan = cuml.DBSCAN(eps=5000)\n",
    "# dbscan = cuml.DBSCAN(eps=10000)\n",
    "\n",
    "infected_df = gdf[gdf['infected'] == 1].reset_index()\n",
    "infected_df['cluster'] = dbscan.fit_predict(infected_df[['northing', 'easting']])\n",
    "infected_df['cluster'].nunique()"
   ]
  },
  {
   "cell_type": "markdown",
   "metadata": {},
   "source": [
    "### Exercise #1 - สร้าง DBSCAN Instance อีกอัน ###\n",
    "\n",
    "**คำแนะนำ**: <br>\n",
    "* แก้ไขเฉพาะส่วนที่ระบุว่า `<FIXME>` เท่านั้น แล้วรันเซลล์ด้านล่างเพื่อสร้าง DBSCAN instance โดยกำหนดค่า `eps` เป็น `10000`\n",
    "* แก้ไขเฉพาะส่วนที่ระบุว่า `<FIXME>` เท่านั้น แล้วรันเซลล์ด้านล่างเพื่อทำการ fit ข้อมูลและระบุกลุ่มคลัสเตอร์ที่ติดเชื้อ"
   ]
  },
  {
   "cell_type": "code",
   "execution_count": null,
   "metadata": {},
   "outputs": [],
   "source": [
    "dbscan = cuml.DBSCAN(<<<<FIXME>>>>)"
   ]
  },
  {
   "cell_type": "code",
   "execution_count": null,
   "metadata": {},
   "outputs": [],
   "source": [
    "infected_df = gdf[gdf['infected'] == 1].reset_index()\n",
    "infected_df['cluster'] = dbscan.<<<<FIXME>>>>(infected_df[['northing', 'easting']])\n",
    "infected_df['cluster'].nunique()"
   ]
  },
  {
   "cell_type": "raw",
   "metadata": {
    "jupyter": {
     "source_hidden": true
    }
   },
   "source": [
    "dbscan = cuml.DBSCAN(eps=10000)\n",
    "\n",
    "infected_df = gdf[gdf['infected'] == 1].reset_index()\n",
    "infected_df['cluster'] = dbscan.fit_predict(infected_df[['northing', 'easting']])\n",
    "infected_df['cluster'].nunique()"
   ]
  },
  {
   "cell_type": "markdown",
   "metadata": {},
   "source": [
    "Click ... for solution. "
   ]
  },
  {
   "cell_type": "markdown",
   "metadata": {},
   "source": [
    "## แสดงภาพกลุ่มข้อมูล"
   ]
  },
  {
   "cell_type": "markdown",
   "metadata": {},
   "source": [
    "เนื่องจากเรามีชื่อคอลัมน์เหมือนกันกับตัวอย่าง K-means ได้แก่ **`easting`**, **`northing`**, และ **`cluster`** เราจึงสามารถใช้โค้ดเดียวกันเพื่อแสดงผลคลัสเตอร์ได้เลย"
   ]
  },
  {
   "cell_type": "code",
   "execution_count": null,
   "metadata": {},
   "outputs": [],
   "source": [
    "infected_df.to_pandas().plot(kind='scatter', x='easting', y='northing', c='cluster')"
   ]
  },
  {
   "cell_type": "code",
   "execution_count": null,
   "metadata": {},
   "outputs": [],
   "source": [
    "import IPython\n",
    "app = IPython.Application.instance()\n",
    "app.kernel.do_shutdown(True)"
   ]
  },
  {
   "cell_type": "markdown",
   "metadata": {},
   "source": [
    "**ทำได้ดีมาก!** ไปยัง [สมุดบันทึกถัดไป](3-04_logistic_regression.ipynb) กันเลย"
   ]
  }
 ],
 "metadata": {
  "kernelspec": {
   "display_name": "Python 3 (ipykernel)",
   "language": "python",
   "name": "python3"
  },
  "language_info": {
   "codemirror_mode": {
    "name": "ipython",
    "version": 3
   },
   "file_extension": ".py",
   "mimetype": "text/x-python",
   "name": "python",
   "nbconvert_exporter": "python",
   "pygments_lexer": "ipython3",
   "version": "3.10.15"
  }
 },
 "nbformat": 4,
 "nbformat_minor": 4
}
