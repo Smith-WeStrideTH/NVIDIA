{
 "cells": [
  {
   "cell_type": "markdown",
   "metadata": {},
   "source": [
    "# Accelerating End-to-End Data Science Workflows # "
   ]
  },
  {
   "cell_type": "markdown",
   "metadata": {},
   "source": [
    "## 05 - KNN ##\n",
    "\n",
    "**สารบัญ**\n",
    "<br>\n",
    "สมุดบันทึก (notebook) นี้ใช้การระบุตำแหน่งเพื่อนบ้านที่ใกล้ที่สุดแบบเร่งความเร็วด้วย GPU (GPU-accelerated k-nearest neighbors) เพื่อระบุจุดเชื่อมต่อถนนที่ใกล้ที่สุดกับโรงพยาบาล สมุดบันทึกนี้ครอบคลุมส่วนด้านล่าง:\n",
    "1. [สภาพแวดล้อม (Environment)](#Environment)\n",
    "2. [โหลดข้อมูล(Load-Data)](#Load-Data)\n",
    "    * [จุดเชื่อมต่อถนน(Road-Nodes)](#Road-Nodes)\n",
    "    * [โรงพยาบาล (Hospitals)](#Hospitals)\n",
    "3. [เพื่อนบ้านที่ใกล้ที่สุด (K-Nearest Neighbors)](#K-Nearest-Neighbors)\n",
    "    * [จุดเชื่อมต่อถนนที่ใกล้โรงพยาบาลแต่ละแห่งที่สุด](#Road-Nodes-Closest-to-Each-Hospital)\n",
    "    * [การดูโรงพยาบาลที่เฉพาะเจาะจง](#Viewing-a-Specific-Hospital)\n"
   ]
  },
  {
   "cell_type": "markdown",
   "metadata": {},
   "source": [
    "## สภาพเเวดล้อม ##"
   ]
  },
  {
   "cell_type": "code",
   "execution_count": null,
   "metadata": {},
   "outputs": [],
   "source": [
    "from google.colab import drive\n",
    "drive.mount('/content/drive')"
   ]
  },
  {
   "cell_type": "code",
   "execution_count": null,
   "metadata": {},
   "outputs": [],
   "source": [
    "import cudf\n",
    "import cuml"
   ]
  },
  {
   "cell_type": "markdown",
   "metadata": {},
   "source": [
    "## โหลดข้อมูล"
   ]
  },
  {
   "cell_type": "markdown",
   "metadata": {},
   "source": [
    "### Road Nodes ###\n",
    "เราจะเริ่มต้นด้วยการอ่านข้อมูล **จุดเชื่อมถนน (road nodes)** ของเรา"
   ]
  },
  {
   "cell_type": "code",
   "execution_count": null,
   "metadata": {},
   "outputs": [],
   "source": [
    "# road_nodes = cudf.read_csv('./data/road_nodes_2-06.csv', dtype=['str', 'float32', 'float32', 'str'])\n",
    "road_nodes = cudf.read_csv('./data/road_nodes.csv', dtype=['str', 'float32', 'float32', 'str'])"
   ]
  },
  {
   "cell_type": "code",
   "execution_count": null,
   "metadata": {},
   "outputs": [],
   "source": [
    "road_nodes.dtypes"
   ]
  },
  {
   "cell_type": "code",
   "execution_count": null,
   "metadata": {},
   "outputs": [],
   "source": [
    "road_nodes.shape"
   ]
  },
  {
   "cell_type": "code",
   "execution_count": null,
   "metadata": {},
   "outputs": [],
   "source": [
    "road_nodes.head()"
   ]
  },
  {
   "cell_type": "markdown",
   "metadata": {},
   "source": [
    "### โรงพยาบาล ###\n",
    "ถัดไป เราจะโหลดข้อมูลโรงพยาบาล"
   ]
  },
  {
   "cell_type": "code",
   "execution_count": null,
   "metadata": {},
   "outputs": [],
   "source": [
    "hospitals = cudf.read_csv('./data/clean_hospitals_full.csv')"
   ]
  },
  {
   "cell_type": "code",
   "execution_count": null,
   "metadata": {},
   "outputs": [],
   "source": [
    "hospitals.dtypes"
   ]
  },
  {
   "cell_type": "code",
   "execution_count": null,
   "metadata": {},
   "outputs": [],
   "source": [
    "hospitals.shape"
   ]
  },
  {
   "cell_type": "code",
   "execution_count": null,
   "metadata": {},
   "outputs": [],
   "source": [
    "hospitals.head()"
   ]
  },
  {
   "cell_type": "markdown",
   "metadata": {},
   "source": [
    "## K-Nearest Neighbors ##\n",
    "เราจะใช้อัลกอริทึม **[เพื่อนบ้านใกล้ที่สุด k ตัว (k-nearest neighbors)](https://en.wikipedia.org/wiki/K-nearest_neighbors_algorithm)** เพื่อค้นหา **โหนดถนนที่ใกล้ที่สุด k โหนด** สำหรับโรงพยาบาลทุกแห่ง เราจะต้องทำการ Fit โมเดล KNN ด้วยข้อมูลถนน และจากนั้นจึงให้ตำแหน่งโรงพยาบาลแก่โมเดลที่เราฝึกมาแล้ว เพื่อให้มันส่งคืนถนนที่ใกล้ที่สุด\n",
    "\n",
    "สร้างโมเดล k-nearest neighbors ชื่อ `knn` โดยใช้ Constructor `cuml.NearestNeighbors` และส่ง Argument ที่มีชื่อว่า `n_neighbors` โดยตั้งค่าเป็น `3`\n",
    "\n",
    "สร้าง DataFrame ใหม่ชื่อ `road_locs` โดยใช้คอลัมน์ `east` และ `north` จาก `road_nodes` ลำดับของคอลัมน์ไม่สำคัญ ยกเว้นว่าเราจะต้องรักษามันให้สอดคล้องกันตลอดการทำงานหลายครั้ง ดังนั้นโปรดใช้ลำดับ `['east', 'north']`\n",
    "\n",
    "ทำการ Fit โมเดล `knn` ด้วย `road_locs` โดยใช้เมธอด `knn.fit`"
   ]
  },
  {
   "cell_type": "code",
   "execution_count": null,
   "metadata": {},
   "outputs": [],
   "source": [
    "\n",
    "knn = cuml.NearestNeighbors(n_neighbors=3)\n"
   ]
  },
  {
   "cell_type": "code",
   "execution_count": null,
   "metadata": {},
   "outputs": [],
   "source": [
    "\n",
    "road_locs = road_nodes[['east', 'north']]\n",
    "knn.fit(road_locs)\n"
   ]
  },
  {
   "cell_type": "markdown",
   "metadata": {},
   "source": [
    "### จุดเชื่อมถนนที่ใกล้โรงพยาบาลแต่ละแห่งมากที่สุด ###\n",
    "ใช้เมธอด `knn.kneighbors` เพื่อค้นหา **จุดเชื่อมถนน (road nodes)** ที่ใกล้ที่สุด 3 จุดสำหรับโรงพยาบาลแต่ละแห่ง เมธอด `knn.kneighbors` ต้องการ 2 อาร์กิวเมนต์: `X` ซึ่งคุณควรใช้คอลัมน์ `easting` และ `northing` ของ `hospitals` (อย่าลืมรักษำลำดับคอลัมน์ให้เหมือนตอนที่คุณ fit โมเดล `knn` ข้างต้น) และ `n_neighbors` ซึ่งคือจำนวนเพื่อนบ้านที่ต้องการค้นหา ในกรณีนี้คือ 3\n",
    "\n",
    "`knn.kneighbors` จะคืนค่าเป็น `cudf dataframes` 2 ชุด ซึ่งคุณควรตั้งชื่อว่า `distances` และ `indices` ตามลำดับ"
   ]
  },
  {
   "cell_type": "code",
   "execution_count": null,
   "metadata": {},
   "outputs": [],
   "source": [
    "distances, indices = knn.kneighbors(hospitals[['easting', 'northing']], 3) # order has to match the knn fit order (east, north)\n"
   ]
  },
  {
   "cell_type": "markdown",
   "metadata": {},
   "source": [
    "### การดูข้อมูลโรงพยาบาลเฉพาะแห่ง ###\n",
    "ตอนนี้เราสามารถใช้ `indices`, `hospitals` และ `road_nodes` เพื่อดึงข้อมูลเฉพาะของโรงพยาบาลที่ต้องการได้ ที่นี่เราจะมาดูข้อมูลโรงพยาบาลที่ **index 10** กัน ก่อนอื่นเราจะดูพิกัดกริดของโรงพยาบาลนี้:"
   ]
  },
  {
   "cell_type": "code",
   "execution_count": null,
   "metadata": {},
   "outputs": [],
   "source": [
    "SELECTED_RESULT = 10\n",
    "print('hospital coordinates:\\n', hospitals.loc[SELECTED_RESULT, ['easting', 'northing']], sep='')"
   ]
  },
  {
   "cell_type": "markdown",
   "metadata": {},
   "source": [
    "Now we view the road node IDs for the 3 closest road nodes:"
   ]
  },
  {
   "cell_type": "code",
   "execution_count": null,
   "metadata": {},
   "outputs": [],
   "source": [
    "nearest_road_nodes = indices.iloc[SELECTED_RESULT, 0:3]\n",
    "print('node_id:\\n', nearest_road_nodes, sep='')"
   ]
  },
  {
   "cell_type": "markdown",
   "metadata": {},
   "source": [
    "และสุดท้าย พิกัดกริดสำหรับจุดเชื่อมถนน (road nodes) ที่ใกล้ที่สุด 3 จุด ซึ่งเราสามารถยืนยันได้ว่าเรียงลำดับตามระยะทางที่เพิ่มขึ้นจากโรงพยาบาล:"
   ]
  },
  {
   "cell_type": "code",
   "execution_count": null,
   "metadata": {},
   "outputs": [],
   "source": [
    "print('road_node coordinates:\\n', road_nodes.loc[nearest_road_nodes, ['east', 'north']], sep='')"
   ]
  },
  {
   "cell_type": "code",
   "execution_count": null,
   "metadata": {},
   "outputs": [],
   "source": [
    "import IPython\n",
    "app = IPython.Application.instance()\n",
    "app.kernel.do_shutdown(True)"
   ]
  },
  {
   "cell_type": "markdown",
   "metadata": {},
   "source": [
    "**ทำได้ดีมาก!** ไปยัง [สมุดบันทึกถัดไป](3-06_xgboost.ipynb) กันเลย"
   ]
  }
 ],
 "metadata": {
  "kernelspec": {
   "display_name": "Python 3 (ipykernel)",
   "language": "python",
   "name": "python3"
  },
  "language_info": {
   "codemirror_mode": {
    "name": "ipython",
    "version": 3
   },
   "file_extension": ".py",
   "mimetype": "text/x-python",
   "name": "python",
   "nbconvert_exporter": "python",
   "pygments_lexer": "ipython3",
   "version": "3.10.15"
  }
 },
 "nbformat": 4,
 "nbformat_minor": 4
}
