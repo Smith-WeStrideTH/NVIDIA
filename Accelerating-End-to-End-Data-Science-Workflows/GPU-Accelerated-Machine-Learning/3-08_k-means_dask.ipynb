{
 "cells": [
  {
   "cell_type": "markdown",
   "metadata": {},
   "source": [
    "# Accelerating End-to-End Data Science Workflows #"
   ]
  },
  {
   "cell_type": "markdown",
   "metadata": {},
   "source": [
    "## 08 - K-Means แบบ Multi-GPU ด้วย Dask ##\n",
    "\n",
    "**สารบัญ**\n",
    "<br>\n",
    "สมุดบันทึกนี้ใช้ K-means ที่เร่งความเร็วด้วย GPU เพื่อระบุกลุ่มประชากรในลักษณะที่ปรับขนาดได้แบบหลายโหนด (multi-node) และหลาย GPU (multi-GPU) ด้วย Dask สมุดบันทึกนี้ครอบคลุมส่วนต่างๆ ดังนี้:\n",
    "1. [สภาพแวดล้อม](#Environment)\n",
    "2. [การโหลดและคงข้อมูล](#Load-and-Persist-Data)\n",
    "3. [การฝึกโมเดล](#Training-the-Model)\n",
    "    * [แบบฝึกหัดที่ 1 - นับจำนวนสมาชิกของคลัสเตอร์ที่อยู่ทางใต้สุด](#Exercise-#1---Count-Members-of-the-Southernmost-Cluster)"
   ]
  },
  {
   "cell_type": "markdown",
   "metadata": {},
   "source": [
    "## สภาพเเวดล้อม ##\n",
    "\n",
    "ขั้นแรก เราจะนำเข้า **โมดูลที่จำเป็น** เพื่อสร้างคลัสเตอร์ **Dask cuDF** เหมือนที่เราเคยทำมาก่อน เราต้องนำเข้า **CUDA context creators** หลังจากตั้งค่าคลัสเตอร์แล้ว เพื่อที่มันจะไม่ล็อกอยู่กับอุปกรณ์เพียงตัวเดียว"
   ]
  },
  {
   "cell_type": "code",
   "execution_count": null,
   "metadata": {},
   "outputs": [],
   "source": [
    "import subprocess\n",
    "import logging\n",
    "\n",
    "from dask.distributed import Client, wait, progress\n",
    "from dask_cuda import LocalCUDACluster"
   ]
  },
  {
   "cell_type": "code",
   "execution_count": null,
   "metadata": {},
   "outputs": [],
   "source": [
    "import cudf\n",
    "import dask_cudf\n",
    "\n",
    "import cuml\n",
    "from cuml.dask.cluster import KMeans"
   ]
  },
  {
   "cell_type": "code",
   "execution_count": null,
   "metadata": {},
   "outputs": [],
   "source": [
    "# create cluster\n",
    "cmd = \"hostname --all-ip-addresses\"\n",
    "process = subprocess.Popen(cmd.split(), stdout=subprocess.PIPE)\n",
    "output, error = process.communicate()\n",
    "IPADDR = str(output.decode()).split()[0]\n",
    "\n",
    "cluster = LocalCUDACluster(ip=IPADDR, silence_logs=logging.ERROR)\n",
    "client = Client(cluster)"
   ]
  },
  {
   "cell_type": "markdown",
   "metadata": {},
   "source": [
    "## โหลดและคงข้อมูล (Load and Persist Data) ##\n",
    "เราจะเริ่มต้นด้วยการโหลดข้อมูล ชุดข้อมูลมีคอลัมน์พิกัดกริดสองคอลัมน์ ได้แก่ **`easting`** และ **`northing`** ซึ่งได้มาจากชุดข้อมูลประชากรหลักที่เราได้จัดเตรียมไว้"
   ]
  },
  {
   "cell_type": "code",
   "execution_count": null,
   "metadata": {},
   "outputs": [],
   "source": [
    "ddf = dask_cudf.read_csv('./data/uk_pop5x_coords.csv', dtype=['float32', 'float32'])"
   ]
  },
  {
   "cell_type": "markdown",
   "metadata": {},
   "source": [
    "## การฝึกโมเดล (Training the Model) ##\n",
    "การฝึกโมเดล K-means มีความคล้ายคลึงอย่างมากกับเวอร์ชัน scikit-learn และ cuML เวอร์ชัน GPU เดี่ยว โดยการตั้งค่าไคลเอนต์และนำเข้าจากโมดูล `cuml.dask.cluster` อัลกอริทึมจะใช้คลัสเตอร์ Dask ในเครื่องที่เราได้ตั้งค่าไว้โดยอัตโนมัติ\n",
    "\n",
    "โปรดทราบว่าการเรียกใช้ `.fit` จะเป็นการเรียกให้ Dask ทำการคำนวณ\n",
    "\n",
    "เมื่อเราได้โมเดลที่ผ่านการฝึกแล้ว เราจะดึงจุดศูนย์กลางของคลัสเตอร์ (cluster centers) ออกมา และเปลี่ยนชื่อคอลัมน์จากชื่อทั่วไปอย่าง `0` และ `1` เพื่อให้สอดคล้องกับข้อมูลที่ใช้ในการฝึก\n"
   ]
  },
  {
   "cell_type": "code",
   "execution_count": null,
   "metadata": {},
   "outputs": [],
   "source": [
    "%%time\n",
    "dkm = KMeans(n_clusters=20)\n",
    "dkm.fit(ddf)"
   ]
  },
  {
   "cell_type": "code",
   "execution_count": null,
   "metadata": {},
   "outputs": [],
   "source": [
    "cluster_centers = dkm.cluster_centers_\n",
    "cluster_centers.columns = ddf.columns\n",
    "cluster_centers.dtypes"
   ]
  },
  {
   "cell_type": "markdown",
   "metadata": {},
   "source": [
    "### แบบฝึกหัดที่ 1 - นับสมาชิกของกลุ่มที่อยู่ใต้สุด ###\n",
    "ใช้ `cluster_centers` เพื่อระบุว่ากลุ่มใดอยู่ทางใต้สุด (มีค่า `northing` ต่ำที่สุด) ด้วยเมธอด `nsmallest` จากนั้นใช้ `dkm.predict` เพื่อรับป้ายกำกับสำหรับข้อมูล และสุดท้ายกรองป้ายกำกับเพื่อดูว่าแบบจำลองประมาณจำนวนบุคคลในกลุ่มนั้นมีจำนวนเท่าใด\n",
    "\n",
    "**คำแนะนำ**: <br>\n",
    "* แก้ไขเฉพาะ `<FIXME>` และรันเซลล์ด้านล่างเพื่อประมาณจำนวนบุคคลในกลุ่มที่อยู่ใต้สุด"
   ]
  },
  {
   "cell_type": "code",
   "execution_count": null,
   "metadata": {},
   "outputs": [],
   "source": [
    "south_idx = cluster_centers.nsmallest(1, 'northing').index[0]\n",
    "labels_predicted = dkm.<<<<FIXME>>>>(<<<<FIXME>>>>)\n",
    "labels_predicted[labels_predicted==south_idx].compute().shape[0]"
   ]
  },
  {
   "cell_type": "raw",
   "metadata": {
    "jupyter": {
     "source_hidden": true
    }
   },
   "source": [
    "south_idx = cluster_centers.nsmallest(1, 'northing').index[0]\n",
    "labels_predicted = dkm.predict(ddf)\n",
    "labels_predicted[labels_predicted==south_idx].compute().shape[0]\n"
   ]
  },
  {
   "cell_type": "markdown",
   "metadata": {},
   "source": [
    "Click ... for solution. "
   ]
  },
  {
   "cell_type": "code",
   "execution_count": null,
   "metadata": {},
   "outputs": [],
   "source": [
    "import IPython\n",
    "app = IPython.Application.instance()\n",
    "app.kernel.do_shutdown(True)"
   ]
  },
  {
   "cell_type": "markdown",
   "metadata": {},
   "source": [
    "**เยี่ยมมาก!**"
   ]
  }
 ],
 "metadata": {
  "kernelspec": {
   "display_name": "Python 3 (ipykernel)",
   "language": "python",
   "name": "python3"
  },
  "language_info": {
   "codemirror_mode": {
    "name": "ipython",
    "version": 3
   },
   "file_extension": ".py",
   "mimetype": "text/x-python",
   "name": "python",
   "nbconvert_exporter": "python",
   "pygments_lexer": "ipython3",
   "version": "3.10.15"
  }
 },
 "nbformat": 4,
 "nbformat_minor": 4
}
